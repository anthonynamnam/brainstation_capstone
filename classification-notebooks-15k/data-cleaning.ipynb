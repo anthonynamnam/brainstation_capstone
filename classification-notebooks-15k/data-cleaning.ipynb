{
 "cells": [
  {
   "cell_type": "markdown",
   "id": "742987e9-2e41-4169-a442-0f490ec20b1d",
   "metadata": {},
   "source": [
    "<div style=\"border-radius:10px; border:#33a0ff solid; padding: 15px; background-color: #f0f1ff; font-size:100%; text-align:left\">\n",
    "\n",
    "<h1> Used Car Listing Price Prediction</h1>\n",
    "    \n",
    "</div>"
   ]
  },
  {
   "cell_type": "markdown",
   "id": "ca067b73-a16d-4c2a-a941-fc3b05269174",
   "metadata": {},
   "source": [
    "<center><img src=\"https://raw.githubusercontent.com/anthonynamnam/anthonynamnam/main/icons/bs-capstone/car-banner.png\" alt=\"banner\" width=\"600\" /></center>"
   ]
  },
  {
   "cell_type": "markdown",
   "id": "b66e8d34-ab27-4586-9429-3558ed81de72",
   "metadata": {},
   "source": [
    "---"
   ]
  },
  {
   "cell_type": "markdown",
   "id": "f3b90859-b591-491a-b842-d2d3b68e2cd8",
   "metadata": {},
   "source": [
    "<div style=\"border-radius:10px; border:#33a0ff solid; padding: 15px; background-color: #f0f1ff; font-size:100%; text-align:left\">\n",
    "\n",
    "<h2> Project Overview</h2>\n",
    "    \n",
    "Please kindly refer to the github repo of this project: <a href=\"https://github.com/anthonynamnam/brainstation_capstone#project-overview\">Link</a>\n",
    "\n",
    "    \n",
    "</div>"
   ]
  },
  {
   "cell_type": "markdown",
   "id": "fa4e7047-01f5-4bf2-b004-f85b8714e096",
   "metadata": {},
   "source": [
    "\n",
    "---"
   ]
  },
  {
   "cell_type": "markdown",
   "id": "ca25381d-1292-4505-8404-a8cb823c3afc",
   "metadata": {
    "toc-hr-collapsed": true
   },
   "source": [
    "<div style=\"border-radius:10px; border:#33a0ff solid; padding: 15px; background-color: #f0f1ff; font-size:100%; text-align:left\">\n",
    "\n",
    "<h2> Notebook Overview</h2>\n",
    "  \n",
    "In the realm of data-driven projects, the journey from raw data to meaningful insights is a critical one. This phase of the project involves understanding the data at hand, evaluating its quality, and preparing it for analysis. Welcome to the heart of our data-driven adventure, where we delve into the processes of Data Description, Data Assessment, and Data Cleaning.\n",
    "    \n",
    "In this notebook, we will guide you through the essential steps of working with data:\n",
    "\n",
    "<ol>\n",
    "    <font size=3><li><b>Data Description 🔢</b></li></font>\n",
    "    <p>First, we will provide a comprehensive overview of the dataset at our disposal. Understanding the structure, dimensions, and key attributes of the data is the starting point for any data analysis.</p>\n",
    "    <font size=3><li><b>Data Assessment 🔎</b></li></font>\n",
    "    <p>In this phase, we scrutinize the data for any imperfections, such as missing values, inconsistencies, and outliers. We'll assess the dataset's quality to ensure that our analyses are built on a solid foundation.</p>\n",
    "    <font size=3><li><b>Data Cleaning 🧹</b></li></font>\n",
    "    <p>Once we've identified issues within the data, it's time to roll up our sleeves and perform the necessary cleaning. This includes handling missing data, resolving inconsistencies, and addressing outliers to ensure the dataset is ready for meaningful analysis.</p>\n",
    "\n",
    "</ol>\n",
    "Throughout this notebook, we will demonstrate various techniques and methodologies for these crucial data preparation steps. By the end of this journey, we will have a clean and well-described dataset, setting the stage for the exciting analyses and insights that lie ahead.\n",
    "<br></br>\n",
    "Let's dive in and get our data in tip-top shape for the next phases of our project!\n",
    "\n",
    "    \n",
    "    \n",
    "</div>"
   ]
  },
  {
   "cell_type": "markdown",
   "id": "10c8230d-5f81-4749-ab6a-28b9c7ffadc6",
   "metadata": {},
   "source": [
    "---"
   ]
  },
  {
   "cell_type": "markdown",
   "id": "09c8b58e-00c1-4523-9f12-0042dc478145",
   "metadata": {},
   "source": [
    "<div style=\"border-radius:10px; border:#33a0ff solid; padding: 15px; background-color: #f0f1ff; font-size:100%; text-align:left\">\n",
    "\n",
    "<a class=\"anchor\" id=\"1-toc\">\n",
    "<h2> Table of Contents  </h2>\n",
    "</a>  \n",
    "<ul>    \n",
    "    <li> <a href=\"#1-data\">Dataset Information</a></li>\n",
    "    <li> <a href=\"#1-setup\">Notebook Set Up</a></li>\n",
    "    <li> <a href=\"#1-func\">Functions</a></li>\n",
    "    <li> <a href=\"#1-load\">Data Loading</a></li>\n",
    "    <li> <a href=\"#1-assess\">Data Assessment</a></li>\n",
    "    <li> <a href=\"#1-clean\">Data Cleaning</a></li>\n",
    "    <li> <a href=\"#1-learn\">Learning/Takeaway</a></li>\n",
    "</ul>\n",
    "    \n",
    "</div>"
   ]
  },
  {
   "cell_type": "markdown",
   "id": "4e1f9d3a-2898-4fdc-9f3f-093ddbb81a22",
   "metadata": {},
   "source": [
    "---"
   ]
  },
  {
   "cell_type": "markdown",
   "id": "12542793-7602-40dc-a890-5bcba55dcc34",
   "metadata": {
    "toc-hr-collapsed": true
   },
   "source": [
    "<div style=\"border-radius:10px; border:#33a0ff solid; padding: 15px; background-color: #f0f1ff; font-size:100%; text-align:left\">\n",
    "\n",
    "<a class=\"anchor\" id=\"1-data\">\n",
    "    <h2> Dataset Information </h2>\n",
    "</a>    \n",
    "<b>Table of Content:</b>\n",
    "<ul>    \n",
    "    <li> <a href=\"#1-data-desc\">Data Description</a></li>\n",
    "    <li> <a href=\"#1-data-dict\">Data Dictionary</a></li>\n",
    "    <li> <a href=\"#1-data-link\">Data Source</a></li>\n",
    "    <li> <a href=\"#1-data-coverage\">Data Coverage</a></li>\n",
    "</ul>\n",
    "    \n",
    "</div>"
   ]
  },
  {
   "cell_type": "markdown",
   "id": "6b156583-ece2-4079-ac97-95edeb3aa499",
   "metadata": {},
   "source": [
    "<div style=\"border-radius:10px; border:#33a0ff solid; padding: 15px; background-color: #f0f1ff; font-size:100%; text-align:left\">\n",
    "<a class=\"anchor\" id=\"1-data-desc\">\n",
    "<h3> Data Description </h3>\n",
    "</a>\n",
    "</div>"
   ]
  },
  {
   "cell_type": "markdown",
   "id": "309e0caa-d5c1-4574-8c7b-6cb1b9db7cec",
   "metadata": {},
   "source": [
    "<div style=\"border-radius:10px; border: #ffd500 solid; padding: 15px; background-color: #ffffcf; font-size:100%; text-align:left\">\n",
    "\n",
    "<font size=\"4px\" color=\"#ffa600\"><b>📜 Info:</b></font>\n",
    "1. There are two separate datasets for Canada data (CA) and United States data (US). However, some data are wrong located. For example, there are records with `city` of `Burnaby` and `state` of `BC` in the US dataset.\n",
    "1. We will concatenate both datasets together and generate a column `country` during feature engineering stage.\n",
    "1. Both dataset have the same set of columns.\n",
    "1. Dimension of the Datasets:\n",
    "    |Filename|Country|#. of Rows|#. of Columns|File Size|\n",
    "    |---|:---:|:---:|:---:|:---:|\n",
    "    |`data/ca-dealers-used.csv`|`CA`|393603|21|69.60 MB|\n",
    "    |`data/us-dealers-used.csv`|`US`|7104304|21|1.28 GB|\n",
    "    ||**TOTAL**|7,497,907|21|\n",
    "    \n",
    "</div>"
   ]
  },
  {
   "cell_type": "markdown",
   "id": "2e3276d3-245b-416b-ac57-58a89a44c65d",
   "metadata": {},
   "source": [
    "---"
   ]
  },
  {
   "cell_type": "markdown",
   "id": "9e4b8559-91cd-4f85-b8b5-dd3957ef68d7",
   "metadata": {},
   "source": [
    "<div style=\"border-radius:10px; border:#33a0ff solid; padding: 15px; background-color: #f0f1ff; font-size:100%; text-align:left\">\n",
    "<a class=\"anchor\" id=\"1-data-dict\">\n",
    "<h3> Data Dictionary </h3>\n",
    "</a>\n",
    "</div>"
   ]
  },
  {
   "cell_type": "markdown",
   "id": "b33c14ce-e665-4916-9c5f-67020609981b",
   "metadata": {},
   "source": [
    "<div style=\"border-radius:10px; border: #ffd500 solid; padding: 15px; background-color: #ffffcf; font-size:100%; text-align:left\">\n",
    "<font size=\"4px\" color=\"#ffa600\"><b>📜 Info:</b></font>\n",
    "\n",
    "|Column|Data Type|Description|Remarks/Examples|\n",
    "|:---|:---|:---|:---|\n",
    "|`id`|`str`|Unique ID for each listing on different platforms.||\n",
    "|`vin`|`str`|`V`ehicle `I`dentifier `N`umber: A 17-char long unique string assigned to the vehicle.||\n",
    "|`price`|`float`|The listing price of the vehicle on the website.||\n",
    "|`miles`|`float`|The miles travelled / odometer value listed on the website.||\n",
    "|`stock_no`|`str`|Stock number of the car listed on the website.||\n",
    "|`year`|`int`|Model Year of the vehicle.||\n",
    "|`make`|`str`|Manufacturer of the vehicle.||\n",
    "|`model`|`str`|Model of the vehicle.||\n",
    "|`trim`|`str`|Trim Year of the vehicle.||\n",
    "|`body_type`|`str`|Body type of the vehicle.||\n",
    "|`vehicle_type`|`str`|Vehicle type of the vehicle.||\n",
    "|`drivetrain`|`str`|Drivetrain type of the vehicle.||\n",
    "|`transmission`|`str`|Transmission type of the vehicle.||\n",
    "|`fuel_type`|`str`|Supported fuel type of the vehicle.|Multiple fuel types in one cell|\n",
    "|`engine_size`|`float`|Size of the vehicle engine||\n",
    "|`engine_block`|`str`|Type of the vehicle engine||\n",
    "|`seller_name`|`str`|Name of the Dealer||\n",
    "|`street`|`str`|Dealer Location (Street)||\n",
    "|`city`|`str`|Dealer Location (City)||\n",
    "|`state`|`str`|Dealer Location (State)||\n",
    "|`zip`|`str`|Dealer Location (Zip Code / Postal Code)|Different formats in US and CA|\n",
    "    \n",
    "</div>"
   ]
  },
  {
   "cell_type": "markdown",
   "id": "b540c462-8ccd-433d-8f97-abe6cb217512",
   "metadata": {},
   "source": [
    "---"
   ]
  },
  {
   "cell_type": "markdown",
   "id": "ab2062c7-a061-4334-9419-41b29f007d1c",
   "metadata": {},
   "source": [
    "<div style=\"border-radius:10px; border:#33a0ff solid; padding: 15px; background-color: #f0f1ff; font-size:100%; text-align:left\">\n",
    "<a class=\"anchor\" id=\"1-data-link\">\n",
    "<h3> Data Source Link </h3>\n",
    "</a>\n",
    "</div>"
   ]
  },
  {
   "cell_type": "markdown",
   "id": "bc6e77e8-8af0-4392-a992-6d4af344dff6",
   "metadata": {},
   "source": [
    "<div style=\"border-radius:10px; border: #ffd500 solid; padding: 15px; background-color: #ffffcf; font-size:100%; text-align:left\">\n",
    "<li>Dataset can be found <a href=\"https://www.kaggle.com/datasets/3ea0a6a45dbd4713a8759988845f1a58038036d84515ded58f65a2ff2bd32e00/data\">here</a> </li>\n",
    "</div>"
   ]
  },
  {
   "cell_type": "markdown",
   "id": "896e9bfa-318e-40e7-994d-35b73304d63d",
   "metadata": {},
   "source": [
    "---"
   ]
  },
  {
   "cell_type": "markdown",
   "id": "3e853a6c-dfad-4681-a665-70773cf6d978",
   "metadata": {},
   "source": [
    "<div style=\"border-radius:10px; border:#33a0ff solid; padding: 15px; background-color: #f0f1ff; font-size:100%; text-align:left\">\n",
    "<a class=\"anchor\" id=\"1-data-coverage\">\n",
    "<h3> Data Coverage </h3>\n",
    "</a>\n",
    "</div>"
   ]
  },
  {
   "cell_type": "markdown",
   "id": "9fef65ca-64f2-4d23-9179-b07e21a8f375",
   "metadata": {},
   "source": [
    "<div style=\"border-radius:10px; border: #ffd500 solid; padding: 15px; background-color: #ffffcf; font-size:100%; text-align:left\">\n",
    "<font size=\"4px\" color=\"#ffa600\"><b>📜 Info:</b></font>\n",
    "\n",
    "1. Temporal Coverage \n",
    "    - Starting Date: 01 April 2015\n",
    "    - Ending Date: 05 Jun 2021\n",
    "    \n",
    "2. Geospatial Coverage\n",
    "    - North America (Canada and United States)\n",
    "\n",
    "<div>"
   ]
  },
  {
   "cell_type": "markdown",
   "id": "a982ac7c-a612-41d2-9125-58671300269a",
   "metadata": {},
   "source": [
    "[Back-to-top](#1-toc)\n",
    "\n",
    "---"
   ]
  },
  {
   "cell_type": "markdown",
   "id": "029bd0af-9338-4ee4-a997-f8cb64591912",
   "metadata": {
    "toc-hr-collapsed": true
   },
   "source": [
    "<div style=\"border-radius:10px; border:#33a0ff solid; padding: 15px; background-color: #f0f1ff; font-size:100%; text-align:left\">\n",
    "<a class=\"anchor\" id=\"1-setup\">\n",
    "<h2> Notebook Set Up </h2>\n",
    "</a>\n",
    "    \n",
    "<b>Table of Contents for this part: </b>\n",
    "<ul>    \n",
    "    <li> <a href=\"#1-install\">Install Library</a></li>\n",
    "    <li> <a href=\"#1-import\">Import Library</a></li>\n",
    "    <li> <a href=\"#1-constant\">Global Constant</a></li>\n",
    "</ul>\n",
    "    \n",
    "</div>"
   ]
  },
  {
   "cell_type": "markdown",
   "id": "92d052d2-d2e3-496f-9fca-918fee54255a",
   "metadata": {},
   "source": [
    "<div style=\"border-radius:10px; border:#33a0ff solid; padding: 15px; background-color: #f0f1ff; font-size:100%; text-align:left\">\n",
    "<a class=\"anchor\" id=\"1-install\">\n",
    "<h3> Install Library </h3>\n",
    "</a>\n",
    "</div>"
   ]
  },
  {
   "cell_type": "code",
   "execution_count": 1,
   "id": "cc51287a-79ba-4353-aa5d-b2ca302a3666",
   "metadata": {
    "tags": []
   },
   "outputs": [
    {
     "name": "stdout",
     "output_type": "stream",
     "text": [
      "Requirement already satisfied: geopy in /Users/anthonykwok/anaconda3/lib/python3.11/site-packages (2.4.0)\n",
      "Requirement already satisfied: geographiclib<3,>=1.52 in /Users/anthonykwok/anaconda3/lib/python3.11/site-packages (from geopy) (2.0)\n"
     ]
    }
   ],
   "source": [
    "# Install required library\n",
    "!pip install geopy"
   ]
  },
  {
   "cell_type": "markdown",
   "id": "248535fb-9e82-4faf-8f3a-69804b1fbf8e",
   "metadata": {},
   "source": [
    "---"
   ]
  },
  {
   "cell_type": "markdown",
   "id": "524af996-3aba-4bde-9f03-62db4f511c91",
   "metadata": {},
   "source": [
    "<div style=\"border-radius:10px; border:#33a0ff solid; padding: 15px; background-color: #f0f1ff; font-size:100%; text-align:left\">\n",
    "<a class=\"anchor\" id=\"1-import\">\n",
    "<h3> Import Library </h3>\n",
    "</a>\n",
    "</div>"
   ]
  },
  {
   "cell_type": "code",
   "execution_count": 2,
   "id": "eb1e73ad",
   "metadata": {
    "tags": []
   },
   "outputs": [],
   "source": [
    "# Import basic library\n",
    "import os\n",
    "import math\n",
    "import time\n",
    "import sys\n",
    "from typing import Optional\n",
    "\n",
    "# Import data science tools\n",
    "import numpy as np\n",
    "import pandas as pd\n",
    "\n",
    "# Import data visualization tools\n",
    "import matplotlib.pyplot as plt\n",
    "import seaborn as sns\n",
    "\n",
    "# Additional Library\n",
    "from geopy.geocoders import Nominatim\n",
    "\n",
    "import warnings"
   ]
  },
  {
   "cell_type": "markdown",
   "id": "a0ec4211-072e-4766-854b-5264f236880e",
   "metadata": {},
   "source": [
    "<div style=\"border-radius:10px; border:#33a0ff solid; padding: 15px; background-color: #f0f1ff; font-size:100%; text-align:left\">\n",
    "<a class=\"anchor\" id=\"1-constant\">\n",
    "<h3> Global Constant </h3>\n",
    "</a>\n",
    "</div>"
   ]
  },
  {
   "cell_type": "code",
   "execution_count": 3,
   "id": "c98a7274-9b83-4e4f-b3d2-d6e90940d883",
   "metadata": {
    "tags": []
   },
   "outputs": [],
   "source": [
    "RANDOM_SEED = 42"
   ]
  },
  {
   "cell_type": "code",
   "execution_count": 4,
   "id": "2a872fde-cd4f-4f44-97a6-4c3bfcbfd031",
   "metadata": {
    "tags": []
   },
   "outputs": [],
   "source": [
    "np.random.seed(RANDOM_SEED)"
   ]
  },
  {
   "cell_type": "code",
   "execution_count": null,
   "id": "ba4ef049-7b85-4611-b11b-59f2507ca951",
   "metadata": {},
   "outputs": [],
   "source": [
    "warnings.filterwarnings('ignore')"
   ]
  },
  {
   "cell_type": "markdown",
   "id": "614cdfba-d2da-423d-ae90-d6b008976adc",
   "metadata": {},
   "source": [
    "[Back-to-top](#1-toc)\n",
    "\n",
    "---"
   ]
  },
  {
   "cell_type": "markdown",
   "id": "eab6254b-8f76-4544-b488-7f35ae01b5bf",
   "metadata": {
    "tags": [],
    "toc-hr-collapsed": true
   },
   "source": [
    "<div style=\"border-radius:10px; border:#33a0ff solid; padding: 15px; background-color: #f0f1ff; font-size:100%; text-align:left\">\n",
    "<a class=\"anchor\" id=\"1-func\">\n",
    "<h2> Functions </h2>\n",
    "</a>\n",
    "<b>Table of Contents for this part: </b>\n",
    "<ul>    \n",
    "    <li> <a href=\"#1-func-load\">Functions for Data Loading</a></li>\n",
    "    <li> <a href=\"#1-func-print\">Functions for Dataframe Info</a></li>\n",
    "    <li> <a href=\"#1-func-edit\">Functions for Edit DataFrame</a></li>\n",
    "</ul>\n",
    "</div>"
   ]
  },
  {
   "cell_type": "markdown",
   "id": "99cc2195-dfca-4414-9076-9f8db6ec6ce7",
   "metadata": {
    "tags": []
   },
   "source": [
    "<div style=\"border-radius:10px; border:#33a0ff solid; padding: 15px; background-color: #f0f1ff; font-size:100%; text-align:left\">\n",
    "<a class=\"anchor\" id=\"1-func-load\">\n",
    "<h3> Helper Functions (Load Data) </h3>\n",
    "</a>\n",
    "</div>"
   ]
  },
  {
   "cell_type": "code",
   "execution_count": 5,
   "id": "06ce3821-5027-4531-96d2-101924ba1ec5",
   "metadata": {
    "tags": []
   },
   "outputs": [],
   "source": [
    "# Helper Function to load dataset\n",
    "CSV_COL_DTYPE = {\n",
    "    \"id\":str,\n",
    "    \"vin\":str,\n",
    "    \"price\":float,\n",
    "    \"miles\":float,\n",
    "    \"stock_no\":str,\n",
    "    \"year\":float,\n",
    "    \"make\":str,\n",
    "    \"model\":str,\n",
    "    \"trim\":str,\n",
    "    \"body_type\":str,\n",
    "    \"vehicle_type\":str,\n",
    "    \"drivetrain\":str,\n",
    "    \"transmission\":str,\n",
    "    \"fuel_type\":str,\n",
    "    \"engine_size\":float,\n",
    "    \"engine_block\":str,\n",
    "    \"seller_name\":str,\n",
    "    \"street\":str,\n",
    "    \"city\":str,\n",
    "    \"state\":str,\n",
    "    \"zip\":str,\n",
    "}\n",
    "\n",
    "PARQUET_COL_DTYPE = CSV_COL_DTYPE.copy()\n",
    "CA_DATA_PATH = \"data/ca-dealers-used.csv\"\n",
    "US_DATA_PATH = \"data/us-dealers-used.csv\"\n",
    "PARQUET_DATA_PATH = \"data/combined-data.parquet\"\n",
    "\n",
    "def load_ca_dataset() -> Optional[pd.DataFrame]: \n",
    "    \"\"\" \n",
    "    Description\n",
    "    -----\n",
    "    Wrapper function to load the Canada dataset from csv file.\n",
    "    If no csv file found, print a message and return None.\n",
    "    \n",
    "    Args\n",
    "    -----\n",
    "    None\n",
    "    \n",
    "    Returns\n",
    "    -----\n",
    "    df (pd.DataFrame or None): the loaded dataframe for Canada dataset\n",
    "    \n",
    "    Example\n",
    "    -----\n",
    "    load_ca_dataset() -> the Canada dataset dataframe \n",
    "    \n",
    "    \"\"\"\n",
    "    \n",
    "    if os.path.isfile(CA_DATA_PATH):\n",
    "        print(\"Reading Canada data...\")\n",
    "        return pd.read_csv(CA_DATA_PATH,\n",
    "                           dtype = CSV_COL_DTYPE)\n",
    "    else:\n",
    "        prnt(f\"{CA_DATA_PATH} not found\")\n",
    "        return \n",
    "    \n",
    "\n",
    "def load_us_dataset() -> Optional[pd.DataFrame]:\n",
    "    \"\"\" \n",
    "    Description\n",
    "    -----\n",
    "    Wrapper function to load the United States dataset from csv file.\n",
    "    If no csv file found, print a message and return None.\n",
    "    \n",
    "    Args\n",
    "    -----\n",
    "    None\n",
    "    \n",
    "    Returns\n",
    "    -----\n",
    "    df (pd.DataFrame or None): the loaded dataframe for United States dataset\n",
    "    \n",
    "    Example\n",
    "    -----\n",
    "    load_us_dataset() -> the United States dataset dataframe \n",
    "    \n",
    "    \"\"\"\n",
    "    \n",
    "    if os.path.isfile(US_DATA_PATH):\n",
    "        print(\"Reading US data...\")\n",
    "        return pd.read_csv(US_DATA_PATH,\n",
    "                           dtype = CSV_COL_DTYPE)\n",
    "    else:\n",
    "        prnt(f\"{US_DATA_PATH} not found\")\n",
    "        return \n",
    "\n",
    "\n",
    "def load_combined_dataset() -> Optional[pd.DataFrame]:\n",
    "    \"\"\" \n",
    "    Description\n",
    "    -----\n",
    "    Wrapper function to load the combined parquet dataset for Canada and United States dataset.\n",
    "    If no csv file found, load the Canada and United States dataset, combine them, and save as parquet format.\n",
    "    \n",
    "    Args\n",
    "    -----\n",
    "    None\n",
    "    \n",
    "    Returns\n",
    "    -----\n",
    "    df (pd.DataFrame): the loaded dataframe for both Canada and United States dataset\n",
    "    \n",
    "    Example\n",
    "    -----\n",
    "    load_combined_dataset() -> the combined dataset dataframe for Canada and United States dataset\n",
    "    \n",
    "    \"\"\"\n",
    "    print(\"Reading combined dataset...\")\n",
    "    if os.path.isfile(PARQUET_DATA_PATH):\n",
    "        df = pd.read_parquet(path = PARQUET_DATA_PATH,\n",
    "                             columns = PARQUET_COL_DTYPE)\n",
    "        \n",
    "        print(\"Dataset Loaded!\")\n",
    "        return df\n",
    "    else:\n",
    "        # Print not found message\n",
    "        print(\"Combined Dataset not found! Reload the original dataset.\")\n",
    "        \n",
    "        # Loading original dataset\n",
    "        ca_df = load_ca_dataset()\n",
    "        assert ca_df is not None, f\"No Canada dataset found!\"\n",
    "        us_df = load_us_dataset()\n",
    "        assert us_df is not None, f\"No US dataset found!\"\n",
    "        \n",
    "        # Check if both dataset have the same set of column names\n",
    "        assert (ca_df.columns == us_df.columns).all(), \"There are difference between columns name in Canada and US dataset\"\n",
    "        \n",
    "        # Combine both dataset\n",
    "        print(\"Combining both dataset...\")\n",
    "        df = pd.concat([ca_df,us_df])\n",
    "        \n",
    "        # Save the data as parquet file\n",
    "        df.to_parquet(path=PARQUET_DATA_PATH,\n",
    "                      index = False)\n",
    "    \n",
    "        # Return the combined dataset in dataframe format\n",
    "        print(\"Dataset Loaded!\")\n",
    "        return df\n",
    "    "
   ]
  },
  {
   "cell_type": "markdown",
   "id": "bfc27020-7872-41c8-8c31-182dbc963e0f",
   "metadata": {
    "tags": []
   },
   "source": [
    "<div style=\"border-radius:10px; border:#33a0ff solid; padding: 15px; background-color: #f0f1ff; font-size:100%; text-align:left\">\n",
    "<a class=\"anchor\" id=\"1-func-print\">\n",
    "<h3> Helper Functions (Print Info) </h3>\n",
    "</a>\n",
    "</div>"
   ]
  },
  {
   "cell_type": "code",
   "execution_count": 6,
   "id": "3802a893-4b7e-4770-b843-de7ae4188f9c",
   "metadata": {
    "tags": []
   },
   "outputs": [],
   "source": [
    "# Helper Functions to print df info and statement\n",
    "import pandas as pd\n",
    "\n",
    "def print_num_row(df: pd.DataFrame) -> None:\n",
    "    \"\"\"\n",
    "    Description\n",
    "    -----\n",
    "    Retrieve the number of rows of dataframe and print it as a statement.\n",
    "    \n",
    "    Args\n",
    "    -----\n",
    "    df (pd.DataFrame): the target dataframe\n",
    "    \n",
    "    Returns\n",
    "    -----\n",
    "    None\n",
    "    \n",
    "    Example\n",
    "    -----\n",
    "    df = pd.DataFrame(data = {\"height\":[147,190],\"weight\":[47,72],\"age\":[12,28]},index = [0,1])\n",
    "    print_num_row(df)  =>\n",
    "        |\n",
    "        | \"The dataframe has 2 rows of record now.\"\n",
    "        |\n",
    "    \n",
    "    \n",
    "    \"\"\"\n",
    "    print(f\"The dataframe has {df.shape[0]} rows of record now.\")\n",
    "    return\n",
    "    \n",
    "\n",
    "def print_num_col(df: pd.DataFrame) -> None:\n",
    "    \"\"\"\n",
    "    Description\n",
    "    -----\n",
    "    Retrieve the number of columns of dataframe and print it as a statement.\n",
    "    \n",
    "    Args\n",
    "    -----\n",
    "    df (pd.DataFrame): the target dataframe\n",
    "    \n",
    "    Returns\n",
    "    -----\n",
    "    None\n",
    "    \n",
    "    Example\n",
    "    -----\n",
    "    df = pd.DataFrame(data = {\"height\":[147,190],\"weight\":[47,72],\"age\":[12,28]},index = [0,1])\n",
    "    print_num_col(df) => \n",
    "        |\n",
    "        | \"The dataframe has 3 columns now.\"\n",
    "        |\n",
    "    \n",
    "    \n",
    "    \"\"\"\n",
    "    print(f\"The dataframe has {df.shape[1]} columns now.\")\n",
    "    return\n",
    "        \n",
    "def print_dim(df: pd.DataFrame) -> None:\n",
    "    \"\"\"\n",
    "    Description\n",
    "    -----\n",
    "    Retrieve the shape of dataframe and print it as a statement.\n",
    "    \n",
    "    Args\n",
    "    -----\n",
    "    df (pd.DataFrame): the target dataframe\n",
    "    \n",
    "    Returns\n",
    "    -----\n",
    "    None\n",
    "    \n",
    "    Example\n",
    "    -----\n",
    "    abc_df = pd.DataFrame(data = {\"height\":[147,190],\"weight\":[47,72],\"age\":[12,28]},index = [0,1])\n",
    "    print_dim(abc_df) =>\n",
    "        |\n",
    "        | \"There are 2 rows and 3 columns in this dataframe now.\"\n",
    "        |\n",
    "    \n",
    "    \n",
    "    \"\"\"\n",
    "    print(f\"There are {df.shape[0]} rows and {df.shape[1]} columns in this dataframe now.\")\n",
    "    return\n",
    "\n",
    "\n",
    "def print_null_count(df: pd.DataFrame,cols:list = []) -> None:\n",
    "    \"\"\"\n",
    "    Description\n",
    "    -----\n",
    "    Count the null value in each columns.\n",
    "    If `cols` is provided, only show the null value count for the columns in `cols`. \n",
    "    Otherwise, show null value count for all columns.\n",
    "    \n",
    "    Args\n",
    "    -----\n",
    "    df (pd.DataFrame): target dataframe\n",
    "    cols (list): the column names to show the null value count. Default: []\n",
    "    \n",
    "    Returns\n",
    "    -----\n",
    "    None\n",
    "    \n",
    "    Example\n",
    "    -----\n",
    "    abc_df = pd.DataFrame(data = {\"height\":[147,190],\"weight\":[47,np.nan],\"age\":[np.nan,28]},index = [0,1])\n",
    "    print_null_count(abc_df) => \n",
    "        |\n",
    "        | === Null Count ===\n",
    "        | height    0\n",
    "        | weight    1\n",
    "        | age       2\n",
    "        | dtype: int64\n",
    "        |\n",
    "        \n",
    "    print_null_count(abc_df,cols=[\"age\"]) => \n",
    "        |\n",
    "        | === Null Count ===\n",
    "        | Column `age`: 2\n",
    "        |\n",
    "        \n",
    "    print_null_count(abc_df,cols=[\"age\",\"weight\"]) => \n",
    "        |\n",
    "        | === Null Count ===\n",
    "        | Column `age`: 2\n",
    "        | Column `weight`: 1\n",
    "        |\n",
    "    \n",
    "    \"\"\"\n",
    "    if len(cols) == 0:\n",
    "        null_count = df.isnull().sum()\n",
    "        \n",
    "        print(\"=== Null Count ===\")\n",
    "        print(null_count)\n",
    "    else:\n",
    "        assert set(cols).issubset(df.columns)\n",
    "        null_count = df[cols].isnull().sum()\n",
    "        \n",
    "        print(\"=== Null Count ===\")\n",
    "        for col in cols:\n",
    "            print(f\"Column `{col}`: {null_count[col]}\")\n",
    "    return \n",
    "\n",
    "\n",
    "def print_null_pct(df: pd.DataFrame,cols:list = []) -> None:\n",
    "    \"\"\"\n",
    "    Description\n",
    "    -----\n",
    "    Count the null percentage in each columns.\n",
    "    If `cols` is provided, only show the null percentage for the columns in `cols`. \n",
    "    Otherwise, show null percentage for all columns.\n",
    "    \n",
    "    Args\n",
    "    -----\n",
    "    df (pd.DataFrame): target dataframe\n",
    "    cols (list): the column names to show the null percentage. Default: []\n",
    "    \n",
    "    Returns\n",
    "    -----\n",
    "    None\n",
    "    \n",
    "    Example\n",
    "    -----\n",
    "    abc_df = pd.DataFrame(data = {\"height\":[147,190],\"weight\":[47,np.nan],\"age\":[np.nan,np.nan]},index = [0,1])\n",
    "    print_null_pct(abc_df) => \n",
    "        |\n",
    "        | === Null Count Precentage ===\n",
    "        | height      0.0%\n",
    "        | weight     50.0%\n",
    "        | age       100.0%\n",
    "        | dtype: object\n",
    "        |\n",
    "        \n",
    "    print_null_pct(abc_df,cols=[\"weight\"]) => \n",
    "        |\n",
    "        | === Null Count Precentage ===\n",
    "        | Column weight: 50.0%\n",
    "        |\n",
    "    \n",
    "    \"\"\"\n",
    "    total_row = df.shape[0]\n",
    "    if len(cols) == 0:\n",
    "        null_count = df.isnull().sum()\n",
    "        null_pct = null_count / total_row * 100\n",
    "        \n",
    "        print(\"=== Null Count Precentage ===\")\n",
    "        print(null_pct.round(2).astype(str)+\"%\")\n",
    "    else:\n",
    "        assert set(cols).issubset(df.columns)\n",
    "        null_count = df[cols].isnull().sum()\n",
    "        null_pct = null_count / total_row * 100\n",
    "\n",
    "        print(\"=== Null Count Precentage ===\")\n",
    "        for col in cols:\n",
    "            print(f\"Column {col}: {round(null_pct[col],4)}%\")\n",
    "    return\n",
    "\n",
    "def print_duplicated_count(df: pd.DataFrame) -> None:\n",
    "    \"\"\"\n",
    "    Description\n",
    "    -----\n",
    "    Count the number of duplicated rows.\n",
    "    \n",
    "    Args\n",
    "    -----\n",
    "    df (pd.DataFrame): target dataframe\n",
    "    \n",
    "    Returns\n",
    "    -----\n",
    "    None\n",
    "    \n",
    "    Example\n",
    "    -----\n",
    "    abc_df = pd.DataFrame(data = {\"height\":[147,190,147],\"weight\":[47,np.nan,47],\"age\":[13,27,13]},index = [0,1,2])\n",
    "    print_duplicated_count(abc_df) => \n",
    "        |\n",
    "        | There are 1 duplicated rows\n",
    "        | \n",
    "        \n",
    "    \"\"\"\n",
    "    print(f\"There are {df.duplicated().sum()} duplicated rows\")\n",
    "    return\n",
    "\n"
   ]
  },
  {
   "cell_type": "markdown",
   "id": "7d24b90a-8ab3-4d03-a8ba-d651dda9528c",
   "metadata": {
    "tags": []
   },
   "source": [
    "<div style=\"border-radius:10px; border:#33a0ff solid; padding: 15px; background-color: #f0f1ff; font-size:100%; text-align:left\">\n",
    "<a class=\"anchor\" id=\"1-func-edit\">\n",
    "<h3> Helper Functions (Edit Dataframe) </h3>\n",
    "</a>\n",
    "</div>"
   ]
  },
  {
   "cell_type": "code",
   "execution_count": 7,
   "id": "89202287-1c1e-4e0d-86a6-b7ffcd3648b2",
   "metadata": {
    "tags": []
   },
   "outputs": [],
   "source": [
    "def drop_cols_if_exist(df: pd.DataFrame,cols_to_drop:list) -> pd.DataFrame:\n",
    "    \"\"\"\n",
    "    Description\n",
    "    -----\n",
    "    Drop a column from a dataframe with inplace = True. Only execute the dropping if the cols exist.\n",
    "    \n",
    "    Args\n",
    "    -----\n",
    "    df (pd.DataFrame): the target dataframe\n",
    "    cols_to_drop (list): the list of column to be dropped\n",
    "    \n",
    "    Returns\n",
    "    -----\n",
    "    df (pd.DataFrame): the dataframe with columns dropped\n",
    "    \n",
    "    Example\n",
    "    -----\n",
    "    # Create a DataFrame\n",
    "    abc_df = pd.DataFrame(data = {\"height\":[147,190,147],\"weight\":[47,np.nan,47],\"age\":[13,27,13]},index = [0,1,2])\n",
    "    print(abc_df)  =>\n",
    "        |\n",
    "        |    height  weight  age\n",
    "        | 0     147    47.0   13\n",
    "        | 1     190     NaN   27\n",
    "        | 2     147    47.0   13\n",
    "        |\n",
    "        \n",
    "    # Drop columns if exist\n",
    "    dropped_abc_df = drop_cols_if_exist(abc_df,cols_to_drop=[\"weight\"])\n",
    "    print(dropped_abc_df)   =>\n",
    "        | Successfully dropped columns: {'weight'}\n",
    "        |    height  age\n",
    "        | 0     147   13\n",
    "        | 1     190   27\n",
    "        | 2     147   13\n",
    "    \n",
    "    \n",
    "    \"\"\"\n",
    "    intersect_cols = set(cols_to_drop).intersection(df.columns)\n",
    "    df.drop(columns=intersect_cols,inplace=True)\n",
    "    print(f\"Successfully dropped columns: {intersect_cols}\")\n",
    "    return df    "
   ]
  },
  {
   "cell_type": "markdown",
   "id": "ca264f76-4317-4ede-86c3-b3569072766e",
   "metadata": {},
   "source": [
    "[Back-to-top](#1-toc)\n",
    "\n",
    "---"
   ]
  },
  {
   "cell_type": "markdown",
   "id": "903fb1ee-c054-4320-a5e3-3728f3ba7298",
   "metadata": {
    "tags": [],
    "toc-hr-collapsed": true
   },
   "source": [
    "<div style=\"border-radius:10px; border:#33a0ff solid; padding: 15px; background-color: #f0f1ff; font-size:100%; text-align:left\">\n",
    "<a class=\"anchor\" id=\"1-load\">\n",
    "<h2> Data Loading </h2>\n",
    "</a>\n",
    "<b>Table of Contents for this part: </b>\n",
    "<ul>    \n",
    "    <li> <a href=\"#1-load-data\">Load Dataset</a></li>\n",
    "    <li> <a href=\"#1-sanity-data\">Sanity Check</a></li>\n",
    "</ul>\n",
    "</div>"
   ]
  },
  {
   "cell_type": "markdown",
   "id": "133b8a9d-031b-49be-9d7d-43512b687ceb",
   "metadata": {
    "tags": []
   },
   "source": [
    "<div style=\"border-radius:10px; border:#33a0ff solid; padding: 15px; background-color: #f0f1ff; font-size:100%; text-align:left\">\n",
    "<a class=\"anchor\" id=\"1-load-data\">\n",
    "<h3> Load Dataset </h3>\n",
    "</a>\n",
    "</div>"
   ]
  },
  {
   "cell_type": "code",
   "execution_count": 8,
   "id": "e7014de2",
   "metadata": {},
   "outputs": [
    {
     "name": "stdout",
     "output_type": "stream",
     "text": [
      "Reading combined dataset...\n",
      "Dataset Loaded!\n"
     ]
    }
   ],
   "source": [
    "df = load_combined_dataset()"
   ]
  },
  {
   "cell_type": "markdown",
   "id": "d7ca6428-e942-4fe4-afa8-effee15cc731",
   "metadata": {
    "tags": []
   },
   "source": [
    "<div style=\"border-radius:10px; border:#33a0ff solid; padding: 15px; background-color: #f0f1ff; font-size:100%; text-align:left\">\n",
    "<a class=\"anchor\" id=\"1-sanity-data\">\n",
    "<h3> Sanity Check </h3>\n",
    "</a>\n",
    "</div>"
   ]
  },
  {
   "cell_type": "code",
   "execution_count": 9,
   "id": "c15bfa66-1f95-440c-82b2-8208c5930139",
   "metadata": {},
   "outputs": [
    {
     "data": {
      "text/html": [
       "<div>\n",
       "<style scoped>\n",
       "    .dataframe tbody tr th:only-of-type {\n",
       "        vertical-align: middle;\n",
       "    }\n",
       "\n",
       "    .dataframe tbody tr th {\n",
       "        vertical-align: top;\n",
       "    }\n",
       "\n",
       "    .dataframe thead th {\n",
       "        text-align: right;\n",
       "    }\n",
       "</style>\n",
       "<table border=\"1\" class=\"dataframe\">\n",
       "  <thead>\n",
       "    <tr style=\"text-align: right;\">\n",
       "      <th></th>\n",
       "      <th>id</th>\n",
       "      <th>vin</th>\n",
       "      <th>price</th>\n",
       "      <th>miles</th>\n",
       "      <th>stock_no</th>\n",
       "      <th>year</th>\n",
       "      <th>make</th>\n",
       "      <th>model</th>\n",
       "      <th>trim</th>\n",
       "      <th>body_type</th>\n",
       "      <th>...</th>\n",
       "      <th>drivetrain</th>\n",
       "      <th>transmission</th>\n",
       "      <th>fuel_type</th>\n",
       "      <th>engine_size</th>\n",
       "      <th>engine_block</th>\n",
       "      <th>seller_name</th>\n",
       "      <th>street</th>\n",
       "      <th>city</th>\n",
       "      <th>state</th>\n",
       "      <th>zip</th>\n",
       "    </tr>\n",
       "  </thead>\n",
       "  <tbody>\n",
       "    <tr>\n",
       "      <th>0</th>\n",
       "      <td>b39ea795-eca9</td>\n",
       "      <td>19UNC1B01HY800062</td>\n",
       "      <td>179999.0</td>\n",
       "      <td>9966.0</td>\n",
       "      <td>V-P4139</td>\n",
       "      <td>2017.0</td>\n",
       "      <td>Acura</td>\n",
       "      <td>NSX</td>\n",
       "      <td>Base</td>\n",
       "      <td>Coupe</td>\n",
       "      <td>...</td>\n",
       "      <td>4WD</td>\n",
       "      <td>Automatic</td>\n",
       "      <td>Electric / Premium Unleaded</td>\n",
       "      <td>3.5</td>\n",
       "      <td>V</td>\n",
       "      <td>edmundston honda</td>\n",
       "      <td>475 Rue Victoria</td>\n",
       "      <td>Edmundston</td>\n",
       "      <td>NB</td>\n",
       "      <td>E3V 2K7</td>\n",
       "    </tr>\n",
       "    <tr>\n",
       "      <th>1</th>\n",
       "      <td>026cb5b1-6e3e</td>\n",
       "      <td>19UNC1B02HY800023</td>\n",
       "      <td>179995.0</td>\n",
       "      <td>5988.0</td>\n",
       "      <td>PPAP70374</td>\n",
       "      <td>2017.0</td>\n",
       "      <td>Acura</td>\n",
       "      <td>NSX</td>\n",
       "      <td>Base</td>\n",
       "      <td>Coupe</td>\n",
       "      <td>...</td>\n",
       "      <td>4WD</td>\n",
       "      <td>Automatic</td>\n",
       "      <td>Electric / Premium Unleaded</td>\n",
       "      <td>3.5</td>\n",
       "      <td>V</td>\n",
       "      <td>garage daniel lessard</td>\n",
       "      <td>2795 Route-du-prsident-kennedy</td>\n",
       "      <td>Notre-dame-des-pins</td>\n",
       "      <td>QC</td>\n",
       "      <td>G0M 1K0</td>\n",
       "    </tr>\n",
       "    <tr>\n",
       "      <th>2</th>\n",
       "      <td>5cd5d5b2-5cc2</td>\n",
       "      <td>19UNC1B02HY800071</td>\n",
       "      <td>168528.0</td>\n",
       "      <td>24242.0</td>\n",
       "      <td>B21085</td>\n",
       "      <td>2017.0</td>\n",
       "      <td>Acura</td>\n",
       "      <td>NSX</td>\n",
       "      <td>Base</td>\n",
       "      <td>Coupe</td>\n",
       "      <td>...</td>\n",
       "      <td>4WD</td>\n",
       "      <td>Automatic</td>\n",
       "      <td>Electric / Premium Unleaded</td>\n",
       "      <td>3.5</td>\n",
       "      <td>V</td>\n",
       "      <td>lougheed acura</td>\n",
       "      <td>1388 Lougheed Highway</td>\n",
       "      <td>Coquitlam</td>\n",
       "      <td>BC</td>\n",
       "      <td>V3K 6S4</td>\n",
       "    </tr>\n",
       "    <tr>\n",
       "      <th>3</th>\n",
       "      <td>b32473ed-5922</td>\n",
       "      <td>19UNC1B02LY800001</td>\n",
       "      <td>220000.0</td>\n",
       "      <td>6637.0</td>\n",
       "      <td>AP5333</td>\n",
       "      <td>2020.0</td>\n",
       "      <td>Acura</td>\n",
       "      <td>NSX</td>\n",
       "      <td>Base</td>\n",
       "      <td>Coupe</td>\n",
       "      <td>...</td>\n",
       "      <td>4WD</td>\n",
       "      <td>Automatic</td>\n",
       "      <td>Electric / Premium Unleaded</td>\n",
       "      <td>3.5</td>\n",
       "      <td>V</td>\n",
       "      <td>drive autogroup</td>\n",
       "      <td>1305 Parkway Suite 600</td>\n",
       "      <td>Pickering</td>\n",
       "      <td>ON</td>\n",
       "      <td>L1V 3P2</td>\n",
       "    </tr>\n",
       "    <tr>\n",
       "      <th>4</th>\n",
       "      <td>ac40c9fc-0676</td>\n",
       "      <td>19UNC1B02LY800001</td>\n",
       "      <td>220000.0</td>\n",
       "      <td>6637.0</td>\n",
       "      <td>AP5333</td>\n",
       "      <td>2020.0</td>\n",
       "      <td>Acura</td>\n",
       "      <td>NSX</td>\n",
       "      <td>Base</td>\n",
       "      <td>Coupe</td>\n",
       "      <td>...</td>\n",
       "      <td>4WD</td>\n",
       "      <td>Automatic</td>\n",
       "      <td>Electric / Premium Unleaded</td>\n",
       "      <td>3.5</td>\n",
       "      <td>V</td>\n",
       "      <td>acura pickering</td>\n",
       "      <td>575 Kingston Road</td>\n",
       "      <td>Pickering</td>\n",
       "      <td>ON</td>\n",
       "      <td>L1V 3N7</td>\n",
       "    </tr>\n",
       "  </tbody>\n",
       "</table>\n",
       "<p>5 rows × 21 columns</p>\n",
       "</div>"
      ],
      "text/plain": [
       "              id                vin     price    miles   stock_no    year  \\\n",
       "0  b39ea795-eca9  19UNC1B01HY800062  179999.0   9966.0    V-P4139  2017.0   \n",
       "1  026cb5b1-6e3e  19UNC1B02HY800023  179995.0   5988.0  PPAP70374  2017.0   \n",
       "2  5cd5d5b2-5cc2  19UNC1B02HY800071  168528.0  24242.0     B21085  2017.0   \n",
       "3  b32473ed-5922  19UNC1B02LY800001  220000.0   6637.0     AP5333  2020.0   \n",
       "4  ac40c9fc-0676  19UNC1B02LY800001  220000.0   6637.0     AP5333  2020.0   \n",
       "\n",
       "    make model  trim body_type  ... drivetrain transmission  \\\n",
       "0  Acura   NSX  Base     Coupe  ...        4WD    Automatic   \n",
       "1  Acura   NSX  Base     Coupe  ...        4WD    Automatic   \n",
       "2  Acura   NSX  Base     Coupe  ...        4WD    Automatic   \n",
       "3  Acura   NSX  Base     Coupe  ...        4WD    Automatic   \n",
       "4  Acura   NSX  Base     Coupe  ...        4WD    Automatic   \n",
       "\n",
       "                     fuel_type engine_size  engine_block  \\\n",
       "0  Electric / Premium Unleaded         3.5             V   \n",
       "1  Electric / Premium Unleaded         3.5             V   \n",
       "2  Electric / Premium Unleaded         3.5             V   \n",
       "3  Electric / Premium Unleaded         3.5             V   \n",
       "4  Electric / Premium Unleaded         3.5             V   \n",
       "\n",
       "             seller_name                          street                 city  \\\n",
       "0       edmundston honda                475 Rue Victoria           Edmundston   \n",
       "1  garage daniel lessard  2795 Route-du-prsident-kennedy  Notre-dame-des-pins   \n",
       "2         lougheed acura           1388 Lougheed Highway            Coquitlam   \n",
       "3        drive autogroup          1305 Parkway Suite 600            Pickering   \n",
       "4        acura pickering               575 Kingston Road            Pickering   \n",
       "\n",
       "  state      zip  \n",
       "0    NB  E3V 2K7  \n",
       "1    QC  G0M 1K0  \n",
       "2    BC  V3K 6S4  \n",
       "3    ON  L1V 3P2  \n",
       "4    ON  L1V 3N7  \n",
       "\n",
       "[5 rows x 21 columns]"
      ]
     },
     "execution_count": 9,
     "metadata": {},
     "output_type": "execute_result"
    }
   ],
   "source": [
    "df.head()"
   ]
  },
  {
   "cell_type": "code",
   "execution_count": 10,
   "id": "c9dbb69b-f384-4076-b066-c2ad5d1f83cf",
   "metadata": {},
   "outputs": [
    {
     "name": "stdout",
     "output_type": "stream",
     "text": [
      "There are 7497907 rows and 21 columns in this dataframe now.\n"
     ]
    }
   ],
   "source": [
    "print_dim(df)"
   ]
  },
  {
   "cell_type": "markdown",
   "id": "db854662-ff52-4057-ab87-41fd9a7ef450",
   "metadata": {},
   "source": [
    "[Back-to-top](#1-toc)\n",
    "\n",
    "---"
   ]
  },
  {
   "cell_type": "markdown",
   "id": "617ff8fd-3334-46e1-b4df-0f33f5a1b7bf",
   "metadata": {
    "tags": [],
    "toc-hr-collapsed": true
   },
   "source": [
    "<div style=\"border-radius:10px; border:#33a0ff solid; padding: 15px; background-color: #f0f1ff; font-size:100%; text-align:left\">\n",
    "<a class=\"anchor\" id=\"1-assess\">\n",
    "<h2> Data Assessment </h2>\n",
    "</a>\n",
    "<b>Table of Contents for this part: </b>\n",
    "<ul>    \n",
    "    <li> <a href=\"#1-dim\">Data Dimension</a></li>\n",
    "    <li> <a href=\"#1-dtype\">Datatype</a></li>\n",
    "    <li> <a href=\"#1-null-check\">Null Values Check</a></li>\n",
    "    <li> <a href=\"#1-dupli-check\">Duplicates Check</a></li>\n",
    "</ul>\n",
    "</div>"
   ]
  },
  {
   "cell_type": "markdown",
   "id": "f01b7ff1-ecab-419a-ae67-d94b2f46fc02",
   "metadata": {
    "tags": []
   },
   "source": [
    "<div style=\"border-radius:10px; border:#33a0ff solid; padding: 15px; background-color: #f0f1ff; font-size:100%; text-align:left\">\n",
    "<a class=\"anchor\" id=\"1-dim\">\n",
    "<h3> Data Dimension </h3>\n",
    "</a>\n",
    "</div>"
   ]
  },
  {
   "cell_type": "code",
   "execution_count": 11,
   "id": "94ac0e4e-d403-491c-845f-9c53a65663a2",
   "metadata": {},
   "outputs": [
    {
     "name": "stdout",
     "output_type": "stream",
     "text": [
      "There are 7497907 rows and 21 columns in this dataframe now.\n"
     ]
    }
   ],
   "source": [
    "print_dim(df)"
   ]
  },
  {
   "cell_type": "markdown",
   "id": "c590b8dd-4ff1-4125-a59b-af1e2defbdae",
   "metadata": {
    "tags": []
   },
   "source": [
    "<div style=\"border-radius:10px; border:#33a0ff solid; padding: 15px; background-color: #f0f1ff; font-size:100%; text-align:left\">\n",
    "<a class=\"anchor\" id=\"1-dtype\">\n",
    "<h3> Data Type </h3>\n",
    "</a>\n",
    "</div>"
   ]
  },
  {
   "cell_type": "code",
   "execution_count": 12,
   "id": "7421e2cd-b050-4819-944f-946e884d94b3",
   "metadata": {},
   "outputs": [
    {
     "data": {
      "text/plain": [
       "id               object\n",
       "vin              object\n",
       "price           float64\n",
       "miles           float64\n",
       "stock_no         object\n",
       "year            float64\n",
       "make             object\n",
       "model            object\n",
       "trim             object\n",
       "body_type        object\n",
       "vehicle_type     object\n",
       "drivetrain       object\n",
       "transmission     object\n",
       "fuel_type        object\n",
       "engine_size     float64\n",
       "engine_block     object\n",
       "seller_name      object\n",
       "street           object\n",
       "city             object\n",
       "state            object\n",
       "zip              object\n",
       "dtype: object"
      ]
     },
     "execution_count": 12,
     "metadata": {},
     "output_type": "execute_result"
    }
   ],
   "source": [
    "df.dtypes"
   ]
  },
  {
   "cell_type": "markdown",
   "id": "728ec013-6d5c-43dd-81cf-e3f6f47c0b06",
   "metadata": {},
   "source": [
    "<div style=\"border-radius:10px; border: #ffd500 solid; padding: 15px; background-color: #ffffcf; font-size:100%; text-align:left\">\n",
    "<font size=\"4px\" color=\"#ffa600\"><b>💡 Insight:</b></font>\n",
    "\n",
    "- Note that there are quite a lot of columns (18 out of 22 columns) with categorical data.\n",
    "\n",
    "<div>"
   ]
  },
  {
   "cell_type": "markdown",
   "id": "3ec748cd-9261-4010-9b3c-ec146df215eb",
   "metadata": {
    "tags": []
   },
   "source": [
    "<div style=\"border-radius:10px; border:#33a0ff solid; padding: 15px; background-color: #f0f1ff; font-size:100%; text-align:left\">\n",
    "<a class=\"anchor\" id=\"1-null-check\">\n",
    "<h3> Null Value Checking </h3>\n",
    "</a>\n",
    "</div>"
   ]
  },
  {
   "cell_type": "markdown",
   "id": "f8f95fd9-2b2a-4f97-84d1-4318fc886bb6",
   "metadata": {
    "tags": []
   },
   "source": [
    "#### Null Value Count"
   ]
  },
  {
   "cell_type": "code",
   "execution_count": 13,
   "id": "1fe3b9bf-81aa-4c1d-8fc9-25530b4b4e3c",
   "metadata": {},
   "outputs": [
    {
     "name": "stdout",
     "output_type": "stream",
     "text": [
      "=== Null Count ===\n",
      "id                   0\n",
      "vin                  0\n",
      "price           691896\n",
      "miles            94303\n",
      "stock_no        199938\n",
      "year               177\n",
      "make                 0\n",
      "model            12834\n",
      "trim             53948\n",
      "body_type        62003\n",
      "vehicle_type     76604\n",
      "drivetrain       54916\n",
      "transmission     49281\n",
      "fuel_type       116769\n",
      "engine_size     175919\n",
      "engine_block    180274\n",
      "seller_name      13343\n",
      "street           39074\n",
      "city             19178\n",
      "state            19250\n",
      "zip              19416\n",
      "dtype: int64\n"
     ]
    }
   ],
   "source": [
    "print_null_count(df)"
   ]
  },
  {
   "cell_type": "markdown",
   "id": "b1547629-06af-449c-97fa-83a2bddab942",
   "metadata": {},
   "source": [
    "<div style=\"border-radius:10px; border: #ffd500 solid; padding: 15px; background-color: #ffffcf; font-size:100%; text-align:left\">\n",
    "<font size=\"4px\" color=\"#ffa600\"><b>💡 Insight:</b></font>\n",
    "\n",
    "- There are some null value in our target variable `price`, we may need to drop those records.  \n",
    "- There are also some null value in other columns. We need to handle them later.  \n",
    "\n",
    "Now let's check the null percentage in each column.\n",
    "<div>"
   ]
  },
  {
   "cell_type": "markdown",
   "id": "a2fbe413-74dd-4e49-b2c5-2d3ed605d8a6",
   "metadata": {
    "tags": []
   },
   "source": [
    "#### Null Value Percentage"
   ]
  },
  {
   "cell_type": "code",
   "execution_count": 14,
   "id": "ed3c6a52-9c72-47bc-bda0-d24abaf350aa",
   "metadata": {},
   "outputs": [
    {
     "name": "stdout",
     "output_type": "stream",
     "text": [
      "=== Null Count Precentage ===\n",
      "id               0.0%\n",
      "vin              0.0%\n",
      "price           9.23%\n",
      "miles           1.26%\n",
      "stock_no        2.67%\n",
      "year             0.0%\n",
      "make             0.0%\n",
      "model           0.17%\n",
      "trim            0.72%\n",
      "body_type       0.83%\n",
      "vehicle_type    1.02%\n",
      "drivetrain      0.73%\n",
      "transmission    0.66%\n",
      "fuel_type       1.56%\n",
      "engine_size     2.35%\n",
      "engine_block     2.4%\n",
      "seller_name     0.18%\n",
      "street          0.52%\n",
      "city            0.26%\n",
      "state           0.26%\n",
      "zip             0.26%\n",
      "dtype: object\n"
     ]
    }
   ],
   "source": [
    "print_null_pct(df)"
   ]
  },
  {
   "cell_type": "markdown",
   "id": "90d401df-36d1-4f41-95e2-2058bb7a6830",
   "metadata": {},
   "source": [
    "<div style=\"border-radius:10px; border: #ffd500 solid; padding: 15px; background-color: #ffffcf; font-size:100%; text-align:left\">\n",
    "<font size=\"4px\" color=\"#ffa600\"><b>💡 Insight:</b></font>\n",
    "\n",
    "- From the null value percentage table above, we can see that there are around 9% of data are missing with the `price`, which is our target variable. \n",
    "- Fortunely, we have over 7 millions rows of record. We may remove those without the `price` data from our dataset.\n",
    "- For other columns, none of them have over 3% of missing data, which is acceptable in this case.  \n",
    "- We may need to handle the missing data in the later session.\n",
    "\n",
    "<div>"
   ]
  },
  {
   "cell_type": "markdown",
   "id": "9aa6a98a-a9a1-44c7-ae39-e706160ec415",
   "metadata": {
    "tags": []
   },
   "source": [
    "<div style=\"border-radius:10px; border:#33a0ff solid; padding: 15px; background-color: #f0f1ff; font-size:100%; text-align:left\">\n",
    "<a class=\"anchor\" id=\"1-dupli-check\">\n",
    "<h3> Duplicates Checking </h3>\n",
    "</a>\n",
    "</div>"
   ]
  },
  {
   "cell_type": "markdown",
   "id": "5dfa82c1-6a09-4357-98d0-23ab7ad16f7a",
   "metadata": {},
   "source": [
    "<div style=\"border-radius:10px; border: #ffd500 solid; padding: 15px; background-color: #ffffcf; font-size:100%; text-align:left\">\n",
    "<font size=\"4px\" color=\"#ffa600\"><b>⚠️ Note:</b></font>\n",
    "\n",
    "- Note that there are over 7 million records, it will take a bit longer time to run this cell.\n",
    "<div>"
   ]
  },
  {
   "cell_type": "code",
   "execution_count": 15,
   "id": "aed3f178-a41b-4be0-8fa9-28e5a1da981b",
   "metadata": {},
   "outputs": [
    {
     "name": "stdout",
     "output_type": "stream",
     "text": [
      "There are 0 duplicated rows\n"
     ]
    }
   ],
   "source": [
    "print_duplicated_count(df)"
   ]
  },
  {
   "cell_type": "markdown",
   "id": "ddd35a34-3e57-47c5-8beb-697edbe5cb9d",
   "metadata": {},
   "source": [
    "[Back-to-top](#1-toc)\n",
    "\n",
    "---"
   ]
  },
  {
   "cell_type": "markdown",
   "id": "971b2394-23c2-4948-a2c8-d70287028bd4",
   "metadata": {
    "tags": [],
    "toc-hr-collapsed": true
   },
   "source": [
    "<div style=\"border-radius:10px; border:#33a0ff solid; padding: 15px; background-color: #f0f1ff; font-size:100%; text-align:left\">\n",
    "<a class=\"anchor\" id=\"1-clean\">\n",
    "<h2> Data Cleaning </h2>\n",
    "</a>\n",
    "    \n",
    "<b>Table of Contents for this part: </b>\n",
    "<ul>    \n",
    "    <li> <a href=\"#1-target-null\">Null Value in Target Variable</a></li>\n",
    "    <li> <a href=\"#1-target-label\">Label Target Variables</a></li>\n",
    "    <li> <a href=\"#1-drop-useless\">Remove Unnecessary Columns</a></li>\n",
    "    <li> <a href=\"#1-null-col-check\">Null Value Check</a></li>\n",
    "    <ul>\n",
    "        <li><a href=\"#1-col-miles\">Column - <b><i> miles </i></b></a></li>\n",
    "        <li><a href=\"#1-col-year\">Column - <b><i> year </i></b></a></li>\n",
    "        <li><a href=\"#1-col-model\">Column - <b><i> model </i></b></a></li>\n",
    "        <li><a href=\"#1-col-trim\">Column - <b><i> trim </i></b></a></li>\n",
    "        <li><a href=\"#1-col-body-type\">Column - <b><i> body_type </i></b></a></li>\n",
    "        <li><a href=\"#1-col-vehicle-type\">Column - <b><i> vehicle_type </i></b></a></li>\n",
    "        <li><a href=\"#1-col-drivetrain\">Column - <b><i> drivetrain </i></b></a></li>\n",
    "        <li><a href=\"#1-col-transmission\">Column - <b><i> transmission </i></b></a></li>\n",
    "        <li><a href=\"#1-col-fuel-type\">Column - <b><i> fuel_type </i></b></a></li>\n",
    "        <li><a href=\"#1-col-engine-size\">Column - <b><i> engine_size </i></b></a></li>\n",
    "        <li><a href=\"#1-col-engine-block\">Column - <b><i> engine_block </i></b></a></li>\n",
    "        <li><a href=\"#1-col-location\">Column - <b><i> street/city/state/zip </i></b></a></li>  \n",
    "    </ul>\n",
    "    <li> <a href=\"#1-save-cleaned\">Save Cleaned Data</a></li>\n",
    "</ul>\n",
    "    \n",
    "In this section, we will clean our data by different techniques such as \n",
    "- Dropping rows & columns\n",
    "- Target variable labelling\n",
    "- Filling null values\n",
    "</div>"
   ]
  },
  {
   "cell_type": "markdown",
   "id": "411b20a9-5e98-43f8-938f-2758d1c18547",
   "metadata": {
    "tags": []
   },
   "source": [
    "<div style=\"border-radius:10px; border:#33a0ff solid; padding: 15px; background-color: #f0f1ff; font-size:100%; text-align:left\">\n",
    "<a class=\"anchor\" id=\"1-target-null\">\n",
    "<h3> Remove records without target variable </h3>\n",
    "</a>\n",
    "</div>"
   ]
  },
  {
   "cell_type": "markdown",
   "id": "45069f21-a98c-4d73-9afd-ca7433c00b94",
   "metadata": {},
   "source": [
    "<div style=\"border-radius:10px; border: #ffd500 solid; padding: 15px; background-color: #ffffcf; font-size:100%; text-align:left\">\n",
    "<font size=\"4px\" color=\"#ffa600\"><b>⚠️ Note:</b></font>\n",
    "\n",
    "- As the records without `price` data will not be useful to our problem, we will drop them before any data cleaning and EDA.\n",
    "    \n",
    "<div>"
   ]
  },
  {
   "cell_type": "code",
   "execution_count": 16,
   "id": "df16b084-bbdb-4ccb-854a-2b78fc5fd6cc",
   "metadata": {},
   "outputs": [
    {
     "name": "stdout",
     "output_type": "stream",
     "text": [
      "There are 6806011 rows and 21 columns in this dataframe now.\n"
     ]
    }
   ],
   "source": [
    "# Drop row that have null value in `price`\n",
    "df.dropna(subset=[\"price\"],inplace = True)\n",
    "\n",
    "# Check how many rows left after dropping \n",
    "print_dim(df)"
   ]
  },
  {
   "cell_type": "markdown",
   "id": "557e40f3-89d2-4619-92ae-767ce4070bdd",
   "metadata": {},
   "source": [
    "<div style=\"border-radius:10px; border: #ffd500 solid; padding: 15px; background-color: #ffffcf; font-size:100%; text-align:left\">\n",
    "<font size=\"4px\" color=\"#ffa600\"><b>💬 Comment:</b></font>\n",
    "\n",
    "- After dropping records with no `price` data, we have around 6.8 million records and 21 features left. \n",
    "- Now, let's go into the column with null value one-by-one.\n",
    "\n",
    "<div>"
   ]
  },
  {
   "cell_type": "markdown",
   "id": "1fcee795-f4c1-43af-9705-8c9a01851fe5",
   "metadata": {
    "tags": [],
    "toc-hr-collapsed": true
   },
   "source": [
    "<div style=\"border-radius:10px; border:#33a0ff solid; padding: 15px; background-color: #f0f1ff; font-size:100%; text-align:left\">\n",
    "<a class=\"anchor\" id=\"1-target-label\">\n",
    "<h3> Convert target price as Price Range for classification task </h3>\n",
    "</a>\n",
    "</div>"
   ]
  },
  {
   "cell_type": "markdown",
   "id": "2b38c9d7-5a05-4ba6-a4b1-b2b566672af0",
   "metadata": {},
   "source": [
    "#### Have a look on `price` statistics"
   ]
  },
  {
   "cell_type": "code",
   "execution_count": 17,
   "id": "baca4acc-ec74-4a30-bde7-eb0506996097",
   "metadata": {},
   "outputs": [
    {
     "data": {
      "text/plain": [
       "count    6.806011e+06\n",
       "mean     2.776745e+04\n",
       "std      1.844937e+04\n",
       "min      0.000000e+00\n",
       "25%      1.699500e+04\n",
       "50%      2.437500e+04\n",
       "75%      3.499000e+04\n",
       "max      1.499996e+06\n",
       "Name: price, dtype: float64"
      ]
     },
     "execution_count": 17,
     "metadata": {},
     "output_type": "execute_result"
    }
   ],
   "source": [
    "# Have a look on the price statistics\n",
    "stats = df[\"price\"].describe()\n",
    "stats"
   ]
  },
  {
   "cell_type": "markdown",
   "id": "9ce8fd7a-e603-45e4-bf2b-4b591c5f64b4",
   "metadata": {},
   "source": [
    "<div style=\"border-radius:10px; border: #ffd500 solid; padding: 15px; background-color: #ffffcf; font-size:100%; text-align:left\">\n",
    "<font size=\"4px\" color=\"#ffa600\"><b>💬 Comment:</b></font>\n",
    "\n",
    "- The minimum value of `price` is 0, which is unreasonable. In this task, we assume all listing prices below $1000 are all unrealistic and non-sense. We will drop them out.\n",
    "\n",
    "<div>"
   ]
  },
  {
   "cell_type": "markdown",
   "id": "1556aee5-98e2-477e-bd0c-0cd39c47c21a",
   "metadata": {},
   "source": [
    "#### Remove records with unreasonable `price` "
   ]
  },
  {
   "cell_type": "code",
   "execution_count": 18,
   "id": "156926c5-e7e2-4893-9a3f-c3796de20d16",
   "metadata": {},
   "outputs": [
    {
     "name": "stdout",
     "output_type": "stream",
     "text": [
      "There are 123 records with listing price below $1000\n"
     ]
    }
   ],
   "source": [
    "print(f\"There are {(df['price'] < 1000).sum()} records with listing price below $1000\")"
   ]
  },
  {
   "cell_type": "code",
   "execution_count": 19,
   "id": "41e91f6b-3ce4-4311-b1e9-f86b42e4db71",
   "metadata": {},
   "outputs": [],
   "source": [
    "df.drop(df[df[\"price\"] < 1000].index, inplace=True)"
   ]
  },
  {
   "cell_type": "code",
   "execution_count": 20,
   "id": "000def34-c3ab-4f41-8147-2059ce095024",
   "metadata": {},
   "outputs": [
    {
     "name": "stdout",
     "output_type": "stream",
     "text": [
      "There are 6805888 rows and 21 columns in this dataframe now.\n"
     ]
    }
   ],
   "source": [
    "# Check how many rows left after dropping \n",
    "print_dim(df)"
   ]
  },
  {
   "cell_type": "markdown",
   "id": "0e67d93d-0b7e-4997-887a-d893f2079a39",
   "metadata": {},
   "source": [
    "#### Plot a histogram with `price` column "
   ]
  },
  {
   "cell_type": "code",
   "execution_count": 21,
   "id": "076770da-10c3-4417-9937-b33ec29261af",
   "metadata": {},
   "outputs": [
    {
     "data": {
      "image/png": "[encoded data removed]",
      "text/plain": [
       "<Figure size 400x400 with 1 Axes>"
      ]
     },
     "metadata": {},
     "output_type": "display_data"
    }
   ],
   "source": [
    "# Set up plot\n",
    "plt.figure(figsize=(4,4))\n",
    "# Plot\n",
    "plt.hist(df[\"price\"],bins=50)\n",
    "# Plot title & axes\n",
    "plt.title(\"Price Range Histogram\")\n",
    "plt.xlabel(\"Price Range\")\n",
    "plt.ylabel(\"Count\")\n",
    "# Show Plot\n",
    "plt.show()"
   ]
  },
  {
   "cell_type": "code",
   "execution_count": 22,
   "id": "10c01a1d-5b89-48b9-b020-896d0ba9a63d",
   "metadata": {},
   "outputs": [
    {
     "data": {
      "image/png": "[encoded data removed]",
      "text/plain": [
       "<Figure size 1500x400 with 1 Axes>"
      ]
     },
     "metadata": {},
     "output_type": "display_data"
    }
   ],
   "source": [
    "# Set up plot\n",
    "plt.figure(figsize=(15,4))\n",
    "# Plot\n",
    "box = plt.boxplot(df[\"price\"],vert=False)\n",
    "# Plot title & axes\n",
    "plt.title(\"Listing Price Distribution\")\n",
    "plt.xlabel(\"Price\")\n",
    "plt.yticks([]) # Remove y axis tick\n",
    "# Show Plot\n",
    "plt.show()"
   ]
  },
  {
   "cell_type": "markdown",
   "id": "9522a93b-7853-4ca7-a5cc-df16f4a4ffc6",
   "metadata": {},
   "source": [
    "<div style=\"border-radius:10px; border: #ffd500 solid; padding: 15px; background-color: #ffffcf; font-size:100%; text-align:left\">\n",
    "<font size=\"4px\" color=\"#ffa600\"><b>💬 Comment:</b></font>\n",
    "\n",
    "- This column distribution are highly skewed. Let's try to apply log transformation.\n",
    "\n",
    "<div>"
   ]
  },
  {
   "cell_type": "markdown",
   "id": "873cac5f-200e-4137-a483-e456a89bb1c8",
   "metadata": {},
   "source": [
    "#### Plot with log `price` column "
   ]
  },
  {
   "cell_type": "code",
   "execution_count": 23,
   "id": "e3d8a7d9-325d-4012-b8f7-09c59192c4e2",
   "metadata": {
    "tags": []
   },
   "outputs": [
    {
     "data": {
      "image/png": "[encoded data removed]",
      "text/plain": [
       "<Figure size 400x400 with 1 Axes>"
      ]
     },
     "metadata": {},
     "output_type": "display_data"
    }
   ],
   "source": [
    "# Set up plot\n",
    "plt.figure(figsize=(4,4))\n",
    "# Plot\n",
    "plt.hist(df[\"price\"].apply(np.log),bins=50)\n",
    "# Plot title & axes\n",
    "plt.title(\"Price Range Histogram (Log Transformation)\")\n",
    "plt.xlabel(\"Price Range (log)\")\n",
    "plt.ylabel(\"Count\")\n",
    "# Show Plot\n",
    "plt.show()"
   ]
  },
  {
   "cell_type": "markdown",
   "id": "6cfa4564-64c1-43f3-8aa6-d601af0c165d",
   "metadata": {},
   "source": [
    "<div style=\"border-radius:10px; border: #ffd500 solid; padding: 15px; background-color: #ffffcf; font-size:100%; text-align:left\">\n",
    "<font size=\"4px\" color=\"#ffa600\"><b>💬 Comment:</b></font>\n",
    "\n",
    "- This log-transformed distribution are looking good now, which is similar to a normal distribution.\n",
    "\n",
    "<div>"
   ]
  },
  {
   "cell_type": "code",
   "execution_count": 24,
   "id": "fd2fbc66-06f3-46f1-bd1a-6ea1c1554edd",
   "metadata": {},
   "outputs": [
    {
     "data": {
      "image/png": "[encoded data removed]",
      "text/plain": [
       "<Figure size 1500x400 with 1 Axes>"
      ]
     },
     "metadata": {},
     "output_type": "display_data"
    }
   ],
   "source": [
    "# Set up plot\n",
    "plt.figure(figsize=(15,4))\n",
    "# Plot\n",
    "log_box = plt.boxplot(df[\"price\"].apply(np.log),vert=False)\n",
    "# Plot title & axes\n",
    "plt.title(\"Listing Price Distribution\")\n",
    "plt.xlabel(\"Price (log)\")\n",
    "plt.yticks([]) # Remove y axis tick\n",
    "# Show Plot\n",
    "plt.show()"
   ]
  },
  {
   "cell_type": "markdown",
   "id": "9631b9a4-27e0-4924-bad8-1c53aaf9f666",
   "metadata": {},
   "source": [
    "<div style=\"border-radius:10px; border: #ffd500 solid; padding: 15px; background-color: #ffffcf; font-size:100%; text-align:left\">\n",
    "<font size=\"4px\" color=\"#ffa600\"><b>💬 Comment:</b></font>\n",
    "\n",
    "- Let put all black dots on the left as `group 1`.  \n",
    "- Data between lower whisker and lower quartile as `group 2`.  \n",
    "- Data between lower quartile and upper quartile as `group 3`.  \n",
    "- Data between upper quartile and upper whisker as `group 4`.  \n",
    "- And all black dots on the right as `group 5`.\n",
    "\n",
    "<div>"
   ]
  },
  {
   "cell_type": "code",
   "execution_count": 25,
   "id": "b1d52d24-44e0-42e4-9298-ac8269277537",
   "metadata": {},
   "outputs": [
    {
     "name": "stdout",
     "output_type": "stream",
     "text": [
      "Ther upper whisker is 61982.0\n",
      "Ther upper quartile is 34990.0\n",
      "Ther lower quartile is 16995.0\n",
      "Ther lower whisker is 1023.0\n"
     ]
    }
   ],
   "source": [
    "upper_whisker = box['caps'][1].get_xdata()[1]\n",
    "print(f\"Ther upper whisker is {upper_whisker}\")\n",
    "\n",
    "upper_quartile = box['boxes'][0].get_xdata()[3]\n",
    "print(f\"Ther upper quartile is {upper_quartile}\")\n",
    "\n",
    "lower_quartile = box['boxes'][0].get_xdata()[1]\n",
    "print(f\"Ther lower quartile is {lower_quartile}\")\n",
    "\n",
    "lower_whisker = box['caps'][0].get_xdata()[1]\n",
    "print(f\"Ther lower whisker is {lower_whisker}\")"
   ]
  },
  {
   "cell_type": "markdown",
   "id": "f37b0bfd-f223-4583-909d-686dcdb1941f",
   "metadata": {},
   "source": [
    "#### Define range group for target variable `price`"
   ]
  },
  {
   "cell_type": "markdown",
   "id": "7e70912e-ea62-4836-a08e-64bb906a9c33",
   "metadata": {},
   "source": [
    "<div style=\"border-radius:10px; border: #ffd500 solid; padding: 15px; background-color: #ffffcf; font-size:100%; text-align:left\">\n",
    "<font size=\"4px\" color=\"#ffa600\"><b>💬 Comment:</b></font>\n",
    "\n",
    "Let's take an approximation of <b>\\$60000</b> as a benchmark to be outlier classifier. Lising price over <b>\\$60000</b> will be classified as the most expensive group(5). Followed by the following groups:\n",
    "- Group 5: <b>>= \\$60,000</b>\n",
    "- Group 4: <b>\\$45,000 - \\\\$59,999.99</b>\n",
    "- Group 3: <b>\\$30,000 - \\\\$44,999.99</b>\n",
    "- Group 2: <b>\\$15,000 - \\\\$29,999.99</b>\n",
    "- Group 1: <b>< \\$15,000</b>\n",
    "\n",
    "Now, our problem becomes a classification task which is solved by our machine learning and deep learning model.  \n",
    "Let's do the labelling for `price` column.                    \n",
    "                    \n",
    "<div>"
   ]
  },
  {
   "cell_type": "markdown",
   "id": "a9d58117-74cc-46ec-8ca3-328f0d032e1b",
   "metadata": {},
   "source": [
    "#### Prepare a function for price labellin"
   ]
  },
  {
   "cell_type": "code",
   "execution_count": 26,
   "id": "b0f1610a-bb05-4c54-be13-ce442d884006",
   "metadata": {},
   "outputs": [],
   "source": [
    "# Function for target variable labelling\n",
    "def price_label(price: float)-> int:\n",
    "    \"\"\"\n",
    "    Description\n",
    "    -----\n",
    "    Function specific for target variable labeling. \n",
    "    Convert the exact price into price range.\n",
    "    \n",
    "    Labeling Logic:\n",
    "    |-------------------------|-------|\n",
    "    |        price range      | group |\n",
    "    |-------------------------|-------|\n",
    "    |        > 60,000.00      |   5   |\n",
    "    |-------------------------|-------|\n",
    "    |  45,000.00 - 59,999.99  |   4   |\n",
    "    |-------------------------|-------|\n",
    "    |  30,000.00 - 44,999.99  |   3   |\n",
    "    |-------------------------|-------|\n",
    "    |  15,000.00 - 29,999.99  |   2   |\n",
    "    |-------------------------|-------|\n",
    "    |        < 15,000.00      |   1   |\n",
    "    |-------------------------|-------|\n",
    "    \n",
    "    Args\n",
    "    -----\n",
    "    price (float): the exact price\n",
    "    \n",
    "    Returns\n",
    "    -----\n",
    "    label (int): the price range group from 1 to 5\n",
    "    \n",
    "    Example\n",
    "    -----\n",
    "    price_label(43246.80) => 3\n",
    "    price_label(59384.2) => 4\n",
    "    \n",
    "    \"\"\"\n",
    "    assert price >= 0, \"'Price' cannot be negative number\"\n",
    "    if price >= 60000:\n",
    "        return 5\n",
    "    elif price >= 45000:\n",
    "        return 4\n",
    "    elif price >= 30000:\n",
    "        return 3\n",
    "    elif price >= 15000:\n",
    "        return 2\n",
    "    else:\n",
    "        return 1"
   ]
  },
  {
   "cell_type": "markdown",
   "id": "7607edd1-f85b-407c-b42b-a9c89ae3cc66",
   "metadata": {},
   "source": [
    "#### Target Variable Labelling"
   ]
  },
  {
   "cell_type": "code",
   "execution_count": 27,
   "id": "965e5818-10ad-404a-a628-9b036a5f088c",
   "metadata": {},
   "outputs": [],
   "source": [
    "# Target Variable labelling\n",
    "df['price_range'] = df['price'].apply(lambda p: price_label(p))"
   ]
  },
  {
   "cell_type": "code",
   "execution_count": 28,
   "id": "489a6c1e-685f-4d57-83cc-339d3a60b3ba",
   "metadata": {},
   "outputs": [
    {
     "data": {
      "text/html": [
       "<div>\n",
       "<style scoped>\n",
       "    .dataframe tbody tr th:only-of-type {\n",
       "        vertical-align: middle;\n",
       "    }\n",
       "\n",
       "    .dataframe tbody tr th {\n",
       "        vertical-align: top;\n",
       "    }\n",
       "\n",
       "    .dataframe thead th {\n",
       "        text-align: right;\n",
       "    }\n",
       "</style>\n",
       "<table border=\"1\" class=\"dataframe\">\n",
       "  <thead>\n",
       "    <tr style=\"text-align: right;\">\n",
       "      <th></th>\n",
       "      <th>id</th>\n",
       "      <th>vin</th>\n",
       "      <th>price</th>\n",
       "      <th>miles</th>\n",
       "      <th>stock_no</th>\n",
       "      <th>year</th>\n",
       "      <th>make</th>\n",
       "      <th>model</th>\n",
       "      <th>trim</th>\n",
       "      <th>body_type</th>\n",
       "      <th>...</th>\n",
       "      <th>transmission</th>\n",
       "      <th>fuel_type</th>\n",
       "      <th>engine_size</th>\n",
       "      <th>engine_block</th>\n",
       "      <th>seller_name</th>\n",
       "      <th>street</th>\n",
       "      <th>city</th>\n",
       "      <th>state</th>\n",
       "      <th>zip</th>\n",
       "      <th>price_range</th>\n",
       "    </tr>\n",
       "  </thead>\n",
       "  <tbody>\n",
       "    <tr>\n",
       "      <th>0</th>\n",
       "      <td>b39ea795-eca9</td>\n",
       "      <td>19UNC1B01HY800062</td>\n",
       "      <td>179999.0</td>\n",
       "      <td>9966.0</td>\n",
       "      <td>V-P4139</td>\n",
       "      <td>2017.0</td>\n",
       "      <td>Acura</td>\n",
       "      <td>NSX</td>\n",
       "      <td>Base</td>\n",
       "      <td>Coupe</td>\n",
       "      <td>...</td>\n",
       "      <td>Automatic</td>\n",
       "      <td>Electric / Premium Unleaded</td>\n",
       "      <td>3.5</td>\n",
       "      <td>V</td>\n",
       "      <td>edmundston honda</td>\n",
       "      <td>475 Rue Victoria</td>\n",
       "      <td>Edmundston</td>\n",
       "      <td>NB</td>\n",
       "      <td>E3V 2K7</td>\n",
       "      <td>5</td>\n",
       "    </tr>\n",
       "    <tr>\n",
       "      <th>1</th>\n",
       "      <td>026cb5b1-6e3e</td>\n",
       "      <td>19UNC1B02HY800023</td>\n",
       "      <td>179995.0</td>\n",
       "      <td>5988.0</td>\n",
       "      <td>PPAP70374</td>\n",
       "      <td>2017.0</td>\n",
       "      <td>Acura</td>\n",
       "      <td>NSX</td>\n",
       "      <td>Base</td>\n",
       "      <td>Coupe</td>\n",
       "      <td>...</td>\n",
       "      <td>Automatic</td>\n",
       "      <td>Electric / Premium Unleaded</td>\n",
       "      <td>3.5</td>\n",
       "      <td>V</td>\n",
       "      <td>garage daniel lessard</td>\n",
       "      <td>2795 Route-du-prsident-kennedy</td>\n",
       "      <td>Notre-dame-des-pins</td>\n",
       "      <td>QC</td>\n",
       "      <td>G0M 1K0</td>\n",
       "      <td>5</td>\n",
       "    </tr>\n",
       "    <tr>\n",
       "      <th>2</th>\n",
       "      <td>5cd5d5b2-5cc2</td>\n",
       "      <td>19UNC1B02HY800071</td>\n",
       "      <td>168528.0</td>\n",
       "      <td>24242.0</td>\n",
       "      <td>B21085</td>\n",
       "      <td>2017.0</td>\n",
       "      <td>Acura</td>\n",
       "      <td>NSX</td>\n",
       "      <td>Base</td>\n",
       "      <td>Coupe</td>\n",
       "      <td>...</td>\n",
       "      <td>Automatic</td>\n",
       "      <td>Electric / Premium Unleaded</td>\n",
       "      <td>3.5</td>\n",
       "      <td>V</td>\n",
       "      <td>lougheed acura</td>\n",
       "      <td>1388 Lougheed Highway</td>\n",
       "      <td>Coquitlam</td>\n",
       "      <td>BC</td>\n",
       "      <td>V3K 6S4</td>\n",
       "      <td>5</td>\n",
       "    </tr>\n",
       "    <tr>\n",
       "      <th>3</th>\n",
       "      <td>b32473ed-5922</td>\n",
       "      <td>19UNC1B02LY800001</td>\n",
       "      <td>220000.0</td>\n",
       "      <td>6637.0</td>\n",
       "      <td>AP5333</td>\n",
       "      <td>2020.0</td>\n",
       "      <td>Acura</td>\n",
       "      <td>NSX</td>\n",
       "      <td>Base</td>\n",
       "      <td>Coupe</td>\n",
       "      <td>...</td>\n",
       "      <td>Automatic</td>\n",
       "      <td>Electric / Premium Unleaded</td>\n",
       "      <td>3.5</td>\n",
       "      <td>V</td>\n",
       "      <td>drive autogroup</td>\n",
       "      <td>1305 Parkway Suite 600</td>\n",
       "      <td>Pickering</td>\n",
       "      <td>ON</td>\n",
       "      <td>L1V 3P2</td>\n",
       "      <td>5</td>\n",
       "    </tr>\n",
       "    <tr>\n",
       "      <th>4</th>\n",
       "      <td>ac40c9fc-0676</td>\n",
       "      <td>19UNC1B02LY800001</td>\n",
       "      <td>220000.0</td>\n",
       "      <td>6637.0</td>\n",
       "      <td>AP5333</td>\n",
       "      <td>2020.0</td>\n",
       "      <td>Acura</td>\n",
       "      <td>NSX</td>\n",
       "      <td>Base</td>\n",
       "      <td>Coupe</td>\n",
       "      <td>...</td>\n",
       "      <td>Automatic</td>\n",
       "      <td>Electric / Premium Unleaded</td>\n",
       "      <td>3.5</td>\n",
       "      <td>V</td>\n",
       "      <td>acura pickering</td>\n",
       "      <td>575 Kingston Road</td>\n",
       "      <td>Pickering</td>\n",
       "      <td>ON</td>\n",
       "      <td>L1V 3N7</td>\n",
       "      <td>5</td>\n",
       "    </tr>\n",
       "  </tbody>\n",
       "</table>\n",
       "<p>5 rows × 22 columns</p>\n",
       "</div>"
      ],
      "text/plain": [
       "              id                vin     price    miles   stock_no    year  \\\n",
       "0  b39ea795-eca9  19UNC1B01HY800062  179999.0   9966.0    V-P4139  2017.0   \n",
       "1  026cb5b1-6e3e  19UNC1B02HY800023  179995.0   5988.0  PPAP70374  2017.0   \n",
       "2  5cd5d5b2-5cc2  19UNC1B02HY800071  168528.0  24242.0     B21085  2017.0   \n",
       "3  b32473ed-5922  19UNC1B02LY800001  220000.0   6637.0     AP5333  2020.0   \n",
       "4  ac40c9fc-0676  19UNC1B02LY800001  220000.0   6637.0     AP5333  2020.0   \n",
       "\n",
       "    make model  trim body_type  ... transmission                    fuel_type  \\\n",
       "0  Acura   NSX  Base     Coupe  ...    Automatic  Electric / Premium Unleaded   \n",
       "1  Acura   NSX  Base     Coupe  ...    Automatic  Electric / Premium Unleaded   \n",
       "2  Acura   NSX  Base     Coupe  ...    Automatic  Electric / Premium Unleaded   \n",
       "3  Acura   NSX  Base     Coupe  ...    Automatic  Electric / Premium Unleaded   \n",
       "4  Acura   NSX  Base     Coupe  ...    Automatic  Electric / Premium Unleaded   \n",
       "\n",
       "  engine_size engine_block            seller_name  \\\n",
       "0         3.5            V       edmundston honda   \n",
       "1         3.5            V  garage daniel lessard   \n",
       "2         3.5            V         lougheed acura   \n",
       "3         3.5            V        drive autogroup   \n",
       "4         3.5            V        acura pickering   \n",
       "\n",
       "                           street                 city state      zip  \\\n",
       "0                475 Rue Victoria           Edmundston    NB  E3V 2K7   \n",
       "1  2795 Route-du-prsident-kennedy  Notre-dame-des-pins    QC  G0M 1K0   \n",
       "2           1388 Lougheed Highway            Coquitlam    BC  V3K 6S4   \n",
       "3          1305 Parkway Suite 600            Pickering    ON  L1V 3P2   \n",
       "4               575 Kingston Road            Pickering    ON  L1V 3N7   \n",
       "\n",
       "  price_range  \n",
       "0           5  \n",
       "1           5  \n",
       "2           5  \n",
       "3           5  \n",
       "4           5  \n",
       "\n",
       "[5 rows x 22 columns]"
      ]
     },
     "execution_count": 28,
     "metadata": {},
     "output_type": "execute_result"
    }
   ],
   "source": [
    "# Sanity Check\n",
    "df.head()"
   ]
  },
  {
   "cell_type": "markdown",
   "id": "0349a123-3342-4464-bd0b-b22f3b73acee",
   "metadata": {},
   "source": [
    "#### Target Variable Counting"
   ]
  },
  {
   "cell_type": "code",
   "execution_count": 29,
   "id": "ff2d1fb1-f9e6-4ebc-b73c-e82c49a1b6a4",
   "metadata": {
    "tags": []
   },
   "outputs": [
    {
     "data": {
      "text/plain": [
       "2    3154410\n",
       "3    1592743\n",
       "1    1316350\n",
       "4     500391\n",
       "5     241994\n",
       "Name: price_range, dtype: int64"
      ]
     },
     "execution_count": 29,
     "metadata": {},
     "output_type": "execute_result"
    }
   ],
   "source": [
    "df['price_range'].value_counts()"
   ]
  },
  {
   "cell_type": "markdown",
   "id": "86403470-7a87-469b-9d8c-d70f810afd12",
   "metadata": {},
   "source": [
    "<div style=\"border-radius:10px; border: #ffd500 solid; padding: 15px; background-color: #ffffcf; font-size:100%; text-align:left\">\n",
    "<font size=\"4px\" color=\"#ffa600\"><b>💬 Comment:</b></font>\n",
    "\n",
    "- There may be class imbalanced problem in here. We may handle them later.             \n",
    "                    \n",
    "<div>"
   ]
  },
  {
   "cell_type": "markdown",
   "id": "67692246-b99e-4d75-bf85-d7fc5ac3a216",
   "metadata": {},
   "source": [
    "#### Drop origin `price` column"
   ]
  },
  {
   "cell_type": "code",
   "execution_count": 30,
   "id": "6afa988f-db2b-407c-97f0-076bc2526b40",
   "metadata": {},
   "outputs": [
    {
     "name": "stdout",
     "output_type": "stream",
     "text": [
      "Successfully dropped columns: {'price'}\n"
     ]
    }
   ],
   "source": [
    "df = drop_cols_if_exist(df,[\"price\"])"
   ]
  },
  {
   "cell_type": "code",
   "execution_count": 31,
   "id": "066f2d78-a840-4c60-9be8-21684ec64f3f",
   "metadata": {},
   "outputs": [
    {
     "name": "stdout",
     "output_type": "stream",
     "text": [
      "Remaining Columns: Index(['id', 'vin', 'miles', 'stock_no', 'year', 'make', 'model', 'trim',\n",
      "       'body_type', 'vehicle_type', 'drivetrain', 'transmission', 'fuel_type',\n",
      "       'engine_size', 'engine_block', 'seller_name', 'street', 'city', 'state',\n",
      "       'zip', 'price_range'],\n",
      "      dtype='object')\n"
     ]
    }
   ],
   "source": [
    "# Double check the remaining columns\n",
    "print(f\"Remaining Columns: {df.columns}\")"
   ]
  },
  {
   "cell_type": "markdown",
   "id": "9a1108e1-fc39-441a-9aab-101d673c6bc0",
   "metadata": {},
   "source": [
    "---"
   ]
  },
  {
   "cell_type": "markdown",
   "id": "5146e53c-1997-4c23-acf3-842467afbe32",
   "metadata": {
    "tags": []
   },
   "source": [
    "<div style=\"border-radius:10px; border:#33a0ff solid; padding: 15px; background-color: #f0f1ff; font-size:100%; text-align:left\">\n",
    "<a class=\"anchor\" id=\"1-drop-useless\">\n",
    "<h3> Remove columns that may not be useful to our prediction </h3>\n",
    "</a>\n",
    "    \n",
    "- `id` is the unique id for each listing (record), it is not useful for our prediction.\n",
    "- `vin` is the unique id for each car, we will keep it as it may be helpful in feature engineering step. Listing history of the same car can be traced back if possible.\n",
    "- `stock_no` is the stock id of the car listed on the website, it is not useful for our prediction.\n",
    "- `seller_name` is the the name of the seller, it may not be useful for our prediction.\n",
    "- `street` is the the location of the seller, the location information can be retrieved from the zip code as well. But we will keep it here now. for data cleaning purpose.\n",
    "</div>"
   ]
  },
  {
   "cell_type": "code",
   "execution_count": 32,
   "id": "a1d4a410-7843-4c44-b867-ebdf96ae8b59",
   "metadata": {},
   "outputs": [
    {
     "name": "stdout",
     "output_type": "stream",
     "text": [
      "Successfully dropped columns: {'id', 'seller_name', 'stock_no'}\n",
      "Remaining Columns: Index(['vin', 'miles', 'year', 'make', 'model', 'trim', 'body_type',\n",
      "       'vehicle_type', 'drivetrain', 'transmission', 'fuel_type',\n",
      "       'engine_size', 'engine_block', 'street', 'city', 'state', 'zip',\n",
      "       'price_range'],\n",
      "      dtype='object')\n"
     ]
    }
   ],
   "source": [
    "columns_to_remove = [\"id\",\"stock_no\",\"seller_name\"]\n",
    "df = drop_cols_if_exist(df,columns_to_remove)\n",
    "print(f\"Remaining Columns: {df.columns}\")"
   ]
  },
  {
   "cell_type": "code",
   "execution_count": 33,
   "id": "8c8657a7-c8c3-4b1c-8e70-88391c0ca0db",
   "metadata": {},
   "outputs": [
    {
     "data": {
      "text/html": [
       "<div>\n",
       "<style scoped>\n",
       "    .dataframe tbody tr th:only-of-type {\n",
       "        vertical-align: middle;\n",
       "    }\n",
       "\n",
       "    .dataframe tbody tr th {\n",
       "        vertical-align: top;\n",
       "    }\n",
       "\n",
       "    .dataframe thead th {\n",
       "        text-align: right;\n",
       "    }\n",
       "</style>\n",
       "<table border=\"1\" class=\"dataframe\">\n",
       "  <thead>\n",
       "    <tr style=\"text-align: right;\">\n",
       "      <th></th>\n",
       "      <th>vin</th>\n",
       "      <th>miles</th>\n",
       "      <th>year</th>\n",
       "      <th>make</th>\n",
       "      <th>model</th>\n",
       "      <th>trim</th>\n",
       "      <th>body_type</th>\n",
       "      <th>vehicle_type</th>\n",
       "      <th>drivetrain</th>\n",
       "      <th>transmission</th>\n",
       "      <th>fuel_type</th>\n",
       "      <th>engine_size</th>\n",
       "      <th>engine_block</th>\n",
       "      <th>street</th>\n",
       "      <th>city</th>\n",
       "      <th>state</th>\n",
       "      <th>zip</th>\n",
       "      <th>price_range</th>\n",
       "    </tr>\n",
       "  </thead>\n",
       "  <tbody>\n",
       "    <tr>\n",
       "      <th>0</th>\n",
       "      <td>19UNC1B01HY800062</td>\n",
       "      <td>9966.0</td>\n",
       "      <td>2017.0</td>\n",
       "      <td>Acura</td>\n",
       "      <td>NSX</td>\n",
       "      <td>Base</td>\n",
       "      <td>Coupe</td>\n",
       "      <td>Car</td>\n",
       "      <td>4WD</td>\n",
       "      <td>Automatic</td>\n",
       "      <td>Electric / Premium Unleaded</td>\n",
       "      <td>3.5</td>\n",
       "      <td>V</td>\n",
       "      <td>475 Rue Victoria</td>\n",
       "      <td>Edmundston</td>\n",
       "      <td>NB</td>\n",
       "      <td>E3V 2K7</td>\n",
       "      <td>5</td>\n",
       "    </tr>\n",
       "    <tr>\n",
       "      <th>1</th>\n",
       "      <td>19UNC1B02HY800023</td>\n",
       "      <td>5988.0</td>\n",
       "      <td>2017.0</td>\n",
       "      <td>Acura</td>\n",
       "      <td>NSX</td>\n",
       "      <td>Base</td>\n",
       "      <td>Coupe</td>\n",
       "      <td>Car</td>\n",
       "      <td>4WD</td>\n",
       "      <td>Automatic</td>\n",
       "      <td>Electric / Premium Unleaded</td>\n",
       "      <td>3.5</td>\n",
       "      <td>V</td>\n",
       "      <td>2795 Route-du-prsident-kennedy</td>\n",
       "      <td>Notre-dame-des-pins</td>\n",
       "      <td>QC</td>\n",
       "      <td>G0M 1K0</td>\n",
       "      <td>5</td>\n",
       "    </tr>\n",
       "    <tr>\n",
       "      <th>2</th>\n",
       "      <td>19UNC1B02HY800071</td>\n",
       "      <td>24242.0</td>\n",
       "      <td>2017.0</td>\n",
       "      <td>Acura</td>\n",
       "      <td>NSX</td>\n",
       "      <td>Base</td>\n",
       "      <td>Coupe</td>\n",
       "      <td>Car</td>\n",
       "      <td>4WD</td>\n",
       "      <td>Automatic</td>\n",
       "      <td>Electric / Premium Unleaded</td>\n",
       "      <td>3.5</td>\n",
       "      <td>V</td>\n",
       "      <td>1388 Lougheed Highway</td>\n",
       "      <td>Coquitlam</td>\n",
       "      <td>BC</td>\n",
       "      <td>V3K 6S4</td>\n",
       "      <td>5</td>\n",
       "    </tr>\n",
       "    <tr>\n",
       "      <th>3</th>\n",
       "      <td>19UNC1B02LY800001</td>\n",
       "      <td>6637.0</td>\n",
       "      <td>2020.0</td>\n",
       "      <td>Acura</td>\n",
       "      <td>NSX</td>\n",
       "      <td>Base</td>\n",
       "      <td>Coupe</td>\n",
       "      <td>Car</td>\n",
       "      <td>4WD</td>\n",
       "      <td>Automatic</td>\n",
       "      <td>Electric / Premium Unleaded</td>\n",
       "      <td>3.5</td>\n",
       "      <td>V</td>\n",
       "      <td>1305 Parkway Suite 600</td>\n",
       "      <td>Pickering</td>\n",
       "      <td>ON</td>\n",
       "      <td>L1V 3P2</td>\n",
       "      <td>5</td>\n",
       "    </tr>\n",
       "    <tr>\n",
       "      <th>4</th>\n",
       "      <td>19UNC1B02LY800001</td>\n",
       "      <td>6637.0</td>\n",
       "      <td>2020.0</td>\n",
       "      <td>Acura</td>\n",
       "      <td>NSX</td>\n",
       "      <td>Base</td>\n",
       "      <td>Coupe</td>\n",
       "      <td>Car</td>\n",
       "      <td>4WD</td>\n",
       "      <td>Automatic</td>\n",
       "      <td>Electric / Premium Unleaded</td>\n",
       "      <td>3.5</td>\n",
       "      <td>V</td>\n",
       "      <td>575 Kingston Road</td>\n",
       "      <td>Pickering</td>\n",
       "      <td>ON</td>\n",
       "      <td>L1V 3N7</td>\n",
       "      <td>5</td>\n",
       "    </tr>\n",
       "  </tbody>\n",
       "</table>\n",
       "</div>"
      ],
      "text/plain": [
       "                 vin    miles    year   make model  trim body_type  \\\n",
       "0  19UNC1B01HY800062   9966.0  2017.0  Acura   NSX  Base     Coupe   \n",
       "1  19UNC1B02HY800023   5988.0  2017.0  Acura   NSX  Base     Coupe   \n",
       "2  19UNC1B02HY800071  24242.0  2017.0  Acura   NSX  Base     Coupe   \n",
       "3  19UNC1B02LY800001   6637.0  2020.0  Acura   NSX  Base     Coupe   \n",
       "4  19UNC1B02LY800001   6637.0  2020.0  Acura   NSX  Base     Coupe   \n",
       "\n",
       "  vehicle_type drivetrain transmission                    fuel_type  \\\n",
       "0          Car        4WD    Automatic  Electric / Premium Unleaded   \n",
       "1          Car        4WD    Automatic  Electric / Premium Unleaded   \n",
       "2          Car        4WD    Automatic  Electric / Premium Unleaded   \n",
       "3          Car        4WD    Automatic  Electric / Premium Unleaded   \n",
       "4          Car        4WD    Automatic  Electric / Premium Unleaded   \n",
       "\n",
       "   engine_size engine_block                          street  \\\n",
       "0          3.5            V                475 Rue Victoria   \n",
       "1          3.5            V  2795 Route-du-prsident-kennedy   \n",
       "2          3.5            V           1388 Lougheed Highway   \n",
       "3          3.5            V          1305 Parkway Suite 600   \n",
       "4          3.5            V               575 Kingston Road   \n",
       "\n",
       "                  city state      zip  price_range  \n",
       "0           Edmundston    NB  E3V 2K7            5  \n",
       "1  Notre-dame-des-pins    QC  G0M 1K0            5  \n",
       "2            Coquitlam    BC  V3K 6S4            5  \n",
       "3            Pickering    ON  L1V 3P2            5  \n",
       "4            Pickering    ON  L1V 3N7            5  "
      ]
     },
     "execution_count": 33,
     "metadata": {},
     "output_type": "execute_result"
    }
   ],
   "source": [
    "df.head()"
   ]
  },
  {
   "cell_type": "markdown",
   "id": "aeb529c4-be28-4d5f-9bce-0b611f2c70ee",
   "metadata": {},
   "source": [
    "---"
   ]
  },
  {
   "cell_type": "markdown",
   "id": "3923bd91-85c4-4933-90a4-671691042d3b",
   "metadata": {
    "tags": []
   },
   "source": [
    "<div style=\"border-radius:10px; border:#33a0ff solid; padding: 15px; background-color: #f0f1ff; font-size:100%; text-align:left\">\n",
    "<a class=\"anchor\" id=\"1-null-col-check\">\n",
    "<h3> Handle Null Value in Each Column </h3>\n",
    "</a>\n",
    "</div>"
   ]
  },
  {
   "cell_type": "code",
   "execution_count": 34,
   "id": "9db89d87-a0d0-4652-810a-487b245d97d6",
   "metadata": {},
   "outputs": [
    {
     "name": "stdout",
     "output_type": "stream",
     "text": [
      "=== Null Count ===\n",
      "vin                  0\n",
      "miles            57777\n",
      "year                92\n",
      "make                 0\n",
      "model             9720\n",
      "trim             42796\n",
      "body_type        50534\n",
      "vehicle_type     62808\n",
      "drivetrain       42903\n",
      "transmission     38570\n",
      "fuel_type        94785\n",
      "engine_size     143713\n",
      "engine_block    146977\n",
      "street           35246\n",
      "city             17946\n",
      "state            18016\n",
      "zip              18146\n",
      "price_range          0\n",
      "dtype: int64\n"
     ]
    }
   ],
   "source": [
    "print_null_count(df)"
   ]
  },
  {
   "cell_type": "markdown",
   "id": "2463e12e-0d09-4327-8209-c1681c3c451d",
   "metadata": {},
   "source": [
    "---"
   ]
  },
  {
   "cell_type": "markdown",
   "id": "b0d5eaa1-6e2d-4929-9545-885707b26b7e",
   "metadata": {
    "tags": [],
    "toc-hr-collapsed": true
   },
   "source": [
    "<div style=\"border-radius:10px; border:#33a0ff solid; padding: 15px; background-color: #f0f1ff; font-size:100%; text-align:left\">\n",
    "<a class=\"anchor\" id=\"1-col-miles\">\n",
    "    <h3> Column: <b><i>miles</i></b> </h3>\n",
    "</a>\n",
    "</div>"
   ]
  },
  {
   "cell_type": "markdown",
   "id": "7bb79d61-8c04-4770-ab1b-4bf2f9b4104d",
   "metadata": {},
   "source": [
    "#### Null Value Check"
   ]
  },
  {
   "cell_type": "code",
   "execution_count": 35,
   "id": "66901c3e-e135-4142-8e91-cc80ac39484c",
   "metadata": {},
   "outputs": [
    {
     "name": "stdout",
     "output_type": "stream",
     "text": [
      "=== Null Count ===\n",
      "Column `miles`: 57777\n"
     ]
    }
   ],
   "source": [
    "# How many null value in this column\n",
    "print_null_count(df,[\"miles\"])"
   ]
  },
  {
   "cell_type": "code",
   "execution_count": 36,
   "id": "47922698-62c8-4656-9eee-fd6b36e61f2c",
   "metadata": {},
   "outputs": [
    {
     "name": "stdout",
     "output_type": "stream",
     "text": [
      "=== Null Count Precentage ===\n",
      "Column miles: 0.8489%\n"
     ]
    }
   ],
   "source": [
    "# Precentage of null value in this column\n",
    "print_null_pct(df,[\"miles\"])"
   ]
  },
  {
   "cell_type": "markdown",
   "id": "e3277ace-1513-4c94-909c-d1865fa330ac",
   "metadata": {},
   "source": [
    "#### Question: How to deal with the null values?"
   ]
  },
  {
   "cell_type": "markdown",
   "id": "a3b5f8e4-c5e6-479e-98a9-5d317ba4a66a",
   "metadata": {},
   "source": [
    "<div style=\"border-radius:10px; border: #ffd500 solid; padding: 15px; background-color: #ffffcf; font-size:100%; text-align:left\">\n",
    "<font size=\"4px\" color=\"#ffa600\"><b>🧠 Idea:</b></font>\n",
    "\n",
    "- We can either use the mean or median value to replace all the null value.\n",
    "- But which to use?\n",
    "                    \n",
    "<div>"
   ]
  },
  {
   "cell_type": "code",
   "execution_count": 37,
   "id": "537c07fd-fcef-4589-b088-0bceb288cd35",
   "metadata": {},
   "outputs": [],
   "source": [
    "# Remove na from the series for plotting\n",
    "df_miles = df[\"miles\"]\n",
    "df_miles_no_na =df_miles.dropna()"
   ]
  },
  {
   "cell_type": "code",
   "execution_count": 38,
   "id": "7d189124-5de7-4409-aa17-383c22b329ec",
   "metadata": {},
   "outputs": [
    {
     "data": {
      "image/png": "[encoded data removed]",
      "text/plain": [
       "<Figure size 400x400 with 1 Axes>"
      ]
     },
     "metadata": {},
     "output_type": "display_data"
    }
   ],
   "source": [
    "# Set up plot\n",
    "plt.figure(figsize=(4,4))\n",
    "# Plot\n",
    "plt.hist(df_miles_no_na,bins=50)\n",
    "# Plot title & axes\n",
    "plt.title(\"Miles Travelled by Vehicle Histogram\")\n",
    "plt.xlabel(\"Miles Travelled\")\n",
    "plt.ylabel(\"Count\")\n",
    "# Show Plot\n",
    "plt.show()"
   ]
  },
  {
   "cell_type": "markdown",
   "id": "dcfe7621-3755-4a10-8dc4-cb03344efdce",
   "metadata": {},
   "source": [
    "<div style=\"border-radius:10px; border: #ffd500 solid; padding: 15px; background-color: #ffffcf; font-size:100%; text-align:left\">\n",
    "<font size=\"4px\" color=\"#ffa600\"><b>💬 Comment:</b></font>\n",
    "\n",
    "- It seems that the plot has some the outliers on the right. Now, we try to make a boxplot.\n",
    "                    \n",
    "<div>"
   ]
  },
  {
   "cell_type": "code",
   "execution_count": 39,
   "id": "2419715b-d540-4456-8c6a-c594859eb574",
   "metadata": {},
   "outputs": [
    {
     "data": {
      "image/png": "[encoded data removed]",
      "text/plain": [
       "<Figure size 1500x400 with 1 Axes>"
      ]
     },
     "metadata": {},
     "output_type": "display_data"
    }
   ],
   "source": [
    "# Set up plot\n",
    "plt.figure(figsize=(15,4))\n",
    "# Plot\n",
    "box = plt.boxplot(df_miles_no_na,vert=False)\n",
    "# Plot title & axes\n",
    "plt.title(\"Miles Travelled by Vehicle Boxplot\")\n",
    "plt.xlabel(\"Miles Travelled\")\n",
    "plt.yticks([]) # Remove y axis tick\n",
    "# Show Plot\n",
    "plt.show()"
   ]
  },
  {
   "cell_type": "code",
   "execution_count": 40,
   "id": "a8ef85c7-e5e8-49cd-9eb6-e8571e0e6c1f",
   "metadata": {},
   "outputs": [
    {
     "name": "stdout",
     "output_type": "stream",
     "text": [
      "The range of the whiskers in the above plot is from 0.0 miles to 155436.0 miles\n"
     ]
    }
   ],
   "source": [
    "whiskers = [item.get_xdata()[1] for item in box[\"whiskers\"]]\n",
    "print(f\"The range of the whiskers in the above plot is from {whiskers[0]} miles to {whiskers[1]} miles\")"
   ]
  },
  {
   "cell_type": "code",
   "execution_count": 41,
   "id": "3fd458f9-b78c-4988-8217-03f2face70d5",
   "metadata": {},
   "outputs": [],
   "source": [
    "# Show the statistics of the `miles` column\n",
    "miles_stats = df[\"miles\"].describe()"
   ]
  },
  {
   "cell_type": "markdown",
   "id": "54cf8d4f-1816-4ab3-9040-b72e3ccf72e6",
   "metadata": {},
   "source": [
    "<div style=\"border-radius:10px; border: #ffd500 solid; padding: 15px; background-color: #ffffcf; font-size:100%; text-align:left\">\n",
    "<font size=\"4px\" color=\"#ffa600\"><b>💬 Comment:</b></font>\n",
    "\n",
    "- In order to determine what to do with the null data, we focus on the range of the whisker.\n",
    "                    \n",
    "<div>"
   ]
  },
  {
   "cell_type": "code",
   "execution_count": 42,
   "id": "7bb97b34-2d11-483b-86e9-d8d23c80be04",
   "metadata": {},
   "outputs": [],
   "source": [
    "mean = miles_stats[\"mean\"]\n",
    "med = miles_stats[\"50%\"]"
   ]
  },
  {
   "cell_type": "code",
   "execution_count": 43,
   "id": "d4f6bd2f-6758-4426-ad9c-c2120017aa92",
   "metadata": {},
   "outputs": [
    {
     "data": {
      "image/png": "[encoded data removed]",
      "text/plain": [
       "<Figure size 400x400 with 1 Axes>"
      ]
     },
     "metadata": {},
     "output_type": "display_data"
    }
   ],
   "source": [
    "# Set up plot\n",
    "plt.figure(figsize=(4,4))\n",
    "# Plot\n",
    "plt.hist(df_miles_no_na,bins=400)\n",
    "# Plot vertical line for mean and median\n",
    "plt.axvline(mean,color = \"red\",label = \"Mean\")\n",
    "plt.axvline(med,color = \"lightgreen\",label = \"Median\")\n",
    "# Plot title & axes\n",
    "plt.title(f\"Miles Travelled by Vehicle Histogram\")\n",
    "plt.xlabel(\"Miles Travelled\")\n",
    "plt.ylabel(\"Count\")\n",
    "plt.xlim([0,160000])\n",
    "plt.legend()\n",
    "# Show Plot\n",
    "plt.show()"
   ]
  },
  {
   "cell_type": "markdown",
   "id": "4d4eddf5-c47a-45a6-8ab7-5459f3fb2841",
   "metadata": {},
   "source": [
    "<div style=\"border-radius:10px; border: #ffd500 solid; padding: 15px; background-color: #ffffcf; font-size:100%; text-align:left\">\n",
    "<font size=\"4px\" color=\"#ffa600\"><b>💬 Comment:</b></font>\n",
    "\n",
    "- As we have so many outliers from the boxplot above and the median is closer to the peak of the data than that of mean, I will use the median to fill in the null value.\n",
    "                    \n",
    "<div>"
   ]
  },
  {
   "cell_type": "markdown",
   "id": "d31376f7-bbd2-4e52-b419-7a2b9b1c522d",
   "metadata": {},
   "source": [
    "#### Fill Null Value"
   ]
  },
  {
   "cell_type": "code",
   "execution_count": 44,
   "id": "52983cca-a9cf-499a-8daa-35a1ddf8533f",
   "metadata": {},
   "outputs": [],
   "source": [
    "# Fill the null value with median\n",
    "df[\"miles\"].fillna(med,inplace=True)"
   ]
  },
  {
   "cell_type": "markdown",
   "id": "a0d6321c-4dc0-494d-b401-54bc226aef4d",
   "metadata": {},
   "source": [
    "##### Double check null value count"
   ]
  },
  {
   "cell_type": "code",
   "execution_count": 45,
   "id": "52239fd1-f5bf-4152-8e6f-7d522333dff5",
   "metadata": {},
   "outputs": [
    {
     "name": "stdout",
     "output_type": "stream",
     "text": [
      "=== Null Count ===\n",
      "Column `miles`: 0\n"
     ]
    }
   ],
   "source": [
    "# Check any null value in `miles` column\n",
    "print_null_count(df,[\"miles\"])"
   ]
  },
  {
   "cell_type": "markdown",
   "id": "9564e4c8-71c4-4126-928d-9e320f12a8a0",
   "metadata": {},
   "source": [
    "<div style=\"border-radius:10px; border: #ffd500 solid; padding: 15px; background-color: #ffffcf; font-size:100%; text-align:left\">\n",
    "<font size=\"4px\" color=\"#ffa600\"><b>💬 Comment:</b></font>\n",
    "\n",
    "- Moreover, we can see that the distribution of the data is skewed. So let's try to apply log transformation on it.\n",
    "                    \n",
    "<div>"
   ]
  },
  {
   "cell_type": "code",
   "execution_count": 46,
   "id": "9d396a09-874c-4785-890f-99268b38421e",
   "metadata": {
    "tags": []
   },
   "outputs": [
    {
     "data": {
      "image/png": "[encoded data removed]",
      "text/plain": [
       "<Figure size 400x400 with 1 Axes>"
      ]
     },
     "metadata": {},
     "output_type": "display_data"
    }
   ],
   "source": [
    "# Set up plot\n",
    "plt.figure(figsize=(4,4))\n",
    "# Plot\n",
    "plt.hist(np.log(df_miles_no_na+1),bins=50)\n",
    "# Plot vertical line for mean and median\n",
    "plt.axvline(np.log(mean),color = \"red\",label = \"Mean\")\n",
    "plt.axvline(np.log(med),color = \"lightgreen\",label = \"Median\")\n",
    "# Plot title & axes\n",
    "plt.title(f\"Miles Travelled by Vehicle Histogram\")\n",
    "plt.xlabel(\"Miles Travelled (log)\")\n",
    "plt.ylabel(\"Count\")\n",
    "plt.legend()\n",
    "# Show Plot\n",
    "plt.show()"
   ]
  },
  {
   "cell_type": "markdown",
   "id": "5e713b3d-2af8-4c25-a4dc-c5b21601ddbe",
   "metadata": {},
   "source": [
    "<div style=\"border-radius:10px; border: #ffd500 solid; padding: 15px; background-color: #ffffcf; font-size:100%; text-align:left\">\n",
    "<font size=\"4px\" color=\"#ffa600\"><b>💬 Comment:</b></font>\n",
    "\n",
    "- After log transformation, the distribution is more similar to normal distribution.\n",
    "                    \n",
    "<div>"
   ]
  },
  {
   "cell_type": "markdown",
   "id": "cf43b67c-c800-49f1-88ec-514e47b75d27",
   "metadata": {},
   "source": [
    "---"
   ]
  },
  {
   "cell_type": "markdown",
   "id": "b0ee9a2e-8895-4d53-8ec3-2a2662251353",
   "metadata": {
    "jp-MarkdownHeadingCollapsed": true,
    "tags": [],
    "toc-hr-collapsed": true
   },
   "source": [
    "<div style=\"border-radius:10px; border:#33a0ff solid; padding: 15px; background-color: #f0f1ff; font-size:100%; text-align:left\">\n",
    "<a class=\"anchor\" id=\"1-col-year\">\n",
    "    <h3> Column: <b><i>year</i></b> </h3>\n",
    "</a>\n",
    "</div>"
   ]
  },
  {
   "cell_type": "markdown",
   "id": "8aef93c7-d419-47bc-b44c-af97c9674cdf",
   "metadata": {},
   "source": [
    "#### Null Value Check"
   ]
  },
  {
   "cell_type": "code",
   "execution_count": 47,
   "id": "fc27d26e-a5a1-43f2-a340-c8e7619fc916",
   "metadata": {},
   "outputs": [
    {
     "name": "stdout",
     "output_type": "stream",
     "text": [
      "=== Null Count ===\n",
      "Column `year`: 92\n"
     ]
    }
   ],
   "source": [
    "# How many null value in this column\n",
    "print_null_count(df,[\"year\"])"
   ]
  },
  {
   "cell_type": "code",
   "execution_count": 48,
   "id": "93d01898-baaf-4d1d-b291-8e849ed6e667",
   "metadata": {},
   "outputs": [
    {
     "name": "stdout",
     "output_type": "stream",
     "text": [
      "=== Null Count Precentage ===\n",
      "Column year: 0.0014%\n"
     ]
    }
   ],
   "source": [
    "# Precentage of null value in this column\n",
    "print_null_pct(df,[\"year\"])"
   ]
  },
  {
   "cell_type": "code",
   "execution_count": 49,
   "id": "f0e9d3d2-4be7-452a-a587-b29c6dcfe6a5",
   "metadata": {
    "tags": []
   },
   "outputs": [
    {
     "data": {
      "image/png": "[encoded data removed]",
      "text/plain": [
       "<Figure size 800x500 with 1 Axes>"
      ]
     },
     "metadata": {},
     "output_type": "display_data"
    }
   ],
   "source": [
    "year_series = df['year']\n",
    "year_val_count = year_series.value_counts()\n",
    "\n",
    "# Set up plt\n",
    "plt.figure(figsize=(8,5))\n",
    "# Plot\n",
    "plt.bar(year_val_count.index, year_val_count.values)\n",
    "# Plot Title & Axes\n",
    "plt.title(\"Number of Listing by Year\")\n",
    "plt.xlabel(\"Year\")\n",
    "plt.ylabel(\"Listing Count\")\n",
    "# Show Plot\n",
    "plt.show()"
   ]
  },
  {
   "cell_type": "markdown",
   "id": "7b6969f9-d2fb-40ab-b8e3-eff2c7423449",
   "metadata": {},
   "source": [
    "#### Question: How to deal with the null values?"
   ]
  },
  {
   "cell_type": "markdown",
   "id": "1d97cb3b-e45c-49f3-bacd-e199e96c2ab0",
   "metadata": {},
   "source": [
    "<div style=\"border-radius:10px; border: #ffd500 solid; padding: 15px; background-color: #ffffcf; font-size:100%; text-align:left\">\n",
    "<font size=\"4px\" color=\"#ffa600\"><b>🧠 Idea:</b></font>\n",
    "\n",
    "- As we can see from the plot, the number of listing **increase exponentially**, which matches with the exponential growth in automobile industries and the rise of e-platform for these kind of dealer service. \n",
    "- Consider this scenario and **the number of null value is very small (0.0014% of total)**, it is better not to guess the `year` of the listing record with null `year` value.  \n",
    "- Instead, we **drop** them away.\n",
    "                    \n",
    "<div>"
   ]
  },
  {
   "cell_type": "markdown",
   "id": "68ba2f03-3901-4729-b9ca-a339e05fc926",
   "metadata": {},
   "source": [
    "#### Drop rows without `year`"
   ]
  },
  {
   "cell_type": "code",
   "execution_count": 50,
   "id": "47022b18-b37b-42b8-bc65-478df28a1913",
   "metadata": {},
   "outputs": [
    {
     "name": "stdout",
     "output_type": "stream",
     "text": [
      "The dataframe has 6805796 rows of record now.\n"
     ]
    }
   ],
   "source": [
    "# Drop row that have null value in `year`\n",
    "df.dropna(subset=[\"year\"],inplace = True)\n",
    "\n",
    "# Check number of data left after dropping\n",
    "print_num_row(df)"
   ]
  },
  {
   "cell_type": "markdown",
   "id": "e22dece4-e6d0-437e-a7bf-56491fad6833",
   "metadata": {},
   "source": [
    "---"
   ]
  },
  {
   "cell_type": "markdown",
   "id": "f2542d1b-8e4e-4857-ac30-63d1d7d1ab19",
   "metadata": {
    "tags": [],
    "toc-hr-collapsed": true
   },
   "source": [
    "<div style=\"border-radius:10px; border:#33a0ff solid; padding: 15px; background-color: #f0f1ff; font-size:100%; text-align:left\">\n",
    "<a class=\"anchor\" id=\"1-col-model\">\n",
    "    <h3> Column: <b><i>model</i></b> </h3>\n",
    "</a>\n",
    "</div>"
   ]
  },
  {
   "cell_type": "markdown",
   "id": "a1286e95-49bd-4d2d-b5b3-c73550c94f51",
   "metadata": {
    "tags": []
   },
   "source": [
    "#### Null Value Check"
   ]
  },
  {
   "cell_type": "code",
   "execution_count": 51,
   "id": "f29e6ce5-3858-4d3e-9b3d-66cdfc2b5945",
   "metadata": {},
   "outputs": [
    {
     "name": "stdout",
     "output_type": "stream",
     "text": [
      "=== Null Count ===\n",
      "Column `model`: 9681\n"
     ]
    }
   ],
   "source": [
    "# How many null value in this column\n",
    "print_null_count(df,[\"model\"])"
   ]
  },
  {
   "cell_type": "code",
   "execution_count": 52,
   "id": "ee670bef-7ca1-4e0c-8b9d-bad24e4f80a7",
   "metadata": {},
   "outputs": [
    {
     "name": "stdout",
     "output_type": "stream",
     "text": [
      "=== Null Count Precentage ===\n",
      "Column model: 0.1422%\n"
     ]
    }
   ],
   "source": [
    "# Precentage of null value in this column\n",
    "print_null_pct(df,[\"model\"])"
   ]
  },
  {
   "cell_type": "code",
   "execution_count": 53,
   "id": "741e7f0e-dc53-46a4-a20e-75be70d58258",
   "metadata": {},
   "outputs": [
    {
     "data": {
      "text/plain": [
       "F-150              241837\n",
       "Silverado 1500     183232\n",
       "Ram 1500 Pickup    140323\n",
       "CR-V               135020\n",
       "Escape             117744\n",
       "                    ...  \n",
       "GS 300                  1\n",
       "300sd                   1\n",
       "CBR900RR                1\n",
       "Vanagon                 1\n",
       "Bronco 2-Door           1\n",
       "Name: model, Length: 1251, dtype: int64"
      ]
     },
     "execution_count": 53,
     "metadata": {},
     "output_type": "execute_result"
    }
   ],
   "source": [
    "# Apply value_count in the column\n",
    "target_col_val_count = df[\"model\"].value_counts()\n",
    "target_col_val_count"
   ]
  },
  {
   "cell_type": "code",
   "execution_count": 54,
   "id": "cb452c84-7a99-4dc8-abff-d1f78d231228",
   "metadata": {},
   "outputs": [
    {
     "name": "stdout",
     "output_type": "stream",
     "text": [
      "There are 1251 distinct value in `model` column.\n"
     ]
    }
   ],
   "source": [
    "print(f\"There are {len(target_col_val_count)} distinct value in `model` column.\")"
   ]
  },
  {
   "cell_type": "markdown",
   "id": "7401e418-79c6-484a-ba8e-3c25281905ca",
   "metadata": {},
   "source": [
    "#### Question: How to deal with the null values?"
   ]
  },
  {
   "cell_type": "markdown",
   "id": "f84c3992-2f96-47c9-89f7-e678ae22ec61",
   "metadata": {},
   "source": [
    "<div style=\"border-radius:10px; border: #ffd500 solid; padding: 15px; background-color: #ffffcf; font-size:100%; text-align:left\">\n",
    "<font size=\"4px\" color=\"#ffa600\"><b>🧠 Idea:</b></font>\n",
    "\n",
    "- As the null percentage of the column `model` is only 0.14%, we can fill them up with `Not Provided` first.\n",
    "- As there are many distinct values in this column, we may handle them later in the EDA section.\n",
    "                    \n",
    "<div>"
   ]
  },
  {
   "cell_type": "markdown",
   "id": "4920ad9a-942a-49ee-8f87-e3b756839d85",
   "metadata": {},
   "source": [
    "#### Fill Null Value"
   ]
  },
  {
   "cell_type": "code",
   "execution_count": 55,
   "id": "48a9e142-38bb-494a-8d3e-0f25c195136c",
   "metadata": {},
   "outputs": [],
   "source": [
    "# Fill NA with \"Not Provided\"\n",
    "df[\"model\"] = df[\"model\"].fillna(value=\"Not Provided\")"
   ]
  },
  {
   "cell_type": "markdown",
   "id": "a1bf5e9a-276e-490c-9ad9-bf4223bced5e",
   "metadata": {},
   "source": [
    "##### Double check null value count"
   ]
  },
  {
   "cell_type": "code",
   "execution_count": 56,
   "id": "fd02c6d8-83b6-4fbf-9124-0c68a9e7a5c9",
   "metadata": {},
   "outputs": [
    {
     "name": "stdout",
     "output_type": "stream",
     "text": [
      "=== Null Count ===\n",
      "Column `model`: 0\n"
     ]
    }
   ],
   "source": [
    "# Check number of null value\n",
    "print_null_count(df,[\"model\"])"
   ]
  },
  {
   "cell_type": "code",
   "execution_count": 57,
   "id": "6fbb2511-3b8a-444b-96d7-76bf1d749080",
   "metadata": {},
   "outputs": [
    {
     "data": {
      "text/plain": [
       "9681"
      ]
     },
     "execution_count": 57,
     "metadata": {},
     "output_type": "execute_result"
    }
   ],
   "source": [
    "# Double Check \"Not provided\" count\n",
    "df[\"model\"].value_counts()['Not Provided']"
   ]
  },
  {
   "cell_type": "markdown",
   "id": "23381415-7f21-4cbb-9532-96b0615ea955",
   "metadata": {},
   "source": [
    "---"
   ]
  },
  {
   "cell_type": "markdown",
   "id": "35054d7b-07f4-47cc-955a-7f6bd9c6de2f",
   "metadata": {
    "tags": [],
    "toc-hr-collapsed": true
   },
   "source": [
    "<div style=\"border-radius:10px; border:#33a0ff solid; padding: 15px; background-color: #f0f1ff; font-size:100%; text-align:left\">\n",
    "<a class=\"anchor\" id=\"1-col-trim\">\n",
    "    <h3> Column: <b><i>trim</i></b> </h3>\n",
    "</a>\n",
    "</div>"
   ]
  },
  {
   "cell_type": "markdown",
   "id": "d4bdc104-9330-4270-a9b8-d43fe7fc04fc",
   "metadata": {},
   "source": [
    "#### Null Value Check"
   ]
  },
  {
   "cell_type": "code",
   "execution_count": 58,
   "id": "a134736a-ae55-4454-9d33-f9d15f78da72",
   "metadata": {},
   "outputs": [
    {
     "name": "stdout",
     "output_type": "stream",
     "text": [
      "=== Null Count ===\n",
      "Column `trim`: 42766\n"
     ]
    }
   ],
   "source": [
    "# How many null value in this column\n",
    "print_null_count(df,[\"trim\"])"
   ]
  },
  {
   "cell_type": "code",
   "execution_count": 59,
   "id": "be0e9a52-d262-4938-8655-0991b3db6b76",
   "metadata": {},
   "outputs": [
    {
     "name": "stdout",
     "output_type": "stream",
     "text": [
      "=== Null Count Precentage ===\n",
      "Column trim: 0.6284%\n"
     ]
    }
   ],
   "source": [
    "# Precentage of null value in this column\n",
    "print_null_pct(df,[\"trim\"])"
   ]
  },
  {
   "cell_type": "code",
   "execution_count": 60,
   "id": "cac2335a-1552-4f95-927c-856405a7083c",
   "metadata": {},
   "outputs": [
    {
     "data": {
      "text/plain": [
       "SE                  401087\n",
       "Base                341931\n",
       "Limited             313880\n",
       "LT                  265268\n",
       "S                   255824\n",
       "                     ...  \n",
       "Premiere Edition         1\n",
       "Ext. Cab 4WD             1\n",
       "735i Automatic           1\n",
       "SPECIAL ED               1\n",
       "R63 AMG                  1\n",
       "Name: trim, Length: 2491, dtype: int64"
      ]
     },
     "execution_count": 60,
     "metadata": {},
     "output_type": "execute_result"
    }
   ],
   "source": [
    "# Apply value_count in the column\n",
    "target_col_val_count = df[\"trim\"].value_counts()\n",
    "target_col_val_count"
   ]
  },
  {
   "cell_type": "code",
   "execution_count": 61,
   "id": "411747c7-ddc1-4852-89e3-b75c00a78ebf",
   "metadata": {},
   "outputs": [
    {
     "name": "stdout",
     "output_type": "stream",
     "text": [
      "There are 2491 distinct value in `trim` column.\n"
     ]
    }
   ],
   "source": [
    "print(f\"There are {len(target_col_val_count)} distinct value in `trim` column.\")"
   ]
  },
  {
   "cell_type": "markdown",
   "id": "2a2320b8-59b7-494e-b73f-8b40b0d2e9cc",
   "metadata": {},
   "source": [
    "#### Question: How to deal with the null values?"
   ]
  },
  {
   "cell_type": "markdown",
   "id": "e364f5e6-46c8-4cae-abce-fdcab1af9e82",
   "metadata": {},
   "source": [
    "<div style=\"border-radius:10px; border: #ffd500 solid; padding: 15px; background-color: #ffffcf; font-size:100%; text-align:left\">\n",
    "<font size=\"4px\" color=\"#ffa600\"><b>🧠 Idea:</b></font>\n",
    "\n",
    "- As the null percentage of the column `trim` is 0.62%, we can fill them up with `Not Provided` first.\n",
    "- As there are many distinct values in this column, we may handle them later in the EDA section.\n",
    "                    \n",
    "<div>"
   ]
  },
  {
   "cell_type": "markdown",
   "id": "20e50217-ad38-417a-8918-0217f2349789",
   "metadata": {},
   "source": [
    "#### Fill Null Value"
   ]
  },
  {
   "cell_type": "code",
   "execution_count": 62,
   "id": "ee13a5b8-3333-4d03-bc90-6932b6647ad0",
   "metadata": {},
   "outputs": [],
   "source": [
    "# Fill NA with \"Not Provided\"\n",
    "df[\"trim\"] = df[\"trim\"].fillna(value=\"Not Provided\")"
   ]
  },
  {
   "cell_type": "markdown",
   "id": "144c5bfd-20ee-4d21-adf2-5ff82e5a4094",
   "metadata": {},
   "source": [
    "##### Double check null value count"
   ]
  },
  {
   "cell_type": "code",
   "execution_count": 63,
   "id": "fa98c604-1c0e-4f6e-8b67-611fe558f3dd",
   "metadata": {},
   "outputs": [
    {
     "name": "stdout",
     "output_type": "stream",
     "text": [
      "=== Null Count ===\n",
      "Column `trim`: 0\n"
     ]
    }
   ],
   "source": [
    "# Check number of null value\n",
    "print_null_count(df,[\"trim\"])"
   ]
  },
  {
   "cell_type": "code",
   "execution_count": 64,
   "id": "871a74ca-6bc3-4474-8ee2-19b014f11de1",
   "metadata": {},
   "outputs": [
    {
     "data": {
      "text/plain": [
       "42766"
      ]
     },
     "execution_count": 64,
     "metadata": {},
     "output_type": "execute_result"
    }
   ],
   "source": [
    "# Double Check \"Not provided\" count\n",
    "df[\"trim\"].value_counts()['Not Provided']"
   ]
  },
  {
   "cell_type": "markdown",
   "id": "ef41a631-d7bf-4fbf-8670-e05fb00087bf",
   "metadata": {},
   "source": [
    "---"
   ]
  },
  {
   "cell_type": "markdown",
   "id": "c7ae2417-7f97-4d5c-8c01-349a01e08119",
   "metadata": {
    "tags": [],
    "toc-hr-collapsed": true
   },
   "source": [
    "<div style=\"border-radius:10px; border:#33a0ff solid; padding: 15px; background-color: #f0f1ff; font-size:100%; text-align:left\">\n",
    "<a class=\"anchor\" id=\"1-col-body-type\">\n",
    "    <h3> Column: <b><i>body_type</i></b> </h3>\n",
    "</a>\n",
    "</div>"
   ]
  },
  {
   "cell_type": "markdown",
   "id": "721c740d-d54b-4875-9916-6a8a8b5a7a17",
   "metadata": {},
   "source": [
    "#### Null Value Check"
   ]
  },
  {
   "cell_type": "code",
   "execution_count": 65,
   "id": "a6010a36-47d8-47e6-a7cc-31fd2f5eb6d3",
   "metadata": {},
   "outputs": [
    {
     "name": "stdout",
     "output_type": "stream",
     "text": [
      "=== Null Count ===\n",
      "Column `body_type`: 50447\n"
     ]
    }
   ],
   "source": [
    "# How many null value in this column\n",
    "print_null_count(df,[\"body_type\"])"
   ]
  },
  {
   "cell_type": "code",
   "execution_count": 66,
   "id": "74cb229e-867f-4cbd-82f2-08820b6332ea",
   "metadata": {},
   "outputs": [
    {
     "name": "stdout",
     "output_type": "stream",
     "text": [
      "=== Null Count Precentage ===\n",
      "Column body_type: 0.7412%\n"
     ]
    }
   ],
   "source": [
    "# Precentage of null value in this column\n",
    "print_null_pct(df,[\"body_type\"])"
   ]
  },
  {
   "cell_type": "code",
   "execution_count": 67,
   "id": "82ded064-cc6f-4dcc-ae9a-7f8ffc43ae64",
   "metadata": {},
   "outputs": [
    {
     "data": {
      "text/plain": [
       "SUV                 2719454\n",
       "Sedan               1730741\n",
       "Pickup              1056227\n",
       "Crossover            357683\n",
       "Hatchback            306657\n",
       "Coupe                221737\n",
       "Minivan              139761\n",
       "Wagon                 76534\n",
       "Convertible           55197\n",
       "Cargo Van             46585\n",
       "Roadster              11244\n",
       "Mini Mpv               9427\n",
       "Chassis Cab            8989\n",
       "Passenger Van          7207\n",
       "Targa                  2778\n",
       "Cutaway                2207\n",
       "Combi                   936\n",
       "Van                     736\n",
       "Micro Car               721\n",
       "Car Van                 498\n",
       "Commercial Wagon         26\n",
       "Chassis Cowl              4\n",
       "Name: body_type, dtype: int64"
      ]
     },
     "execution_count": 67,
     "metadata": {},
     "output_type": "execute_result"
    }
   ],
   "source": [
    "# Apply value_count in the column\n",
    "target_col_val_count = df[\"body_type\"].value_counts()\n",
    "target_col_val_count"
   ]
  },
  {
   "cell_type": "code",
   "execution_count": 68,
   "id": "c5d62dc4-aacc-456f-98f4-af56fc15dceb",
   "metadata": {},
   "outputs": [
    {
     "name": "stdout",
     "output_type": "stream",
     "text": [
      "There are 22 distinct value in `body_type` column.\n"
     ]
    }
   ],
   "source": [
    "print(f\"There are {len(target_col_val_count)} distinct value in `body_type` column.\")"
   ]
  },
  {
   "cell_type": "markdown",
   "id": "9771000e-d93b-446e-a6bb-491e25ecb274",
   "metadata": {},
   "source": [
    "#### Question: How to deal with the null values?"
   ]
  },
  {
   "cell_type": "markdown",
   "id": "112b27ad-210b-4113-90bc-35be3701a706",
   "metadata": {},
   "source": [
    "<div style=\"border-radius:10px; border: #ffd500 solid; padding: 15px; background-color: #ffffcf; font-size:100%; text-align:left\">\n",
    "<font size=\"4px\" color=\"#ffa600\"><b>🧠 Idea:</b></font>\n",
    "\n",
    "- As the null percentage of the column `body_type` is 0.74%, we can fill them up with `Not Provided` first.\n",
    "- As there are many distinct values in this column, we may handle them later in the EDA section.\n",
    "                    \n",
    "<div>"
   ]
  },
  {
   "cell_type": "markdown",
   "id": "c37019ed-ecd2-4b37-b071-3dff6e108bb9",
   "metadata": {},
   "source": [
    "#### Fill Null Value"
   ]
  },
  {
   "cell_type": "code",
   "execution_count": 69,
   "id": "67cf28fb-7aca-4500-be75-c2145ecfe976",
   "metadata": {},
   "outputs": [],
   "source": [
    "# Fill NA with \"Not Provided\"\n",
    "df[\"body_type\"] = df[\"body_type\"].fillna(value=\"Not Provided\")"
   ]
  },
  {
   "cell_type": "markdown",
   "id": "2beda207-4fba-4f2c-8002-f4b3585e83e5",
   "metadata": {},
   "source": [
    "##### Double check null value count"
   ]
  },
  {
   "cell_type": "code",
   "execution_count": 70,
   "id": "4108b9eb-28c6-4eb1-82f8-0f01df123678",
   "metadata": {},
   "outputs": [
    {
     "name": "stdout",
     "output_type": "stream",
     "text": [
      "=== Null Count ===\n",
      "Column `body_type`: 0\n"
     ]
    }
   ],
   "source": [
    "# Check number of null value\n",
    "print_null_count(df,[\"body_type\"])"
   ]
  },
  {
   "cell_type": "code",
   "execution_count": 71,
   "id": "9ef93973-6577-426c-a4a5-cef40c223990",
   "metadata": {},
   "outputs": [
    {
     "data": {
      "text/plain": [
       "50447"
      ]
     },
     "execution_count": 71,
     "metadata": {},
     "output_type": "execute_result"
    }
   ],
   "source": [
    "# Double Check \"Not provided\" count\n",
    "df[\"body_type\"].value_counts()['Not Provided']"
   ]
  },
  {
   "cell_type": "markdown",
   "id": "cfb17e94-2920-4ce0-842a-8a6eda96a828",
   "metadata": {},
   "source": [
    "---"
   ]
  },
  {
   "cell_type": "markdown",
   "id": "ad3a9c36-5a79-4fac-8d33-8ccc727d91ec",
   "metadata": {
    "tags": [],
    "toc-hr-collapsed": true
   },
   "source": [
    "<div style=\"border-radius:10px; border:#33a0ff solid; padding: 15px; background-color: #f0f1ff; font-size:100%; text-align:left\">\n",
    "<a class=\"anchor\" id=\"1-col-vehicle-type\">\n",
    "    <h3> Column: <b><i>vehicle_type</i></b> </h3>\n",
    "</a>\n",
    "</div>"
   ]
  },
  {
   "cell_type": "markdown",
   "id": "29785cae-b3c0-4ada-ae4b-d9557c0a15b8",
   "metadata": {},
   "source": [
    "#### Null Value Check"
   ]
  },
  {
   "cell_type": "code",
   "execution_count": 72,
   "id": "86ee35cb-e12e-459d-9c0e-0037e759c94f",
   "metadata": {},
   "outputs": [
    {
     "name": "stdout",
     "output_type": "stream",
     "text": [
      "=== Null Count ===\n",
      "Column `vehicle_type`: 62717\n"
     ]
    }
   ],
   "source": [
    "# How many null value in this column\n",
    "print_null_count(df,[\"vehicle_type\"])"
   ]
  },
  {
   "cell_type": "code",
   "execution_count": 73,
   "id": "1a1256fc-f49b-46f3-86f0-189c37182f0f",
   "metadata": {},
   "outputs": [
    {
     "name": "stdout",
     "output_type": "stream",
     "text": [
      "=== Null Count Precentage ===\n",
      "Column vehicle_type: 0.9215%\n"
     ]
    }
   ],
   "source": [
    "# Precentage of null value in this column\n",
    "print_null_pct(df,[\"vehicle_type\"])"
   ]
  },
  {
   "cell_type": "code",
   "execution_count": 74,
   "id": "8c1e8ff4-8e02-4f7d-8911-6070cad5d9d8",
   "metadata": {},
   "outputs": [
    {
     "data": {
      "text/plain": [
       "Truck    4317492\n",
       "Car      2425587\n",
       "Name: vehicle_type, dtype: int64"
      ]
     },
     "execution_count": 74,
     "metadata": {},
     "output_type": "execute_result"
    }
   ],
   "source": [
    "# Check value_count in the column\n",
    "target_col_val_count = df[\"vehicle_type\"].value_counts()\n",
    "target_col_val_count"
   ]
  },
  {
   "cell_type": "code",
   "execution_count": 75,
   "id": "39defaa8-c9cb-4eb0-9f19-c15faa5fca5e",
   "metadata": {},
   "outputs": [
    {
     "name": "stdout",
     "output_type": "stream",
     "text": [
      "There are 2 distinct value in `vehicle_type` column.\n"
     ]
    }
   ],
   "source": [
    "print(f\"There are {len(target_col_val_count)} distinct value in `vehicle_type` column.\")"
   ]
  },
  {
   "cell_type": "code",
   "execution_count": 76,
   "id": "c2941c55-ce73-4da3-8d9b-78f47fddd1af",
   "metadata": {},
   "outputs": [
    {
     "data": {
      "text/plain": [
       "Truck    63.438457\n",
       "Car      35.640019\n",
       "Name: vehicle_type, dtype: float64"
      ]
     },
     "execution_count": 76,
     "metadata": {},
     "output_type": "execute_result"
    }
   ],
   "source": [
    "# Check value_count percentage in the column\n",
    "target_col_val_count = df[\"vehicle_type\"].value_counts()\n",
    "target_col_val_count / df.shape[0]*100"
   ]
  },
  {
   "cell_type": "markdown",
   "id": "3ff9f683-16a1-47ee-9f63-0552243df18f",
   "metadata": {},
   "source": [
    "#### Question: How to deal with the null values?"
   ]
  },
  {
   "cell_type": "markdown",
   "id": "fa0918d0-7e75-4c66-aa85-869763c678f5",
   "metadata": {},
   "source": [
    "<div style=\"border-radius:10px; border: #ffd500 solid; padding: 15px; background-color: #ffffcf; font-size:100%; text-align:left\">\n",
    "<font size=\"4px\" color=\"#ffa600\"><b>🧠 Idea:</b></font>\n",
    "\n",
    "- As we have only 2 values in this column, which are `truck` and `car`. \n",
    "- To avoid create a categorical column with more than 2 labels and reduce the possibility of class imbalance, we can fill the NA value with `Car`.\n",
    "- This is reasonable as we can assume that the used vehicle in the dataset should be `Car` by default.\n",
    "                    \n",
    "<div>"
   ]
  },
  {
   "cell_type": "markdown",
   "id": "50f47cff-d19c-4666-b6d9-20ef715cb134",
   "metadata": {},
   "source": [
    "#### Fill Null Value"
   ]
  },
  {
   "cell_type": "code",
   "execution_count": 77,
   "id": "86a35aa2-639c-4a5c-912a-e7a03d01cc5d",
   "metadata": {},
   "outputs": [],
   "source": [
    "# Fill NA with \"Not Provided\"\n",
    "df[\"vehicle_type\"] = df[\"vehicle_type\"].fillna(value=\"Car\")"
   ]
  },
  {
   "cell_type": "markdown",
   "id": "e1e7fe42-de4f-418b-b792-5056149feee3",
   "metadata": {},
   "source": [
    "##### Double check null value count"
   ]
  },
  {
   "cell_type": "code",
   "execution_count": 78,
   "id": "3584285c-2550-4d23-b2ad-a4547cb90d8f",
   "metadata": {},
   "outputs": [
    {
     "name": "stdout",
     "output_type": "stream",
     "text": [
      "=== Null Count ===\n",
      "Column `vehicle_type`: 0\n"
     ]
    }
   ],
   "source": [
    "# Check number of null value\n",
    "print_null_count(df,[\"vehicle_type\"])"
   ]
  },
  {
   "cell_type": "code",
   "execution_count": 79,
   "id": "1ae90660-cf6e-4722-ab35-4d6316249aff",
   "metadata": {},
   "outputs": [
    {
     "data": {
      "text/plain": [
       "Truck    4317492\n",
       "Car      2488304\n",
       "Name: vehicle_type, dtype: int64"
      ]
     },
     "execution_count": 79,
     "metadata": {},
     "output_type": "execute_result"
    }
   ],
   "source": [
    "# Double check value_count in the column\n",
    "target_col_val_count = df[\"vehicle_type\"].value_counts()\n",
    "target_col_val_count"
   ]
  },
  {
   "cell_type": "code",
   "execution_count": 80,
   "id": "87b1fb87-1f48-4c1c-91dc-c22d64d7ad1f",
   "metadata": {},
   "outputs": [
    {
     "data": {
      "text/plain": [
       "Truck    63.438457\n",
       "Car      36.561543\n",
       "Name: vehicle_type, dtype: float64"
      ]
     },
     "execution_count": 80,
     "metadata": {},
     "output_type": "execute_result"
    }
   ],
   "source": [
    "# Double check value_count percentage in the column\n",
    "target_col_val_count = df[\"vehicle_type\"].value_counts()\n",
    "target_col_val_count / df.shape[0]*100"
   ]
  },
  {
   "cell_type": "markdown",
   "id": "3c8d5dc5-dad4-4e3d-888e-0698ce292841",
   "metadata": {},
   "source": [
    "<div style=\"border-radius:10px; border: #ffd500 solid; padding: 15px; background-color: #ffffcf; font-size:100%; text-align:left\">\n",
    "<font size=\"4px\" color=\"#ffa600\"><b>💬 Comment:</b></font>\n",
    "\n",
    "- The ratio of the `Truck` and `Car` are around 63:37, it is still aceptable.\n",
    "                    \n",
    "<div>"
   ]
  },
  {
   "cell_type": "markdown",
   "id": "537e0c8a-d7d2-431e-9c18-4b397c74ff75",
   "metadata": {},
   "source": [
    "---"
   ]
  },
  {
   "cell_type": "markdown",
   "id": "798e14d3-0957-424a-8ca4-e420aa2c5093",
   "metadata": {
    "tags": [],
    "toc-hr-collapsed": true
   },
   "source": [
    "<div style=\"border-radius:10px; border:#33a0ff solid; padding: 15px; background-color: #f0f1ff; font-size:100%; text-align:left\">\n",
    "<a class=\"anchor\" id=\"1-col-drivetrain\">\n",
    "    <h3> Column: <b><i>drivetrain</i></b> </h3>\n",
    "</a>\n",
    "</div>"
   ]
  },
  {
   "cell_type": "markdown",
   "id": "eba1958e-3f3d-472d-baf4-3d2efdec7292",
   "metadata": {},
   "source": [
    "#### Null Value Check"
   ]
  },
  {
   "cell_type": "code",
   "execution_count": 81,
   "id": "00359a43-a236-48e6-b7ae-1f9af26228c8",
   "metadata": {},
   "outputs": [
    {
     "name": "stdout",
     "output_type": "stream",
     "text": [
      "=== Null Count ===\n",
      "Column `drivetrain`: 42824\n"
     ]
    }
   ],
   "source": [
    "# How many null value in this column\n",
    "print_null_count(df,[\"drivetrain\"])"
   ]
  },
  {
   "cell_type": "code",
   "execution_count": 82,
   "id": "8f157736-200b-44bf-8ff1-3bcf5ffb5890",
   "metadata": {},
   "outputs": [
    {
     "name": "stdout",
     "output_type": "stream",
     "text": [
      "=== Null Count Precentage ===\n",
      "Column drivetrain: 0.6292%\n"
     ]
    }
   ],
   "source": [
    "# Precentage of null value in this column\n",
    "print_null_pct(df,[\"drivetrain\"])"
   ]
  },
  {
   "cell_type": "code",
   "execution_count": 83,
   "id": "30fc50d4-e634-4e7c-95ba-67198023de06",
   "metadata": {},
   "outputs": [
    {
     "data": {
      "text/plain": [
       "4WD    3426425\n",
       "FWD    2548947\n",
       "RWD     787600\n",
       "Name: drivetrain, dtype: int64"
      ]
     },
     "execution_count": 83,
     "metadata": {},
     "output_type": "execute_result"
    }
   ],
   "source": [
    "# Check value_count in the column\n",
    "target_col_val_count = df[\"drivetrain\"].value_counts()\n",
    "target_col_val_count"
   ]
  },
  {
   "cell_type": "code",
   "execution_count": 84,
   "id": "a4a76de7-7619-4336-a36e-b98dd8c1d4fa",
   "metadata": {},
   "outputs": [
    {
     "name": "stdout",
     "output_type": "stream",
     "text": [
      "There are 3 distinct value in `drivetrain` column.\n"
     ]
    }
   ],
   "source": [
    "print(f\"There are {len(target_col_val_count)} distinct value in `drivetrain` column.\")"
   ]
  },
  {
   "cell_type": "markdown",
   "id": "ae03395b-999c-4f6b-afcd-520d12f5daff",
   "metadata": {
    "toc-hr-collapsed": true
   },
   "source": [
    "#### Question: Is it possible to guess the `drivetrain` type by the year of the model, the model and the maker of the car?"
   ]
  },
  {
   "cell_type": "markdown",
   "id": "c4b57d89-2090-47fc-8882-918b0ac4fae5",
   "metadata": {},
   "source": [
    "<div style=\"border-radius:10px; border: #ffd500 solid; padding: 15px; background-color: #ffffcf; font-size:100%; text-align:left\">\n",
    "<font size=\"4px\" color=\"#ffa600\"><b>🧠 Idea:</b></font>\n",
    "\n",
    "- The possible guess is that the same car model built by the same maker in the same year should have the same `drivetrain` type.\n",
    "- For some models, they may have different `drivetrain` types. If that is the case, we can guess their `drivetrain` type based on the occurrence grouped by the `year`, `make` and `model`, and then calculate their corresponding probabilities.\n",
    "- Lastly, we randomly selected the `drivetrain` type based on their probabilities.\n",
    "                    \n",
    "<div>"
   ]
  },
  {
   "cell_type": "code",
   "execution_count": 85,
   "id": "7c17bbad-bb9c-424d-b8b6-808564e451e6",
   "metadata": {},
   "outputs": [
    {
     "data": {
      "text/html": [
       "<div>\n",
       "<style scoped>\n",
       "    .dataframe tbody tr th:only-of-type {\n",
       "        vertical-align: middle;\n",
       "    }\n",
       "\n",
       "    .dataframe tbody tr th {\n",
       "        vertical-align: top;\n",
       "    }\n",
       "\n",
       "    .dataframe thead th {\n",
       "        text-align: right;\n",
       "    }\n",
       "</style>\n",
       "<table border=\"1\" class=\"dataframe\">\n",
       "  <thead>\n",
       "    <tr style=\"text-align: right;\">\n",
       "      <th></th>\n",
       "      <th>year</th>\n",
       "      <th>make</th>\n",
       "      <th>model</th>\n",
       "      <th>drivetrain</th>\n",
       "    </tr>\n",
       "  </thead>\n",
       "  <tbody>\n",
       "    <tr>\n",
       "      <th>0</th>\n",
       "      <td>2017.0</td>\n",
       "      <td>Acura</td>\n",
       "      <td>NSX</td>\n",
       "      <td>4WD</td>\n",
       "    </tr>\n",
       "    <tr>\n",
       "      <th>1</th>\n",
       "      <td>2017.0</td>\n",
       "      <td>Acura</td>\n",
       "      <td>NSX</td>\n",
       "      <td>4WD</td>\n",
       "    </tr>\n",
       "    <tr>\n",
       "      <th>2</th>\n",
       "      <td>2017.0</td>\n",
       "      <td>Acura</td>\n",
       "      <td>NSX</td>\n",
       "      <td>4WD</td>\n",
       "    </tr>\n",
       "    <tr>\n",
       "      <th>3</th>\n",
       "      <td>2020.0</td>\n",
       "      <td>Acura</td>\n",
       "      <td>NSX</td>\n",
       "      <td>4WD</td>\n",
       "    </tr>\n",
       "    <tr>\n",
       "      <th>4</th>\n",
       "      <td>2020.0</td>\n",
       "      <td>Acura</td>\n",
       "      <td>NSX</td>\n",
       "      <td>4WD</td>\n",
       "    </tr>\n",
       "  </tbody>\n",
       "</table>\n",
       "</div>"
      ],
      "text/plain": [
       "     year   make model drivetrain\n",
       "0  2017.0  Acura   NSX        4WD\n",
       "1  2017.0  Acura   NSX        4WD\n",
       "2  2017.0  Acura   NSX        4WD\n",
       "3  2020.0  Acura   NSX        4WD\n",
       "4  2020.0  Acura   NSX        4WD"
      ]
     },
     "execution_count": 85,
     "metadata": {},
     "output_type": "execute_result"
    }
   ],
   "source": [
    "# Create a temporary dataframe for this part\n",
    "temp_df = df[[\"year\",\"make\",\"model\",\"drivetrain\"]]\n",
    "temp_df.head()"
   ]
  },
  {
   "cell_type": "markdown",
   "id": "d2718677-fd3e-4182-9787-ab96b1932860",
   "metadata": {},
   "source": [
    "##### Group the `year`, `make` and `model` as one column"
   ]
  },
  {
   "cell_type": "code",
   "execution_count": 86,
   "id": "455f4f53-325a-4a36-9601-c1894cee82f5",
   "metadata": {},
   "outputs": [
    {
     "name": "stderr",
     "output_type": "stream",
     "text": [
      "/var/folders/zh/ycxy1lsx5sx0g_2n4l8hfvph0000gn/T/ipykernel_12304/887730097.py:5: SettingWithCopyWarning: \n",
      "A value is trying to be set on a copy of a slice from a DataFrame.\n",
      "Try using .loc[row_indexer,col_indexer] = value instead\n",
      "\n",
      "See the caveats in the documentation: https://pandas.pydata.org/pandas-docs/stable/user_guide/indexing.html#returning-a-view-versus-a-copy\n",
      "  temp_df[\"year-make-model\"] = df[\"year\"].astype(int).astype(str) + \"-\" + df[\"make\"] + \"-\" + df[\"model\"]\n"
     ]
    },
    {
     "data": {
      "text/html": [
       "<div>\n",
       "<style scoped>\n",
       "    .dataframe tbody tr th:only-of-type {\n",
       "        vertical-align: middle;\n",
       "    }\n",
       "\n",
       "    .dataframe tbody tr th {\n",
       "        vertical-align: top;\n",
       "    }\n",
       "\n",
       "    .dataframe thead th {\n",
       "        text-align: right;\n",
       "    }\n",
       "</style>\n",
       "<table border=\"1\" class=\"dataframe\">\n",
       "  <thead>\n",
       "    <tr style=\"text-align: right;\">\n",
       "      <th></th>\n",
       "      <th>year</th>\n",
       "      <th>make</th>\n",
       "      <th>model</th>\n",
       "      <th>drivetrain</th>\n",
       "      <th>year-make-model</th>\n",
       "    </tr>\n",
       "  </thead>\n",
       "  <tbody>\n",
       "    <tr>\n",
       "      <th>0</th>\n",
       "      <td>2017.0</td>\n",
       "      <td>Acura</td>\n",
       "      <td>NSX</td>\n",
       "      <td>4WD</td>\n",
       "      <td>2017-Acura-NSX</td>\n",
       "    </tr>\n",
       "    <tr>\n",
       "      <th>1</th>\n",
       "      <td>2017.0</td>\n",
       "      <td>Acura</td>\n",
       "      <td>NSX</td>\n",
       "      <td>4WD</td>\n",
       "      <td>2017-Acura-NSX</td>\n",
       "    </tr>\n",
       "    <tr>\n",
       "      <th>2</th>\n",
       "      <td>2017.0</td>\n",
       "      <td>Acura</td>\n",
       "      <td>NSX</td>\n",
       "      <td>4WD</td>\n",
       "      <td>2017-Acura-NSX</td>\n",
       "    </tr>\n",
       "    <tr>\n",
       "      <th>3</th>\n",
       "      <td>2020.0</td>\n",
       "      <td>Acura</td>\n",
       "      <td>NSX</td>\n",
       "      <td>4WD</td>\n",
       "      <td>2020-Acura-NSX</td>\n",
       "    </tr>\n",
       "    <tr>\n",
       "      <th>4</th>\n",
       "      <td>2020.0</td>\n",
       "      <td>Acura</td>\n",
       "      <td>NSX</td>\n",
       "      <td>4WD</td>\n",
       "      <td>2020-Acura-NSX</td>\n",
       "    </tr>\n",
       "  </tbody>\n",
       "</table>\n",
       "</div>"
      ],
      "text/plain": [
       "     year   make model drivetrain year-make-model\n",
       "0  2017.0  Acura   NSX        4WD  2017-Acura-NSX\n",
       "1  2017.0  Acura   NSX        4WD  2017-Acura-NSX\n",
       "2  2017.0  Acura   NSX        4WD  2017-Acura-NSX\n",
       "3  2020.0  Acura   NSX        4WD  2020-Acura-NSX\n",
       "4  2020.0  Acura   NSX        4WD  2020-Acura-NSX"
      ]
     },
     "execution_count": 86,
     "metadata": {},
     "output_type": "execute_result"
    }
   ],
   "source": [
    "# Create columns that aggregate the `year`, `make` and `model`\n",
    "# Note: \"year\" column is in float format. \n",
    "# `astype(int)` transform the year from float to int\n",
    "# Then, `astype(str)` transform the year from int to str for concatenation \n",
    "temp_df[\"year-make-model\"] = df[\"year\"].astype(int).astype(str) + \"-\" + df[\"make\"] + \"-\" + df[\"model\"]\n",
    "temp_df.head()"
   ]
  },
  {
   "cell_type": "markdown",
   "id": "9c0fd883-241e-47d8-b545-35122b1d3b19",
   "metadata": {},
   "source": [
    "##### Count drivetrain occurrence"
   ]
  },
  {
   "cell_type": "code",
   "execution_count": 87,
   "id": "393d5422-1938-4bcf-a604-ffbbf1db4aea",
   "metadata": {},
   "outputs": [
    {
     "data": {
      "text/html": [
       "<div>\n",
       "<style scoped>\n",
       "    .dataframe tbody tr th:only-of-type {\n",
       "        vertical-align: middle;\n",
       "    }\n",
       "\n",
       "    .dataframe tbody tr th {\n",
       "        vertical-align: top;\n",
       "    }\n",
       "\n",
       "    .dataframe thead th {\n",
       "        text-align: right;\n",
       "    }\n",
       "</style>\n",
       "<table border=\"1\" class=\"dataframe\">\n",
       "  <thead>\n",
       "    <tr style=\"text-align: right;\">\n",
       "      <th>drivetrain</th>\n",
       "      <th>4WD</th>\n",
       "      <th>FWD</th>\n",
       "      <th>RWD</th>\n",
       "    </tr>\n",
       "    <tr>\n",
       "      <th>year-make-model</th>\n",
       "      <th></th>\n",
       "      <th></th>\n",
       "      <th></th>\n",
       "    </tr>\n",
       "  </thead>\n",
       "  <tbody>\n",
       "    <tr>\n",
       "      <th>2022-MINI-Cooper</th>\n",
       "      <td>0.0</td>\n",
       "      <td>48.0</td>\n",
       "      <td>0.0</td>\n",
       "    </tr>\n",
       "    <tr>\n",
       "      <th>2022-MINI-Countryman</th>\n",
       "      <td>0.0</td>\n",
       "      <td>22.0</td>\n",
       "      <td>0.0</td>\n",
       "    </tr>\n",
       "    <tr>\n",
       "      <th>2022-MINI-Hardtop 4 Door</th>\n",
       "      <td>0.0</td>\n",
       "      <td>98.0</td>\n",
       "      <td>0.0</td>\n",
       "    </tr>\n",
       "    <tr>\n",
       "      <th>2022-Mitsubishi-Eclipse Cross</th>\n",
       "      <td>2.0</td>\n",
       "      <td>6.0</td>\n",
       "      <td>0.0</td>\n",
       "    </tr>\n",
       "    <tr>\n",
       "      <th>2022-Mitsubishi-Outlander</th>\n",
       "      <td>5.0</td>\n",
       "      <td>2.0</td>\n",
       "      <td>0.0</td>\n",
       "    </tr>\n",
       "  </tbody>\n",
       "</table>\n",
       "</div>"
      ],
      "text/plain": [
       "drivetrain                     4WD   FWD  RWD\n",
       "year-make-model                              \n",
       "2022-MINI-Cooper               0.0  48.0  0.0\n",
       "2022-MINI-Countryman           0.0  22.0  0.0\n",
       "2022-MINI-Hardtop 4 Door       0.0  98.0  0.0\n",
       "2022-Mitsubishi-Eclipse Cross  2.0   6.0  0.0\n",
       "2022-Mitsubishi-Outlander      5.0   2.0  0.0"
      ]
     },
     "execution_count": 87,
     "metadata": {},
     "output_type": "execute_result"
    }
   ],
   "source": [
    "# Count how the occurrence of `drivetrain` for each `year-make-model` combination\n",
    "year_make_model_drivetrain_count = \\\n",
    "    temp_df\\\n",
    "    .groupby([\"year-make-model\",\"drivetrain\"])[\"drivetrain\"]\\\n",
    "    .count()\\\n",
    "    .unstack()\\\n",
    "    .fillna(0)\\\n",
    "    .reset_index(drop = False)\\\n",
    "    .set_index(keys = [\"year-make-model\"])\n",
    "year_make_model_drivetrain_count.tail()"
   ]
  },
  {
   "cell_type": "markdown",
   "id": "c8e98186-dd91-4e06-8920-03c2dd12bc1d",
   "metadata": {},
   "source": [
    "##### Convert into probability by normalization"
   ]
  },
  {
   "cell_type": "code",
   "execution_count": 88,
   "id": "19565a32-d171-4474-9dbd-0bcd978cb601",
   "metadata": {
    "scrolled": true,
    "tags": []
   },
   "outputs": [],
   "source": [
    "# Get the normalized version for the probability\n",
    "year_make_model_drivetrain_prob = \\\n",
    "    year_make_model_drivetrain_count.div(year_make_model_drivetrain_count.sum(axis=1), axis=0)\n",
    "year_make_model_drivetrain_prob = year_make_model_drivetrain_prob.T.to_dict()"
   ]
  },
  {
   "cell_type": "markdown",
   "id": "8437f0ed-b918-4793-8ce1-09dd605fb507",
   "metadata": {},
   "source": [
    "##### Group the `make` and `model` as one column"
   ]
  },
  {
   "cell_type": "code",
   "execution_count": 89,
   "id": "7db1e99d-94be-4861-bd09-046f4577abe4",
   "metadata": {},
   "outputs": [
    {
     "name": "stderr",
     "output_type": "stream",
     "text": [
      "/var/folders/zh/ycxy1lsx5sx0g_2n4l8hfvph0000gn/T/ipykernel_12304/1186489987.py:2: SettingWithCopyWarning: \n",
      "A value is trying to be set on a copy of a slice from a DataFrame.\n",
      "Try using .loc[row_indexer,col_indexer] = value instead\n",
      "\n",
      "See the caveats in the documentation: https://pandas.pydata.org/pandas-docs/stable/user_guide/indexing.html#returning-a-view-versus-a-copy\n",
      "  temp_df[\"make-model\"] = df[\"make\"] + \"-\" + df[\"model\"]\n"
     ]
    },
    {
     "data": {
      "text/html": [
       "<div>\n",
       "<style scoped>\n",
       "    .dataframe tbody tr th:only-of-type {\n",
       "        vertical-align: middle;\n",
       "    }\n",
       "\n",
       "    .dataframe tbody tr th {\n",
       "        vertical-align: top;\n",
       "    }\n",
       "\n",
       "    .dataframe thead th {\n",
       "        text-align: right;\n",
       "    }\n",
       "</style>\n",
       "<table border=\"1\" class=\"dataframe\">\n",
       "  <thead>\n",
       "    <tr style=\"text-align: right;\">\n",
       "      <th></th>\n",
       "      <th>year</th>\n",
       "      <th>make</th>\n",
       "      <th>model</th>\n",
       "      <th>drivetrain</th>\n",
       "      <th>year-make-model</th>\n",
       "      <th>make-model</th>\n",
       "    </tr>\n",
       "  </thead>\n",
       "  <tbody>\n",
       "    <tr>\n",
       "      <th>0</th>\n",
       "      <td>2017.0</td>\n",
       "      <td>Acura</td>\n",
       "      <td>NSX</td>\n",
       "      <td>4WD</td>\n",
       "      <td>2017-Acura-NSX</td>\n",
       "      <td>Acura-NSX</td>\n",
       "    </tr>\n",
       "    <tr>\n",
       "      <th>1</th>\n",
       "      <td>2017.0</td>\n",
       "      <td>Acura</td>\n",
       "      <td>NSX</td>\n",
       "      <td>4WD</td>\n",
       "      <td>2017-Acura-NSX</td>\n",
       "      <td>Acura-NSX</td>\n",
       "    </tr>\n",
       "    <tr>\n",
       "      <th>2</th>\n",
       "      <td>2017.0</td>\n",
       "      <td>Acura</td>\n",
       "      <td>NSX</td>\n",
       "      <td>4WD</td>\n",
       "      <td>2017-Acura-NSX</td>\n",
       "      <td>Acura-NSX</td>\n",
       "    </tr>\n",
       "    <tr>\n",
       "      <th>3</th>\n",
       "      <td>2020.0</td>\n",
       "      <td>Acura</td>\n",
       "      <td>NSX</td>\n",
       "      <td>4WD</td>\n",
       "      <td>2020-Acura-NSX</td>\n",
       "      <td>Acura-NSX</td>\n",
       "    </tr>\n",
       "    <tr>\n",
       "      <th>4</th>\n",
       "      <td>2020.0</td>\n",
       "      <td>Acura</td>\n",
       "      <td>NSX</td>\n",
       "      <td>4WD</td>\n",
       "      <td>2020-Acura-NSX</td>\n",
       "      <td>Acura-NSX</td>\n",
       "    </tr>\n",
       "  </tbody>\n",
       "</table>\n",
       "</div>"
      ],
      "text/plain": [
       "     year   make model drivetrain year-make-model make-model\n",
       "0  2017.0  Acura   NSX        4WD  2017-Acura-NSX  Acura-NSX\n",
       "1  2017.0  Acura   NSX        4WD  2017-Acura-NSX  Acura-NSX\n",
       "2  2017.0  Acura   NSX        4WD  2017-Acura-NSX  Acura-NSX\n",
       "3  2020.0  Acura   NSX        4WD  2020-Acura-NSX  Acura-NSX\n",
       "4  2020.0  Acura   NSX        4WD  2020-Acura-NSX  Acura-NSX"
      ]
     },
     "execution_count": 89,
     "metadata": {},
     "output_type": "execute_result"
    }
   ],
   "source": [
    "# Create columns that aggregate the `make` and `model`\n",
    "temp_df[\"make-model\"] = df[\"make\"] + \"-\" + df[\"model\"]\n",
    "temp_df.head()"
   ]
  },
  {
   "cell_type": "markdown",
   "id": "47443557-7982-475c-a680-504e41ef5c38",
   "metadata": {},
   "source": [
    "##### Count drivetrain occurrence"
   ]
  },
  {
   "cell_type": "code",
   "execution_count": 90,
   "id": "ba62f527-c432-46c5-8344-fe6f9788dd04",
   "metadata": {},
   "outputs": [
    {
     "data": {
      "text/html": [
       "<div>\n",
       "<style scoped>\n",
       "    .dataframe tbody tr th:only-of-type {\n",
       "        vertical-align: middle;\n",
       "    }\n",
       "\n",
       "    .dataframe tbody tr th {\n",
       "        vertical-align: top;\n",
       "    }\n",
       "\n",
       "    .dataframe thead th {\n",
       "        text-align: right;\n",
       "    }\n",
       "</style>\n",
       "<table border=\"1\" class=\"dataframe\">\n",
       "  <thead>\n",
       "    <tr style=\"text-align: right;\">\n",
       "      <th>drivetrain</th>\n",
       "      <th>4WD</th>\n",
       "      <th>FWD</th>\n",
       "      <th>RWD</th>\n",
       "    </tr>\n",
       "    <tr>\n",
       "      <th>make-model</th>\n",
       "      <th></th>\n",
       "      <th></th>\n",
       "      <th></th>\n",
       "    </tr>\n",
       "  </thead>\n",
       "  <tbody>\n",
       "    <tr>\n",
       "      <th>Volvo-XC60</th>\n",
       "      <td>12253.0</td>\n",
       "      <td>1941.0</td>\n",
       "      <td>0.0</td>\n",
       "    </tr>\n",
       "    <tr>\n",
       "      <th>Volvo-XC70</th>\n",
       "      <td>804.0</td>\n",
       "      <td>162.0</td>\n",
       "      <td>0.0</td>\n",
       "    </tr>\n",
       "    <tr>\n",
       "      <th>Volvo-XC90</th>\n",
       "      <td>12894.0</td>\n",
       "      <td>1916.0</td>\n",
       "      <td>0.0</td>\n",
       "    </tr>\n",
       "    <tr>\n",
       "      <th>smart-Sorento</th>\n",
       "      <td>1.0</td>\n",
       "      <td>0.0</td>\n",
       "      <td>0.0</td>\n",
       "    </tr>\n",
       "    <tr>\n",
       "      <th>smart-fortwo</th>\n",
       "      <td>0.0</td>\n",
       "      <td>0.0</td>\n",
       "      <td>1487.0</td>\n",
       "    </tr>\n",
       "  </tbody>\n",
       "</table>\n",
       "</div>"
      ],
      "text/plain": [
       "drivetrain         4WD     FWD     RWD\n",
       "make-model                            \n",
       "Volvo-XC60     12253.0  1941.0     0.0\n",
       "Volvo-XC70       804.0   162.0     0.0\n",
       "Volvo-XC90     12894.0  1916.0     0.0\n",
       "smart-Sorento      1.0     0.0     0.0\n",
       "smart-fortwo       0.0     0.0  1487.0"
      ]
     },
     "execution_count": 90,
     "metadata": {},
     "output_type": "execute_result"
    }
   ],
   "source": [
    "# Count how the occurrence of `drivetrain` for each `make-model` combination\n",
    "make_model_drivetrain_count = \\\n",
    "    temp_df\\\n",
    "    .groupby([\"make-model\",\"drivetrain\"])[\"drivetrain\"]\\\n",
    "    .count()\\\n",
    "    .unstack()\\\n",
    "    .fillna(0)\\\n",
    "    .reset_index(drop = False)\\\n",
    "    .set_index(keys = [\"make-model\"])\n",
    "make_model_drivetrain_count.tail()"
   ]
  },
  {
   "cell_type": "markdown",
   "id": "0968dc43-803a-4bee-88cd-78cdb3e5a68a",
   "metadata": {},
   "source": [
    "##### Convert into probability by normalization"
   ]
  },
  {
   "cell_type": "code",
   "execution_count": 91,
   "id": "9fbeb4ae-2078-4d69-8a6d-a3da7a880b26",
   "metadata": {
    "scrolled": true,
    "tags": []
   },
   "outputs": [],
   "source": [
    "# Get the normalized version for the probability\n",
    "make_model_drivetrain_prob = \\\n",
    "    make_model_drivetrain_count.div(make_model_drivetrain_count.sum(axis=1), axis=0)\n",
    "make_model_drivetrain_prob = make_model_drivetrain_prob.T.to_dict()"
   ]
  },
  {
   "cell_type": "markdown",
   "id": "c91db843-1020-4025-8beb-6962ff995a09",
   "metadata": {},
   "source": [
    "##### Count drivetrain occurrence in original df"
   ]
  },
  {
   "cell_type": "code",
   "execution_count": 92,
   "id": "96ad9cd8-bcad-431c-b044-6f57682599db",
   "metadata": {},
   "outputs": [
    {
     "data": {
      "text/html": [
       "<div>\n",
       "<style scoped>\n",
       "    .dataframe tbody tr th:only-of-type {\n",
       "        vertical-align: middle;\n",
       "    }\n",
       "\n",
       "    .dataframe tbody tr th {\n",
       "        vertical-align: top;\n",
       "    }\n",
       "\n",
       "    .dataframe thead th {\n",
       "        text-align: right;\n",
       "    }\n",
       "</style>\n",
       "<table border=\"1\" class=\"dataframe\">\n",
       "  <thead>\n",
       "    <tr style=\"text-align: right;\">\n",
       "      <th></th>\n",
       "      <th>drivetrain</th>\n",
       "    </tr>\n",
       "  </thead>\n",
       "  <tbody>\n",
       "    <tr>\n",
       "      <th>4WD</th>\n",
       "      <td>3426425</td>\n",
       "    </tr>\n",
       "    <tr>\n",
       "      <th>FWD</th>\n",
       "      <td>2548947</td>\n",
       "    </tr>\n",
       "    <tr>\n",
       "      <th>RWD</th>\n",
       "      <td>787600</td>\n",
       "    </tr>\n",
       "  </tbody>\n",
       "</table>\n",
       "</div>"
      ],
      "text/plain": [
       "     drivetrain\n",
       "4WD     3426425\n",
       "FWD     2548947\n",
       "RWD      787600"
      ]
     },
     "execution_count": 92,
     "metadata": {},
     "output_type": "execute_result"
    }
   ],
   "source": [
    "# Prepare the probability for random assignment if the combination is not found in both tables above.\n",
    "drivetrain_val_count = df[\"drivetrain\"].value_counts().to_frame()\n",
    "drivetrain_val_count"
   ]
  },
  {
   "cell_type": "markdown",
   "id": "509e05f2-a72a-4a9a-a795-97348efe16b9",
   "metadata": {},
   "source": [
    "##### Convert into probability by normalization"
   ]
  },
  {
   "cell_type": "code",
   "execution_count": 93,
   "id": "79139dc3-4aad-4860-8838-9d0ac5e9ac04",
   "metadata": {},
   "outputs": [
    {
     "data": {
      "text/plain": [
       "{'4WD': 0.5066448596859487,\n",
       " 'FWD': 0.3768974646057976,\n",
       " 'RWD': 0.1164576757082537}"
      ]
     },
     "execution_count": 93,
     "metadata": {},
     "output_type": "execute_result"
    }
   ],
   "source": [
    "# Prepare the probability for general selection\n",
    "drivetrain_val_prob = drivetrain_val_count.div(drivetrain_val_count.sum(axis=0),axis=1)\n",
    "drivetrain_val_prob = drivetrain_val_prob.to_dict()['drivetrain']\n",
    "drivetrain_val_prob"
   ]
  },
  {
   "cell_type": "markdown",
   "id": "bdd9ecaa-5f89-49f9-b201-ab1f09d13d3f",
   "metadata": {},
   "source": [
    "##### Function to fill NA"
   ]
  },
  {
   "cell_type": "code",
   "execution_count": 94,
   "id": "7907c156-f3a4-44e9-92a7-7fcea2a9efa9",
   "metadata": {},
   "outputs": [],
   "source": [
    "\n",
    "\n",
    "def fill_na_by_year_make_model(df: pd.DataFrame,\n",
    "                               column_to_fill: str,\n",
    "                               year_make_model_prob: dict,\n",
    "                               make_model_prob: dict,\n",
    "                               random_prob: dict,\n",
    "                               inplace = True):\n",
    "    \"\"\"\n",
    "    Description\n",
    "    -----\n",
    "    This function is designed for filling the null value based of the occurrence and probability of the combination of `year`, `make` and `model`.\n",
    "    If the key (`year`, `make`, `model`) is not found in `year_make_model_prob` then search for \n",
    "    the subkey (`make`, `model`) in `make_model_prob`. If not found,\n",
    "    use the occurrence probability of the distinct value in the `column_to_fill` in `random_prob`.\n",
    "    \n",
    "    Then, select one of the dictinst values from the `column_to_fill` based on the probability retrieved above.\n",
    "    \n",
    "    Args\n",
    "    -----\n",
    "    df (pd.DataFrame): the original dataframe\n",
    "    column_to_fill (str): our target column to fill the null value\n",
    "    year_make_model_prob (dict): a dictionary with the key of each (`year`, `make`, `model`) combination and \n",
    "                                 value of the probabilities of the values in the target column\n",
    "    make_model_prob (dict): a dictionary with the key of each (`make`, `model`) combination and \n",
    "                            value of the probabilities of the values in the target column\n",
    "    random_prob (dict):  a dictionary with the key of each value in the target column and \n",
    "                            value of the probabilities of each value\n",
    "    inplace (boolean): whether to fill the null value in the original dataframe. Use `False` for deubgging purpose. Default: `True`. \n",
    "    \n",
    "    Returns\n",
    "    -----\n",
    "    None\n",
    "        \n",
    "    \n",
    "    \"\"\"\n",
    "    \n",
    "    # Validation\n",
    "    assert column_to_fill in df.columns, \"'column_to_fill' must be one of the column names in 'df'.\"\n",
    "    \n",
    "    # Get total null count\n",
    "    total_null_count = df[column_to_fill].isna().sum()\n",
    "    \n",
    "    # Variable for counting how many rows filled\n",
    "    i_count = 0\n",
    "    \n",
    "    # Implement cache to speed up search\n",
    "    year_make_model_cache = {}\n",
    "    make_model_cache = {}\n",
    "    general_cache=[]\n",
    "    general_cache_filled = False\n",
    "    \n",
    "    # New list to store the new data\n",
    "    index_list = []\n",
    "    target_col_list = []\n",
    "    \n",
    "    # Reset data index before starting\n",
    "    df.reset_index(drop = True, inplace = True)\n",
    "    \n",
    "    # Iterate through all rows with null value in `column_to_fill`\n",
    "    for ind, row in df[df[column_to_fill].isna()].iterrows():\n",
    "        \n",
    "        # Construct the key and sub_key for search\n",
    "        key = str(int(row[\"year\"]))+\"-\"+row[\"make\"]+\"-\"+row[\"model\"]\n",
    "        sub_key = row[\"make\"]+\"-\"+row[\"model\"]\n",
    "\n",
    "        # If year-make-model key is found in cache\n",
    "        if key in year_make_model_cache:\n",
    "            \n",
    "            # Retrieve the choice\n",
    "            choice = year_make_model_cache[key][0]\n",
    "            # Retrieve the probability\n",
    "            prob = year_make_model_cache[key][1]\n",
    "            # Selected one of the available option based on the probability\n",
    "            selected = np.random.choice(choice,\n",
    "                                        p=prob)\n",
    "            \n",
    "        # If the key is not in cache, search the index from original dict  \n",
    "        elif key in year_make_model_prob:\n",
    "\n",
    "            # Retrieve the choice\n",
    "            choice = list(year_make_model_prob[key].keys())\n",
    "            # Retrieve the probability\n",
    "            prob = list(year_make_model_prob[key].values())\n",
    "            # Selected one of the available option based on the probability\n",
    "            selected = np.random.choice(choice,\n",
    "                                        p=prob)\n",
    "            # Save it in cache\n",
    "            year_make_model_cache[key] = [choice,prob]\n",
    "\n",
    "        # If year-make-model key is NOT found, Go to sub_key\n",
    "        else:\n",
    "            \n",
    "            # If make-model key is found in cache\n",
    "            if sub_key in make_model_cache:\n",
    "                # Retrieve the choice\n",
    "                choice = make_model_cache[sub_key][0]\n",
    "                # Retrieve the probability\n",
    "                prob = make_model_cache[sub_key][1]\n",
    "                # Selected one of the available option based on the probability\n",
    "                selected = np.random.choice(choice,\n",
    "                                            p=prob)\n",
    "            \n",
    "            # Try search with make-model key from original dict\n",
    "            if sub_key in make_model_prob:\n",
    "                \n",
    "                # Retrieve the choice\n",
    "                choice = list(make_model_prob[sub_key].keys())\n",
    "                # Retrieve the probability\n",
    "                prob = list(make_model_prob[sub_key].values())\n",
    "                # Selected one of the available option based on the probability\n",
    "                selected = np.random.choice(choice,\n",
    "                                            p=prob)\n",
    "                # Save it in cache\n",
    "                make_model_cache[sub_key] = [choice,prob]\n",
    "            \n",
    "            # If make-model key is NOT found, Go to general selection\n",
    "            else:\n",
    "                # If general selection cache is found\n",
    "                if general_cache_filled:\n",
    "                    \n",
    "                    # Retrieve the choice\n",
    "                    choice = general_cache[0]\n",
    "                    # Retrieve the probability\n",
    "                    prob = general_cache[1]\n",
    "                    # Selected one of the available option based on the probability\n",
    "                    selected = np.random.choice(choice,\n",
    "                                                p=prob)\n",
    "                    \n",
    "                else:\n",
    "                    # Retrieve the choice\n",
    "                    choice = list(random_prob.keys())\n",
    "                    # Retrieve the probability\n",
    "                    prob = list(random_prob.values())\n",
    "                    # Selected one of the available option based on the probability\n",
    "                    selected = np.random.choice(choice,\n",
    "                                                p=prob)\n",
    "                    \n",
    "                    # Save it in general_cache\n",
    "                    general_cache = [choice, prob]\n",
    "                    general_cache_filled = True\n",
    "                    \n",
    "        \n",
    "        \n",
    "        # Store the index and data in a list first\n",
    "        index_list.append(ind)\n",
    "        target_col_list.append(selected)\n",
    "    \n",
    "        \n",
    "        i_count += 1\n",
    "        if i_count % 5000 == 0:\n",
    "            print(f\"Filled rows: {i_count} / {total_null_count}\")\n",
    "          \n",
    "    # Convert the data into df and store it back to original df\n",
    "    new_df = pd.DataFrame({column_to_fill:target_col_list},index=index_list)\n",
    "    if inplace:\n",
    "        df.loc[index_list,column_to_fill] = new_df.loc[index_list,column_to_fill]\n",
    "    else:\n",
    "        print(new_df.tail())\n",
    "    print(f\"Filling completed!Filled rows: {i_count} / {total_null_count}\")\n",
    "    "
   ]
  },
  {
   "cell_type": "markdown",
   "id": "d189abc4-f74e-426d-96cb-4e058c6265bd",
   "metadata": {},
   "source": [
    "#### Fill Null Value"
   ]
  },
  {
   "cell_type": "code",
   "execution_count": 95,
   "id": "e564f141-bb5d-4f9d-afdb-065f698f74fe",
   "metadata": {},
   "outputs": [
    {
     "name": "stdout",
     "output_type": "stream",
     "text": [
      "=== Null Count ===\n",
      "Column `drivetrain`: 42824\n"
     ]
    }
   ],
   "source": [
    "# How many null value in this column\n",
    "print_null_count(df,[\"drivetrain\"])\n"
   ]
  },
  {
   "cell_type": "code",
   "execution_count": 96,
   "id": "5e32fab5-9bc1-47c8-ac02-223714163801",
   "metadata": {
    "tags": []
   },
   "outputs": [
    {
     "name": "stdout",
     "output_type": "stream",
     "text": [
      "Filled rows: 5000 / 42824\n",
      "Filled rows: 10000 / 42824\n",
      "Filled rows: 15000 / 42824\n",
      "Filled rows: 20000 / 42824\n",
      "Filled rows: 25000 / 42824\n",
      "Filled rows: 30000 / 42824\n",
      "Filled rows: 35000 / 42824\n",
      "Filled rows: 40000 / 42824\n",
      "Filling completed!Filled rows: 42824 / 42824\n",
      "4.69 s ± 0 ns per loop (mean ± std. dev. of 1 run, 1 loop each)\n"
     ]
    }
   ],
   "source": [
    "%%timeit -n 1 -r 1  # time the execution\n",
    "\n",
    "# Fill the NA with the function above\n",
    "fill_na_by_year_make_model(df,\n",
    "                           \"drivetrain\",\n",
    "                           year_make_model_drivetrain_prob,\n",
    "                           make_model_drivetrain_prob,\n",
    "                           drivetrain_val_prob,\n",
    "                           inplace=True)"
   ]
  },
  {
   "cell_type": "markdown",
   "id": "f738b56e-c420-4c34-a514-d44e675fca1f",
   "metadata": {},
   "source": [
    "##### Double check null value count"
   ]
  },
  {
   "cell_type": "code",
   "execution_count": 97,
   "id": "b54fa475-b9ac-4726-847e-5682939963c9",
   "metadata": {},
   "outputs": [
    {
     "name": "stdout",
     "output_type": "stream",
     "text": [
      "=== Null Count ===\n",
      "Column `drivetrain`: 0\n"
     ]
    }
   ],
   "source": [
    "# How many null value in this column after filling NA\n",
    "print_null_count(df,[\"drivetrain\"])"
   ]
  },
  {
   "cell_type": "markdown",
   "id": "f7fd3410-f038-45ba-852b-cfacdc07092f",
   "metadata": {},
   "source": [
    "---"
   ]
  },
  {
   "cell_type": "markdown",
   "id": "3a58f068-3832-48bc-ac56-c0f27c8610b7",
   "metadata": {
    "tags": [],
    "toc-hr-collapsed": true
   },
   "source": [
    "<div style=\"border-radius:10px; border:#33a0ff solid; padding: 15px; background-color: #f0f1ff; font-size:100%; text-align:left\">\n",
    "<a class=\"anchor\" id=\"1-col-transmission\">\n",
    "    <h3> Column: <b><i>transmission</i></b> </h3>\n",
    "</a>\n",
    "</div>"
   ]
  },
  {
   "cell_type": "markdown",
   "id": "a0498435-1f1c-45bd-a572-9eed00ccecc5",
   "metadata": {
    "tags": []
   },
   "source": [
    "#### Null Value Check"
   ]
  },
  {
   "cell_type": "code",
   "execution_count": 98,
   "id": "5c402266-b594-49c1-825a-5e54f15c5b2f",
   "metadata": {},
   "outputs": [
    {
     "name": "stdout",
     "output_type": "stream",
     "text": [
      "=== Null Count ===\n",
      "Column `transmission`: 38522\n"
     ]
    }
   ],
   "source": [
    "# How many null value in this column\n",
    "print_null_count(df,[\"transmission\"])"
   ]
  },
  {
   "cell_type": "code",
   "execution_count": 99,
   "id": "f1ce7ca9-3770-431b-8583-f5578960f377",
   "metadata": {},
   "outputs": [
    {
     "name": "stdout",
     "output_type": "stream",
     "text": [
      "=== Null Count Precentage ===\n",
      "Column transmission: 0.566%\n"
     ]
    }
   ],
   "source": [
    "# Precentage of null value in this column\n",
    "print_null_pct(df,[\"transmission\"])"
   ]
  },
  {
   "cell_type": "code",
   "execution_count": 100,
   "id": "e0cf64a9-e589-4fc7-91e7-a632ed78ae35",
   "metadata": {},
   "outputs": [
    {
     "data": {
      "text/plain": [
       "Automatic    6324765\n",
       "Manual        442509\n",
       "Name: transmission, dtype: int64"
      ]
     },
     "execution_count": 100,
     "metadata": {},
     "output_type": "execute_result"
    }
   ],
   "source": [
    "# Check value_count in the column\n",
    "target_col_val_count = df[\"transmission\"].value_counts()\n",
    "target_col_val_count"
   ]
  },
  {
   "cell_type": "code",
   "execution_count": 101,
   "id": "294e5865-ca12-4f3e-81d3-a0cecb1c046e",
   "metadata": {},
   "outputs": [
    {
     "name": "stdout",
     "output_type": "stream",
     "text": [
      "There are 2 distinct value in `transmission` column.\n"
     ]
    }
   ],
   "source": [
    "print(f\"There are {len(target_col_val_count)} distinct value in `transmission` column.\")"
   ]
  },
  {
   "cell_type": "markdown",
   "id": "65383af4-fc33-49a0-816f-07e47636e327",
   "metadata": {
    "tags": [],
    "toc-hr-collapsed": true
   },
   "source": [
    "#### Question: Is it possible to guess the `transmission` type by the year of the model, the model and the maker of the car? \n"
   ]
  },
  {
   "cell_type": "markdown",
   "id": "959ffcec-9d86-42de-839e-d1d9397c8661",
   "metadata": {},
   "source": [
    "<div style=\"border-radius:10px; border: #ffd500 solid; padding: 15px; background-color: #ffffcf; font-size:100%; text-align:left\">\n",
    "<font size=\"4px\" color=\"#ffa600\"><b>🧠 Idea:</b></font>\n",
    "\n",
    "- Similar to `drivetrain`, we can apply the same method to `transmission` type.\n",
    "- The possible guess is that the same car model built by the same maker in the same year should have the same `transmission` type.\n",
    "- For some models, they may have different `transmission` types. If that is the case, we can guess their `transmission` type based on the occurrence grouped by the `year`, `make` and `model`, and then calculate their corresponding probabilities.\n",
    "- Lastly, we randomly selected the `transmission` type based on their probabilities.\n",
    "                    \n",
    "<div>"
   ]
  },
  {
   "cell_type": "code",
   "execution_count": 102,
   "id": "5e28525c-b86b-4442-a67b-48855df61671",
   "metadata": {},
   "outputs": [
    {
     "data": {
      "text/html": [
       "<div>\n",
       "<style scoped>\n",
       "    .dataframe tbody tr th:only-of-type {\n",
       "        vertical-align: middle;\n",
       "    }\n",
       "\n",
       "    .dataframe tbody tr th {\n",
       "        vertical-align: top;\n",
       "    }\n",
       "\n",
       "    .dataframe thead th {\n",
       "        text-align: right;\n",
       "    }\n",
       "</style>\n",
       "<table border=\"1\" class=\"dataframe\">\n",
       "  <thead>\n",
       "    <tr style=\"text-align: right;\">\n",
       "      <th></th>\n",
       "      <th>year</th>\n",
       "      <th>make</th>\n",
       "      <th>model</th>\n",
       "      <th>transmission</th>\n",
       "    </tr>\n",
       "  </thead>\n",
       "  <tbody>\n",
       "    <tr>\n",
       "      <th>0</th>\n",
       "      <td>2017.0</td>\n",
       "      <td>Acura</td>\n",
       "      <td>NSX</td>\n",
       "      <td>Automatic</td>\n",
       "    </tr>\n",
       "    <tr>\n",
       "      <th>1</th>\n",
       "      <td>2017.0</td>\n",
       "      <td>Acura</td>\n",
       "      <td>NSX</td>\n",
       "      <td>Automatic</td>\n",
       "    </tr>\n",
       "    <tr>\n",
       "      <th>2</th>\n",
       "      <td>2017.0</td>\n",
       "      <td>Acura</td>\n",
       "      <td>NSX</td>\n",
       "      <td>Automatic</td>\n",
       "    </tr>\n",
       "    <tr>\n",
       "      <th>3</th>\n",
       "      <td>2020.0</td>\n",
       "      <td>Acura</td>\n",
       "      <td>NSX</td>\n",
       "      <td>Automatic</td>\n",
       "    </tr>\n",
       "    <tr>\n",
       "      <th>4</th>\n",
       "      <td>2020.0</td>\n",
       "      <td>Acura</td>\n",
       "      <td>NSX</td>\n",
       "      <td>Automatic</td>\n",
       "    </tr>\n",
       "  </tbody>\n",
       "</table>\n",
       "</div>"
      ],
      "text/plain": [
       "     year   make model transmission\n",
       "0  2017.0  Acura   NSX    Automatic\n",
       "1  2017.0  Acura   NSX    Automatic\n",
       "2  2017.0  Acura   NSX    Automatic\n",
       "3  2020.0  Acura   NSX    Automatic\n",
       "4  2020.0  Acura   NSX    Automatic"
      ]
     },
     "execution_count": 102,
     "metadata": {},
     "output_type": "execute_result"
    }
   ],
   "source": [
    "# Create a temporary dataframe for this part\n",
    "temp_df = df[[\"year\",\"make\",\"model\",\"transmission\"]]\n",
    "temp_df.head()"
   ]
  },
  {
   "cell_type": "markdown",
   "id": "2bef5eb1-43b4-40be-98ca-6cc224ad55ee",
   "metadata": {},
   "source": [
    "##### Group the `year`, `make` and `model` as one column"
   ]
  },
  {
   "cell_type": "code",
   "execution_count": 103,
   "id": "2543d0b2-cd57-4a7b-a0d5-2b959a827af6",
   "metadata": {},
   "outputs": [
    {
     "name": "stderr",
     "output_type": "stream",
     "text": [
      "/var/folders/zh/ycxy1lsx5sx0g_2n4l8hfvph0000gn/T/ipykernel_12304/887730097.py:5: SettingWithCopyWarning: \n",
      "A value is trying to be set on a copy of a slice from a DataFrame.\n",
      "Try using .loc[row_indexer,col_indexer] = value instead\n",
      "\n",
      "See the caveats in the documentation: https://pandas.pydata.org/pandas-docs/stable/user_guide/indexing.html#returning-a-view-versus-a-copy\n",
      "  temp_df[\"year-make-model\"] = df[\"year\"].astype(int).astype(str) + \"-\" + df[\"make\"] + \"-\" + df[\"model\"]\n"
     ]
    },
    {
     "data": {
      "text/html": [
       "<div>\n",
       "<style scoped>\n",
       "    .dataframe tbody tr th:only-of-type {\n",
       "        vertical-align: middle;\n",
       "    }\n",
       "\n",
       "    .dataframe tbody tr th {\n",
       "        vertical-align: top;\n",
       "    }\n",
       "\n",
       "    .dataframe thead th {\n",
       "        text-align: right;\n",
       "    }\n",
       "</style>\n",
       "<table border=\"1\" class=\"dataframe\">\n",
       "  <thead>\n",
       "    <tr style=\"text-align: right;\">\n",
       "      <th></th>\n",
       "      <th>year</th>\n",
       "      <th>make</th>\n",
       "      <th>model</th>\n",
       "      <th>transmission</th>\n",
       "      <th>year-make-model</th>\n",
       "    </tr>\n",
       "  </thead>\n",
       "  <tbody>\n",
       "    <tr>\n",
       "      <th>0</th>\n",
       "      <td>2017.0</td>\n",
       "      <td>Acura</td>\n",
       "      <td>NSX</td>\n",
       "      <td>Automatic</td>\n",
       "      <td>2017-Acura-NSX</td>\n",
       "    </tr>\n",
       "    <tr>\n",
       "      <th>1</th>\n",
       "      <td>2017.0</td>\n",
       "      <td>Acura</td>\n",
       "      <td>NSX</td>\n",
       "      <td>Automatic</td>\n",
       "      <td>2017-Acura-NSX</td>\n",
       "    </tr>\n",
       "    <tr>\n",
       "      <th>2</th>\n",
       "      <td>2017.0</td>\n",
       "      <td>Acura</td>\n",
       "      <td>NSX</td>\n",
       "      <td>Automatic</td>\n",
       "      <td>2017-Acura-NSX</td>\n",
       "    </tr>\n",
       "    <tr>\n",
       "      <th>3</th>\n",
       "      <td>2020.0</td>\n",
       "      <td>Acura</td>\n",
       "      <td>NSX</td>\n",
       "      <td>Automatic</td>\n",
       "      <td>2020-Acura-NSX</td>\n",
       "    </tr>\n",
       "    <tr>\n",
       "      <th>4</th>\n",
       "      <td>2020.0</td>\n",
       "      <td>Acura</td>\n",
       "      <td>NSX</td>\n",
       "      <td>Automatic</td>\n",
       "      <td>2020-Acura-NSX</td>\n",
       "    </tr>\n",
       "  </tbody>\n",
       "</table>\n",
       "</div>"
      ],
      "text/plain": [
       "     year   make model transmission year-make-model\n",
       "0  2017.0  Acura   NSX    Automatic  2017-Acura-NSX\n",
       "1  2017.0  Acura   NSX    Automatic  2017-Acura-NSX\n",
       "2  2017.0  Acura   NSX    Automatic  2017-Acura-NSX\n",
       "3  2020.0  Acura   NSX    Automatic  2020-Acura-NSX\n",
       "4  2020.0  Acura   NSX    Automatic  2020-Acura-NSX"
      ]
     },
     "execution_count": 103,
     "metadata": {},
     "output_type": "execute_result"
    }
   ],
   "source": [
    "# Create columns that aggregate the `year`, `make` and `model`\n",
    "# Note: \"year\" column is in float format. \n",
    "# `astype(int)` transform the year from float to int\n",
    "# Then, `astype(str)` transform the year from int to str for concatenation \n",
    "temp_df[\"year-make-model\"] = df[\"year\"].astype(int).astype(str) + \"-\" + df[\"make\"] + \"-\" + df[\"model\"]\n",
    "temp_df.head()"
   ]
  },
  {
   "cell_type": "markdown",
   "id": "e61e4c28-c444-4436-9d5a-0f2423b75e00",
   "metadata": {},
   "source": [
    "##### Count transmission occurrence"
   ]
  },
  {
   "cell_type": "code",
   "execution_count": 104,
   "id": "ac2ccb74-2e18-441c-91fb-f1e2b48bc7a6",
   "metadata": {},
   "outputs": [
    {
     "data": {
      "text/html": [
       "<div>\n",
       "<style scoped>\n",
       "    .dataframe tbody tr th:only-of-type {\n",
       "        vertical-align: middle;\n",
       "    }\n",
       "\n",
       "    .dataframe tbody tr th {\n",
       "        vertical-align: top;\n",
       "    }\n",
       "\n",
       "    .dataframe thead th {\n",
       "        text-align: right;\n",
       "    }\n",
       "</style>\n",
       "<table border=\"1\" class=\"dataframe\">\n",
       "  <thead>\n",
       "    <tr style=\"text-align: right;\">\n",
       "      <th>transmission</th>\n",
       "      <th>Automatic</th>\n",
       "      <th>Manual</th>\n",
       "    </tr>\n",
       "    <tr>\n",
       "      <th>year-make-model</th>\n",
       "      <th></th>\n",
       "      <th></th>\n",
       "    </tr>\n",
       "  </thead>\n",
       "  <tbody>\n",
       "    <tr>\n",
       "      <th>2022-MINI-Cooper</th>\n",
       "      <td>0.0</td>\n",
       "      <td>48.0</td>\n",
       "    </tr>\n",
       "    <tr>\n",
       "      <th>2022-MINI-Countryman</th>\n",
       "      <td>22.0</td>\n",
       "      <td>0.0</td>\n",
       "    </tr>\n",
       "    <tr>\n",
       "      <th>2022-MINI-Hardtop 4 Door</th>\n",
       "      <td>0.0</td>\n",
       "      <td>98.0</td>\n",
       "    </tr>\n",
       "    <tr>\n",
       "      <th>2022-Mitsubishi-Eclipse Cross</th>\n",
       "      <td>8.0</td>\n",
       "      <td>0.0</td>\n",
       "    </tr>\n",
       "    <tr>\n",
       "      <th>2022-Mitsubishi-Outlander</th>\n",
       "      <td>7.0</td>\n",
       "      <td>0.0</td>\n",
       "    </tr>\n",
       "  </tbody>\n",
       "</table>\n",
       "</div>"
      ],
      "text/plain": [
       "transmission                   Automatic  Manual\n",
       "year-make-model                                 \n",
       "2022-MINI-Cooper                     0.0    48.0\n",
       "2022-MINI-Countryman                22.0     0.0\n",
       "2022-MINI-Hardtop 4 Door             0.0    98.0\n",
       "2022-Mitsubishi-Eclipse Cross        8.0     0.0\n",
       "2022-Mitsubishi-Outlander            7.0     0.0"
      ]
     },
     "execution_count": 104,
     "metadata": {},
     "output_type": "execute_result"
    }
   ],
   "source": [
    "# Count how the occurrence of `transmission` for each `year-make-model` combination\n",
    "year_make_model_transmission_count = \\\n",
    "    temp_df\\\n",
    "    .groupby([\"year-make-model\",\"transmission\"])[\"transmission\"]\\\n",
    "    .count()\\\n",
    "    .unstack()\\\n",
    "    .fillna(0)\\\n",
    "    .reset_index(drop = False)\\\n",
    "    .set_index(keys = [\"year-make-model\"])\n",
    "year_make_model_transmission_count.tail()"
   ]
  },
  {
   "cell_type": "markdown",
   "id": "4c8bf930-65a6-4fd4-ba11-4f376dfd19a7",
   "metadata": {},
   "source": [
    "##### Convert into probability by normalization"
   ]
  },
  {
   "cell_type": "code",
   "execution_count": 105,
   "id": "0c2fb3ae-ff59-46bf-9805-83455298ad66",
   "metadata": {
    "scrolled": true,
    "tags": []
   },
   "outputs": [],
   "source": [
    "# Get the normalized version for the probability\n",
    "year_make_model_transmission_prob = \\\n",
    "    year_make_model_transmission_count.div(year_make_model_transmission_count.sum(axis=1), axis=0)\n",
    "year_make_model_transmission_prob = year_make_model_transmission_prob.T.to_dict()"
   ]
  },
  {
   "cell_type": "markdown",
   "id": "3173a9bb-8793-4637-a70d-3c9f46968933",
   "metadata": {},
   "source": [
    "##### Group the `make` and `model` as one column"
   ]
  },
  {
   "cell_type": "code",
   "execution_count": 106,
   "id": "836c5479-df60-4f3d-b744-695cfd89d257",
   "metadata": {},
   "outputs": [
    {
     "name": "stderr",
     "output_type": "stream",
     "text": [
      "/var/folders/zh/ycxy1lsx5sx0g_2n4l8hfvph0000gn/T/ipykernel_12304/1186489987.py:2: SettingWithCopyWarning: \n",
      "A value is trying to be set on a copy of a slice from a DataFrame.\n",
      "Try using .loc[row_indexer,col_indexer] = value instead\n",
      "\n",
      "See the caveats in the documentation: https://pandas.pydata.org/pandas-docs/stable/user_guide/indexing.html#returning-a-view-versus-a-copy\n",
      "  temp_df[\"make-model\"] = df[\"make\"] + \"-\" + df[\"model\"]\n"
     ]
    },
    {
     "data": {
      "text/html": [
       "<div>\n",
       "<style scoped>\n",
       "    .dataframe tbody tr th:only-of-type {\n",
       "        vertical-align: middle;\n",
       "    }\n",
       "\n",
       "    .dataframe tbody tr th {\n",
       "        vertical-align: top;\n",
       "    }\n",
       "\n",
       "    .dataframe thead th {\n",
       "        text-align: right;\n",
       "    }\n",
       "</style>\n",
       "<table border=\"1\" class=\"dataframe\">\n",
       "  <thead>\n",
       "    <tr style=\"text-align: right;\">\n",
       "      <th></th>\n",
       "      <th>year</th>\n",
       "      <th>make</th>\n",
       "      <th>model</th>\n",
       "      <th>transmission</th>\n",
       "      <th>year-make-model</th>\n",
       "      <th>make-model</th>\n",
       "    </tr>\n",
       "  </thead>\n",
       "  <tbody>\n",
       "    <tr>\n",
       "      <th>0</th>\n",
       "      <td>2017.0</td>\n",
       "      <td>Acura</td>\n",
       "      <td>NSX</td>\n",
       "      <td>Automatic</td>\n",
       "      <td>2017-Acura-NSX</td>\n",
       "      <td>Acura-NSX</td>\n",
       "    </tr>\n",
       "    <tr>\n",
       "      <th>1</th>\n",
       "      <td>2017.0</td>\n",
       "      <td>Acura</td>\n",
       "      <td>NSX</td>\n",
       "      <td>Automatic</td>\n",
       "      <td>2017-Acura-NSX</td>\n",
       "      <td>Acura-NSX</td>\n",
       "    </tr>\n",
       "    <tr>\n",
       "      <th>2</th>\n",
       "      <td>2017.0</td>\n",
       "      <td>Acura</td>\n",
       "      <td>NSX</td>\n",
       "      <td>Automatic</td>\n",
       "      <td>2017-Acura-NSX</td>\n",
       "      <td>Acura-NSX</td>\n",
       "    </tr>\n",
       "    <tr>\n",
       "      <th>3</th>\n",
       "      <td>2020.0</td>\n",
       "      <td>Acura</td>\n",
       "      <td>NSX</td>\n",
       "      <td>Automatic</td>\n",
       "      <td>2020-Acura-NSX</td>\n",
       "      <td>Acura-NSX</td>\n",
       "    </tr>\n",
       "    <tr>\n",
       "      <th>4</th>\n",
       "      <td>2020.0</td>\n",
       "      <td>Acura</td>\n",
       "      <td>NSX</td>\n",
       "      <td>Automatic</td>\n",
       "      <td>2020-Acura-NSX</td>\n",
       "      <td>Acura-NSX</td>\n",
       "    </tr>\n",
       "  </tbody>\n",
       "</table>\n",
       "</div>"
      ],
      "text/plain": [
       "     year   make model transmission year-make-model make-model\n",
       "0  2017.0  Acura   NSX    Automatic  2017-Acura-NSX  Acura-NSX\n",
       "1  2017.0  Acura   NSX    Automatic  2017-Acura-NSX  Acura-NSX\n",
       "2  2017.0  Acura   NSX    Automatic  2017-Acura-NSX  Acura-NSX\n",
       "3  2020.0  Acura   NSX    Automatic  2020-Acura-NSX  Acura-NSX\n",
       "4  2020.0  Acura   NSX    Automatic  2020-Acura-NSX  Acura-NSX"
      ]
     },
     "execution_count": 106,
     "metadata": {},
     "output_type": "execute_result"
    }
   ],
   "source": [
    "# Create columns that aggregate the `make` and `model`\n",
    "temp_df[\"make-model\"] = df[\"make\"] + \"-\" + df[\"model\"]\n",
    "temp_df.head()"
   ]
  },
  {
   "cell_type": "markdown",
   "id": "f7384190-84ad-44c5-b17c-486e50bc08c2",
   "metadata": {},
   "source": [
    "##### Count transmission occurrence"
   ]
  },
  {
   "cell_type": "code",
   "execution_count": 107,
   "id": "e8688e1e-041b-45d1-9fd4-ac7ea49ef683",
   "metadata": {},
   "outputs": [
    {
     "data": {
      "text/html": [
       "<div>\n",
       "<style scoped>\n",
       "    .dataframe tbody tr th:only-of-type {\n",
       "        vertical-align: middle;\n",
       "    }\n",
       "\n",
       "    .dataframe tbody tr th {\n",
       "        vertical-align: top;\n",
       "    }\n",
       "\n",
       "    .dataframe thead th {\n",
       "        text-align: right;\n",
       "    }\n",
       "</style>\n",
       "<table border=\"1\" class=\"dataframe\">\n",
       "  <thead>\n",
       "    <tr style=\"text-align: right;\">\n",
       "      <th>transmission</th>\n",
       "      <th>Automatic</th>\n",
       "      <th>Manual</th>\n",
       "    </tr>\n",
       "    <tr>\n",
       "      <th>make-model</th>\n",
       "      <th></th>\n",
       "      <th></th>\n",
       "    </tr>\n",
       "  </thead>\n",
       "  <tbody>\n",
       "    <tr>\n",
       "      <th>Acura-500</th>\n",
       "      <td>1.0</td>\n",
       "      <td>0.0</td>\n",
       "    </tr>\n",
       "    <tr>\n",
       "      <th>Acura-A5</th>\n",
       "      <td>3.0</td>\n",
       "      <td>0.0</td>\n",
       "    </tr>\n",
       "    <tr>\n",
       "      <th>Acura-CL</th>\n",
       "      <td>69.0</td>\n",
       "      <td>1.0</td>\n",
       "    </tr>\n",
       "    <tr>\n",
       "      <th>Acura-CSX</th>\n",
       "      <td>3.0</td>\n",
       "      <td>0.0</td>\n",
       "    </tr>\n",
       "    <tr>\n",
       "      <th>Acura-Coupe</th>\n",
       "      <td>0.0</td>\n",
       "      <td>2.0</td>\n",
       "    </tr>\n",
       "  </tbody>\n",
       "</table>\n",
       "</div>"
      ],
      "text/plain": [
       "transmission  Automatic  Manual\n",
       "make-model                     \n",
       "Acura-500           1.0     0.0\n",
       "Acura-A5            3.0     0.0\n",
       "Acura-CL           69.0     1.0\n",
       "Acura-CSX           3.0     0.0\n",
       "Acura-Coupe         0.0     2.0"
      ]
     },
     "execution_count": 107,
     "metadata": {},
     "output_type": "execute_result"
    }
   ],
   "source": [
    "# Count how the occurrence of `transmission` for each `make-model` combination\n",
    "make_model_transmission_count = \\\n",
    "    temp_df\\\n",
    "    .groupby([\"make-model\",\"transmission\"])[\"transmission\"]\\\n",
    "    .count()\\\n",
    "    .unstack()\\\n",
    "    .fillna(0)\\\n",
    "    .reset_index(drop = False)\\\n",
    "    .set_index(keys = [\"make-model\"])\n",
    "make_model_transmission_count.head()"
   ]
  },
  {
   "cell_type": "markdown",
   "id": "c04c0845-b37e-47b5-9b8a-aa29efc52305",
   "metadata": {},
   "source": [
    "##### Convert into probability by normalization"
   ]
  },
  {
   "cell_type": "code",
   "execution_count": 108,
   "id": "b0d4ad62-a538-448c-a037-d64e09c61ff5",
   "metadata": {
    "scrolled": true,
    "tags": []
   },
   "outputs": [],
   "source": [
    "# Get the normalized version for the probability\n",
    "make_model_transmission_prob = \\\n",
    "    make_model_transmission_count.div(make_model_transmission_count.sum(axis=1), axis=0)\n",
    "make_model_transmission_prob = make_model_transmission_prob.T.to_dict()"
   ]
  },
  {
   "cell_type": "markdown",
   "id": "e949c4f0-469b-4f4b-80d5-77155d4f306c",
   "metadata": {},
   "source": [
    "##### Count transmission occurrence in original df"
   ]
  },
  {
   "cell_type": "code",
   "execution_count": 109,
   "id": "faafc5b4-dc73-4ffe-8936-edae39eaa55c",
   "metadata": {},
   "outputs": [
    {
     "data": {
      "text/html": [
       "<div>\n",
       "<style scoped>\n",
       "    .dataframe tbody tr th:only-of-type {\n",
       "        vertical-align: middle;\n",
       "    }\n",
       "\n",
       "    .dataframe tbody tr th {\n",
       "        vertical-align: top;\n",
       "    }\n",
       "\n",
       "    .dataframe thead th {\n",
       "        text-align: right;\n",
       "    }\n",
       "</style>\n",
       "<table border=\"1\" class=\"dataframe\">\n",
       "  <thead>\n",
       "    <tr style=\"text-align: right;\">\n",
       "      <th></th>\n",
       "      <th>transmission</th>\n",
       "    </tr>\n",
       "  </thead>\n",
       "  <tbody>\n",
       "    <tr>\n",
       "      <th>Automatic</th>\n",
       "      <td>6324765</td>\n",
       "    </tr>\n",
       "    <tr>\n",
       "      <th>Manual</th>\n",
       "      <td>442509</td>\n",
       "    </tr>\n",
       "  </tbody>\n",
       "</table>\n",
       "</div>"
      ],
      "text/plain": [
       "           transmission\n",
       "Automatic       6324765\n",
       "Manual           442509"
      ]
     },
     "execution_count": 109,
     "metadata": {},
     "output_type": "execute_result"
    }
   ],
   "source": [
    "# Prepare the probability for random assignment if the combination is not found in both tables above.\n",
    "transmission_val_count = df[\"transmission\"].value_counts().to_frame()\n",
    "transmission_val_count"
   ]
  },
  {
   "cell_type": "markdown",
   "id": "f795eb2b-adbe-4391-9af9-db05027b2cb7",
   "metadata": {},
   "source": [
    "##### Convert into probability by normalization"
   ]
  },
  {
   "cell_type": "code",
   "execution_count": 110,
   "id": "14a15c53-b445-4087-8e09-af61c2e8ebe8",
   "metadata": {},
   "outputs": [
    {
     "data": {
      "text/plain": [
       "{'Automatic': 0.9346104502344666, 'Manual': 0.06538954976553336}"
      ]
     },
     "execution_count": 110,
     "metadata": {},
     "output_type": "execute_result"
    }
   ],
   "source": [
    "# Prepare the probability for general selection\n",
    "transmission_val_prob = transmission_val_count.div(transmission_val_count.sum(axis=0),axis=1)\n",
    "transmission_val_prob = transmission_val_prob.to_dict()['transmission']\n",
    "transmission_val_prob"
   ]
  },
  {
   "cell_type": "markdown",
   "id": "27039ff7-6d08-4e6c-80ea-a25ad40d3273",
   "metadata": {},
   "source": [
    "#### Fill Null Value"
   ]
  },
  {
   "cell_type": "code",
   "execution_count": 111,
   "id": "57eb894f-1da0-404d-85d6-b1008b1f4b3e",
   "metadata": {},
   "outputs": [
    {
     "name": "stdout",
     "output_type": "stream",
     "text": [
      "=== Null Count ===\n",
      "Column `transmission`: 38522\n"
     ]
    }
   ],
   "source": [
    "# How many null value in this column\n",
    "print_null_count(df,[\"transmission\"])"
   ]
  },
  {
   "cell_type": "code",
   "execution_count": 112,
   "id": "a891eb3e-a986-4886-b9ae-e1a83ff3f2e5",
   "metadata": {
    "tags": []
   },
   "outputs": [
    {
     "name": "stdout",
     "output_type": "stream",
     "text": [
      "Filled rows: 5000 / 38522\n",
      "Filled rows: 10000 / 38522\n",
      "Filled rows: 15000 / 38522\n",
      "Filled rows: 20000 / 38522\n",
      "Filled rows: 25000 / 38522\n",
      "Filled rows: 30000 / 38522\n",
      "Filled rows: 35000 / 38522\n",
      "Filling completed!Filled rows: 38522 / 38522\n",
      "3.43 s ± 0 ns per loop (mean ± std. dev. of 1 run, 1 loop each)\n"
     ]
    }
   ],
   "source": [
    "%%timeit -n 1 -r 1  # time the execution\n",
    "\n",
    "# Fill the NA with the function above\n",
    "fill_na_by_year_make_model(df,\n",
    "                           \"transmission\",\n",
    "                           year_make_model_transmission_prob,\n",
    "                           make_model_transmission_prob,\n",
    "                           transmission_val_prob)"
   ]
  },
  {
   "cell_type": "markdown",
   "id": "9be6ac4d-9d8a-4680-902d-1268995bf72b",
   "metadata": {},
   "source": [
    "##### Double check null value count"
   ]
  },
  {
   "cell_type": "code",
   "execution_count": 113,
   "id": "fc52639d-1d6e-4c64-a026-37cfafe56f64",
   "metadata": {},
   "outputs": [
    {
     "name": "stdout",
     "output_type": "stream",
     "text": [
      "=== Null Count ===\n",
      "Column `transmission`: 0\n"
     ]
    }
   ],
   "source": [
    "# How many null value in this column after filling NA\n",
    "print_null_count(df,[\"transmission\"])"
   ]
  },
  {
   "cell_type": "markdown",
   "id": "112b557a-c6d9-499f-afa6-998c34503a13",
   "metadata": {},
   "source": [
    "---"
   ]
  },
  {
   "cell_type": "markdown",
   "id": "f1ff0591-a923-4349-ae8f-c27a62f892bd",
   "metadata": {
    "tags": [],
    "toc-hr-collapsed": true
   },
   "source": [
    "<div style=\"border-radius:10px; border:#33a0ff solid; padding: 15px; background-color: #f0f1ff; font-size:100%; text-align:left\">\n",
    "<a class=\"anchor\" id=\"1-col-fuel-type\">\n",
    "    <h3> Column: <b><i>fuel_type</i></b> </h3>\n",
    "</a>\n",
    "</div>"
   ]
  },
  {
   "cell_type": "markdown",
   "id": "fbc27190-0f61-4096-a785-8b9d2d5dead3",
   "metadata": {
    "tags": []
   },
   "source": [
    "#### Null Value Check"
   ]
  },
  {
   "cell_type": "code",
   "execution_count": 114,
   "id": "e9cd4849-5ded-467a-aea6-3fdaef88cb61",
   "metadata": {},
   "outputs": [
    {
     "name": "stdout",
     "output_type": "stream",
     "text": [
      "=== Null Count ===\n",
      "Column `fuel_type`: 94693\n"
     ]
    }
   ],
   "source": [
    "# How many null value in this column\n",
    "print_null_count(df,[\"fuel_type\"])"
   ]
  },
  {
   "cell_type": "code",
   "execution_count": 115,
   "id": "bfcac147-4fac-41bf-8693-9ce99cdbba16",
   "metadata": {},
   "outputs": [
    {
     "name": "stdout",
     "output_type": "stream",
     "text": [
      "=== Null Count Precentage ===\n",
      "Column fuel_type: 1.3914%\n"
     ]
    }
   ],
   "source": [
    "# Precentage of null value in this column\n",
    "print_null_pct(df,[\"fuel_type\"])"
   ]
  },
  {
   "cell_type": "code",
   "execution_count": 116,
   "id": "cf039572-6307-4823-9b50-ae847bb81b05",
   "metadata": {},
   "outputs": [
    {
     "data": {
      "text/plain": [
       "Unleaded                                            4438817\n",
       "Premium Unleaded                                    1401681\n",
       "E85 / Unleaded                                       479776\n",
       "Diesel                                               159266\n",
       "Electric / Unleaded                                  117022\n",
       "Electric / Premium Unleaded                           30088\n",
       "Electric                                              21950\n",
       "E85 / Premium Unleaded                                18851\n",
       "E85 / Unleaded; Unleaded / Unleaded                   17057\n",
       "Premium Unleaded; Unleaded                             8238\n",
       "E85 / Unleaded; Unleaded                               4791\n",
       "E85                                                    3704\n",
       "Unleaded / Unleaded                                    2873\n",
       "Premium Unleaded / Unleaded                            2072\n",
       "Unleaded / E85                                         1644\n",
       "E85 / Unleaded; Premium Unleaded                        769\n",
       "Biodiesel                                               677\n",
       "Diesel; E85 / Unleaded                                  347\n",
       "Electric / Premium Unleaded; Premium Unleaded           336\n",
       "Electric / Hydrogen                                     193\n",
       "Compressed Natural Gas                                  157\n",
       "Compressed Natural Gas / Unleaded                       107\n",
       "Compressed Natural Gas; Unleaded                        101\n",
       "Unleaded; Unleaded / E85                                 93\n",
       "E85 / Premium Unleaded; E85 / Unleaded                   77\n",
       "Diesel; Unleaded                                         77\n",
       "Electric / Premium Unleaded; Electric / Unleaded         74\n",
       "Electric / E85                                           63\n",
       "E85; E85 / Unleaded                                      51\n",
       "E85 / Unleaded; Unleaded / E85                           49\n",
       "Unleaded / Electric                                      43\n",
       "Diesel / Premium Unleaded                                24\n",
       "Premium Unleaded; Premium Unleaded / E85                 14\n",
       "Unleaded / Premium Unleaded                               8\n",
       "Compressed Natural Gas / Lpg                              7\n",
       "Hydrogen                                                  3\n",
       "Premium Unleaded / E85                                    2\n",
       "M85 / Unleaded                                            1\n",
       "Name: fuel_type, dtype: int64"
      ]
     },
     "execution_count": 116,
     "metadata": {},
     "output_type": "execute_result"
    }
   ],
   "source": [
    "# Check value_count in the column\n",
    "target_col_val_count = df[\"fuel_type\"].value_counts()\n",
    "target_col_val_count"
   ]
  },
  {
   "cell_type": "code",
   "execution_count": 117,
   "id": "cb05d0e5-d4fa-4a6e-a68a-4a293d688f0e",
   "metadata": {},
   "outputs": [
    {
     "name": "stdout",
     "output_type": "stream",
     "text": [
      "There are 38 distinct value in `fuel_type` column.\n"
     ]
    }
   ],
   "source": [
    "print(f\"There are {len(target_col_val_count)} distinct value in `fuel_type` column.\")"
   ]
  },
  {
   "cell_type": "markdown",
   "id": "d8bb3848-fc3e-42b8-9924-3b13208882c6",
   "metadata": {},
   "source": [
    "<div style=\"border-radius:10px; border: #ffd500 solid; padding: 15px; background-color: #ffffcf; font-size:100%; text-align:left\">\n",
    "<font size=\"4px\" color=\"#ffa600\"><b>💬 Comment:</b></font>\n",
    "\n",
    "- There are different values in this column. Some of them are duplicated. Let's get all the distict fuel types.\n",
    "                    \n",
    "<div>"
   ]
  },
  {
   "cell_type": "markdown",
   "id": "a0c261e0-1057-411e-afee-3cf51205adb5",
   "metadata": {
    "tags": [],
    "toc-hr-collapsed": true
   },
   "source": [
    "#### Question: Is it possible to guess the `fuel_type` type by the year of the model, the model and the maker of the car? "
   ]
  },
  {
   "cell_type": "markdown",
   "id": "b6d2340c-3976-41e8-a6d6-fbf8af968e49",
   "metadata": {},
   "source": [
    "<div style=\"border-radius:10px; border: #ffd500 solid; padding: 15px; background-color: #ffffcf; font-size:100%; text-align:left\">\n",
    "<font size=\"4px\" color=\"#ffa600\"><b>🧠 Idea:</b></font>\n",
    "\n",
    "- Similar to `drivetrain` and `transmissionn`, we can apply the same method to `fuel_type` type.\n",
    "- The possible guess is that the same car model built by the same maker in the same year should have the same `fuel_type` type.\n",
    "- For some models, they may have different `fuel_type` types. If that is the case, we can guess their `fuel_type` type based on the occurrence grouped by the `year`, `make` and `model`, and then calculate their corresponding probabilities.\n",
    "- Lastly, we randomly selected the `fuel_type` type based on their probabilities.\n",
    "                    \n",
    "<div>"
   ]
  },
  {
   "cell_type": "code",
   "execution_count": 118,
   "id": "d98d3a32-3bbb-434d-aab1-7640a60f9be5",
   "metadata": {},
   "outputs": [
    {
     "data": {
      "text/html": [
       "<div>\n",
       "<style scoped>\n",
       "    .dataframe tbody tr th:only-of-type {\n",
       "        vertical-align: middle;\n",
       "    }\n",
       "\n",
       "    .dataframe tbody tr th {\n",
       "        vertical-align: top;\n",
       "    }\n",
       "\n",
       "    .dataframe thead th {\n",
       "        text-align: right;\n",
       "    }\n",
       "</style>\n",
       "<table border=\"1\" class=\"dataframe\">\n",
       "  <thead>\n",
       "    <tr style=\"text-align: right;\">\n",
       "      <th></th>\n",
       "      <th>year</th>\n",
       "      <th>make</th>\n",
       "      <th>model</th>\n",
       "      <th>fuel_type</th>\n",
       "    </tr>\n",
       "  </thead>\n",
       "  <tbody>\n",
       "    <tr>\n",
       "      <th>0</th>\n",
       "      <td>2017.0</td>\n",
       "      <td>Acura</td>\n",
       "      <td>NSX</td>\n",
       "      <td>Electric / Premium Unleaded</td>\n",
       "    </tr>\n",
       "    <tr>\n",
       "      <th>1</th>\n",
       "      <td>2017.0</td>\n",
       "      <td>Acura</td>\n",
       "      <td>NSX</td>\n",
       "      <td>Electric / Premium Unleaded</td>\n",
       "    </tr>\n",
       "    <tr>\n",
       "      <th>2</th>\n",
       "      <td>2017.0</td>\n",
       "      <td>Acura</td>\n",
       "      <td>NSX</td>\n",
       "      <td>Electric / Premium Unleaded</td>\n",
       "    </tr>\n",
       "    <tr>\n",
       "      <th>3</th>\n",
       "      <td>2020.0</td>\n",
       "      <td>Acura</td>\n",
       "      <td>NSX</td>\n",
       "      <td>Electric / Premium Unleaded</td>\n",
       "    </tr>\n",
       "    <tr>\n",
       "      <th>4</th>\n",
       "      <td>2020.0</td>\n",
       "      <td>Acura</td>\n",
       "      <td>NSX</td>\n",
       "      <td>Electric / Premium Unleaded</td>\n",
       "    </tr>\n",
       "  </tbody>\n",
       "</table>\n",
       "</div>"
      ],
      "text/plain": [
       "     year   make model                    fuel_type\n",
       "0  2017.0  Acura   NSX  Electric / Premium Unleaded\n",
       "1  2017.0  Acura   NSX  Electric / Premium Unleaded\n",
       "2  2017.0  Acura   NSX  Electric / Premium Unleaded\n",
       "3  2020.0  Acura   NSX  Electric / Premium Unleaded\n",
       "4  2020.0  Acura   NSX  Electric / Premium Unleaded"
      ]
     },
     "execution_count": 118,
     "metadata": {},
     "output_type": "execute_result"
    }
   ],
   "source": [
    "# Create a temporary dataframe for this part\n",
    "temp_df = df[[\"year\",\"make\",\"model\",\"fuel_type\"]]\n",
    "temp_df.head()"
   ]
  },
  {
   "cell_type": "markdown",
   "id": "ea69ea69-8165-4f6a-90b4-6c9e55ed9cdd",
   "metadata": {},
   "source": [
    "##### Group the `year`, `make` and `model` as one column"
   ]
  },
  {
   "cell_type": "code",
   "execution_count": 119,
   "id": "fc7db64e-e99a-4d5c-ad45-d9d9300e15b8",
   "metadata": {},
   "outputs": [
    {
     "name": "stderr",
     "output_type": "stream",
     "text": [
      "/var/folders/zh/ycxy1lsx5sx0g_2n4l8hfvph0000gn/T/ipykernel_12304/887730097.py:5: SettingWithCopyWarning: \n",
      "A value is trying to be set on a copy of a slice from a DataFrame.\n",
      "Try using .loc[row_indexer,col_indexer] = value instead\n",
      "\n",
      "See the caveats in the documentation: https://pandas.pydata.org/pandas-docs/stable/user_guide/indexing.html#returning-a-view-versus-a-copy\n",
      "  temp_df[\"year-make-model\"] = df[\"year\"].astype(int).astype(str) + \"-\" + df[\"make\"] + \"-\" + df[\"model\"]\n"
     ]
    },
    {
     "data": {
      "text/html": [
       "<div>\n",
       "<style scoped>\n",
       "    .dataframe tbody tr th:only-of-type {\n",
       "        vertical-align: middle;\n",
       "    }\n",
       "\n",
       "    .dataframe tbody tr th {\n",
       "        vertical-align: top;\n",
       "    }\n",
       "\n",
       "    .dataframe thead th {\n",
       "        text-align: right;\n",
       "    }\n",
       "</style>\n",
       "<table border=\"1\" class=\"dataframe\">\n",
       "  <thead>\n",
       "    <tr style=\"text-align: right;\">\n",
       "      <th></th>\n",
       "      <th>year</th>\n",
       "      <th>make</th>\n",
       "      <th>model</th>\n",
       "      <th>fuel_type</th>\n",
       "      <th>year-make-model</th>\n",
       "    </tr>\n",
       "  </thead>\n",
       "  <tbody>\n",
       "    <tr>\n",
       "      <th>0</th>\n",
       "      <td>2017.0</td>\n",
       "      <td>Acura</td>\n",
       "      <td>NSX</td>\n",
       "      <td>Electric / Premium Unleaded</td>\n",
       "      <td>2017-Acura-NSX</td>\n",
       "    </tr>\n",
       "    <tr>\n",
       "      <th>1</th>\n",
       "      <td>2017.0</td>\n",
       "      <td>Acura</td>\n",
       "      <td>NSX</td>\n",
       "      <td>Electric / Premium Unleaded</td>\n",
       "      <td>2017-Acura-NSX</td>\n",
       "    </tr>\n",
       "    <tr>\n",
       "      <th>2</th>\n",
       "      <td>2017.0</td>\n",
       "      <td>Acura</td>\n",
       "      <td>NSX</td>\n",
       "      <td>Electric / Premium Unleaded</td>\n",
       "      <td>2017-Acura-NSX</td>\n",
       "    </tr>\n",
       "    <tr>\n",
       "      <th>3</th>\n",
       "      <td>2020.0</td>\n",
       "      <td>Acura</td>\n",
       "      <td>NSX</td>\n",
       "      <td>Electric / Premium Unleaded</td>\n",
       "      <td>2020-Acura-NSX</td>\n",
       "    </tr>\n",
       "    <tr>\n",
       "      <th>4</th>\n",
       "      <td>2020.0</td>\n",
       "      <td>Acura</td>\n",
       "      <td>NSX</td>\n",
       "      <td>Electric / Premium Unleaded</td>\n",
       "      <td>2020-Acura-NSX</td>\n",
       "    </tr>\n",
       "  </tbody>\n",
       "</table>\n",
       "</div>"
      ],
      "text/plain": [
       "     year   make model                    fuel_type year-make-model\n",
       "0  2017.0  Acura   NSX  Electric / Premium Unleaded  2017-Acura-NSX\n",
       "1  2017.0  Acura   NSX  Electric / Premium Unleaded  2017-Acura-NSX\n",
       "2  2017.0  Acura   NSX  Electric / Premium Unleaded  2017-Acura-NSX\n",
       "3  2020.0  Acura   NSX  Electric / Premium Unleaded  2020-Acura-NSX\n",
       "4  2020.0  Acura   NSX  Electric / Premium Unleaded  2020-Acura-NSX"
      ]
     },
     "execution_count": 119,
     "metadata": {},
     "output_type": "execute_result"
    }
   ],
   "source": [
    "# Create columns that aggregate the `year`, `make` and `model`\n",
    "# Note: \"year\" column is in float format. \n",
    "# `astype(int)` transform the year from float to int\n",
    "# Then, `astype(str)` transform the year from int to str for concatenation \n",
    "temp_df[\"year-make-model\"] = df[\"year\"].astype(int).astype(str) + \"-\" + df[\"make\"] + \"-\" + df[\"model\"]\n",
    "temp_df.head()"
   ]
  },
  {
   "cell_type": "markdown",
   "id": "ad62e9ce-8d9f-4294-9c11-2e230dfb24ac",
   "metadata": {},
   "source": [
    "##### Count fuel_type occurrence"
   ]
  },
  {
   "cell_type": "code",
   "execution_count": 120,
   "id": "3cff1cd3-e229-4c56-a6fa-2ab193aa6474",
   "metadata": {},
   "outputs": [
    {
     "data": {
      "text/html": [
       "<div>\n",
       "<style scoped>\n",
       "    .dataframe tbody tr th:only-of-type {\n",
       "        vertical-align: middle;\n",
       "    }\n",
       "\n",
       "    .dataframe tbody tr th {\n",
       "        vertical-align: top;\n",
       "    }\n",
       "\n",
       "    .dataframe thead th {\n",
       "        text-align: right;\n",
       "    }\n",
       "</style>\n",
       "<table border=\"1\" class=\"dataframe\">\n",
       "  <thead>\n",
       "    <tr style=\"text-align: right;\">\n",
       "      <th>fuel_type</th>\n",
       "      <th>Biodiesel</th>\n",
       "      <th>Compressed Natural Gas</th>\n",
       "      <th>Compressed Natural Gas / Lpg</th>\n",
       "      <th>Compressed Natural Gas / Unleaded</th>\n",
       "      <th>Compressed Natural Gas; Unleaded</th>\n",
       "      <th>Diesel</th>\n",
       "      <th>Diesel / Premium Unleaded</th>\n",
       "      <th>Diesel; E85 / Unleaded</th>\n",
       "      <th>Diesel; Unleaded</th>\n",
       "      <th>E85</th>\n",
       "      <th>...</th>\n",
       "      <th>Premium Unleaded / E85</th>\n",
       "      <th>Premium Unleaded / Unleaded</th>\n",
       "      <th>Premium Unleaded; Premium Unleaded / E85</th>\n",
       "      <th>Premium Unleaded; Unleaded</th>\n",
       "      <th>Unleaded</th>\n",
       "      <th>Unleaded / E85</th>\n",
       "      <th>Unleaded / Electric</th>\n",
       "      <th>Unleaded / Premium Unleaded</th>\n",
       "      <th>Unleaded / Unleaded</th>\n",
       "      <th>Unleaded; Unleaded / E85</th>\n",
       "    </tr>\n",
       "    <tr>\n",
       "      <th>year-make-model</th>\n",
       "      <th></th>\n",
       "      <th></th>\n",
       "      <th></th>\n",
       "      <th></th>\n",
       "      <th></th>\n",
       "      <th></th>\n",
       "      <th></th>\n",
       "      <th></th>\n",
       "      <th></th>\n",
       "      <th></th>\n",
       "      <th></th>\n",
       "      <th></th>\n",
       "      <th></th>\n",
       "      <th></th>\n",
       "      <th></th>\n",
       "      <th></th>\n",
       "      <th></th>\n",
       "      <th></th>\n",
       "      <th></th>\n",
       "      <th></th>\n",
       "      <th></th>\n",
       "    </tr>\n",
       "  </thead>\n",
       "  <tbody>\n",
       "    <tr>\n",
       "      <th>2022-MINI-Cooper</th>\n",
       "      <td>0.0</td>\n",
       "      <td>0.0</td>\n",
       "      <td>0.0</td>\n",
       "      <td>0.0</td>\n",
       "      <td>0.0</td>\n",
       "      <td>0.0</td>\n",
       "      <td>0.0</td>\n",
       "      <td>0.0</td>\n",
       "      <td>0.0</td>\n",
       "      <td>0.0</td>\n",
       "      <td>...</td>\n",
       "      <td>0.0</td>\n",
       "      <td>0.0</td>\n",
       "      <td>0.0</td>\n",
       "      <td>0.0</td>\n",
       "      <td>0.0</td>\n",
       "      <td>0.0</td>\n",
       "      <td>0.0</td>\n",
       "      <td>0.0</td>\n",
       "      <td>0.0</td>\n",
       "      <td>0.0</td>\n",
       "    </tr>\n",
       "    <tr>\n",
       "      <th>2022-MINI-Countryman</th>\n",
       "      <td>0.0</td>\n",
       "      <td>0.0</td>\n",
       "      <td>0.0</td>\n",
       "      <td>0.0</td>\n",
       "      <td>0.0</td>\n",
       "      <td>0.0</td>\n",
       "      <td>0.0</td>\n",
       "      <td>0.0</td>\n",
       "      <td>0.0</td>\n",
       "      <td>0.0</td>\n",
       "      <td>...</td>\n",
       "      <td>0.0</td>\n",
       "      <td>0.0</td>\n",
       "      <td>0.0</td>\n",
       "      <td>0.0</td>\n",
       "      <td>0.0</td>\n",
       "      <td>0.0</td>\n",
       "      <td>0.0</td>\n",
       "      <td>0.0</td>\n",
       "      <td>0.0</td>\n",
       "      <td>0.0</td>\n",
       "    </tr>\n",
       "    <tr>\n",
       "      <th>2022-MINI-Hardtop 4 Door</th>\n",
       "      <td>0.0</td>\n",
       "      <td>0.0</td>\n",
       "      <td>0.0</td>\n",
       "      <td>0.0</td>\n",
       "      <td>0.0</td>\n",
       "      <td>0.0</td>\n",
       "      <td>0.0</td>\n",
       "      <td>0.0</td>\n",
       "      <td>0.0</td>\n",
       "      <td>0.0</td>\n",
       "      <td>...</td>\n",
       "      <td>0.0</td>\n",
       "      <td>0.0</td>\n",
       "      <td>0.0</td>\n",
       "      <td>0.0</td>\n",
       "      <td>0.0</td>\n",
       "      <td>0.0</td>\n",
       "      <td>0.0</td>\n",
       "      <td>0.0</td>\n",
       "      <td>0.0</td>\n",
       "      <td>0.0</td>\n",
       "    </tr>\n",
       "    <tr>\n",
       "      <th>2022-Mitsubishi-Eclipse Cross</th>\n",
       "      <td>0.0</td>\n",
       "      <td>0.0</td>\n",
       "      <td>0.0</td>\n",
       "      <td>0.0</td>\n",
       "      <td>0.0</td>\n",
       "      <td>0.0</td>\n",
       "      <td>0.0</td>\n",
       "      <td>0.0</td>\n",
       "      <td>0.0</td>\n",
       "      <td>0.0</td>\n",
       "      <td>...</td>\n",
       "      <td>0.0</td>\n",
       "      <td>0.0</td>\n",
       "      <td>0.0</td>\n",
       "      <td>0.0</td>\n",
       "      <td>8.0</td>\n",
       "      <td>0.0</td>\n",
       "      <td>0.0</td>\n",
       "      <td>0.0</td>\n",
       "      <td>0.0</td>\n",
       "      <td>0.0</td>\n",
       "    </tr>\n",
       "    <tr>\n",
       "      <th>2022-Mitsubishi-Outlander</th>\n",
       "      <td>0.0</td>\n",
       "      <td>0.0</td>\n",
       "      <td>0.0</td>\n",
       "      <td>0.0</td>\n",
       "      <td>0.0</td>\n",
       "      <td>0.0</td>\n",
       "      <td>0.0</td>\n",
       "      <td>0.0</td>\n",
       "      <td>0.0</td>\n",
       "      <td>0.0</td>\n",
       "      <td>...</td>\n",
       "      <td>0.0</td>\n",
       "      <td>0.0</td>\n",
       "      <td>0.0</td>\n",
       "      <td>0.0</td>\n",
       "      <td>7.0</td>\n",
       "      <td>0.0</td>\n",
       "      <td>0.0</td>\n",
       "      <td>0.0</td>\n",
       "      <td>0.0</td>\n",
       "      <td>0.0</td>\n",
       "    </tr>\n",
       "  </tbody>\n",
       "</table>\n",
       "<p>5 rows × 38 columns</p>\n",
       "</div>"
      ],
      "text/plain": [
       "fuel_type                      Biodiesel  Compressed Natural Gas  \\\n",
       "year-make-model                                                    \n",
       "2022-MINI-Cooper                     0.0                     0.0   \n",
       "2022-MINI-Countryman                 0.0                     0.0   \n",
       "2022-MINI-Hardtop 4 Door             0.0                     0.0   \n",
       "2022-Mitsubishi-Eclipse Cross        0.0                     0.0   \n",
       "2022-Mitsubishi-Outlander            0.0                     0.0   \n",
       "\n",
       "fuel_type                      Compressed Natural Gas / Lpg  \\\n",
       "year-make-model                                               \n",
       "2022-MINI-Cooper                                        0.0   \n",
       "2022-MINI-Countryman                                    0.0   \n",
       "2022-MINI-Hardtop 4 Door                                0.0   \n",
       "2022-Mitsubishi-Eclipse Cross                           0.0   \n",
       "2022-Mitsubishi-Outlander                               0.0   \n",
       "\n",
       "fuel_type                      Compressed Natural Gas / Unleaded  \\\n",
       "year-make-model                                                    \n",
       "2022-MINI-Cooper                                             0.0   \n",
       "2022-MINI-Countryman                                         0.0   \n",
       "2022-MINI-Hardtop 4 Door                                     0.0   \n",
       "2022-Mitsubishi-Eclipse Cross                                0.0   \n",
       "2022-Mitsubishi-Outlander                                    0.0   \n",
       "\n",
       "fuel_type                      Compressed Natural Gas; Unleaded  Diesel  \\\n",
       "year-make-model                                                           \n",
       "2022-MINI-Cooper                                            0.0     0.0   \n",
       "2022-MINI-Countryman                                        0.0     0.0   \n",
       "2022-MINI-Hardtop 4 Door                                    0.0     0.0   \n",
       "2022-Mitsubishi-Eclipse Cross                               0.0     0.0   \n",
       "2022-Mitsubishi-Outlander                                   0.0     0.0   \n",
       "\n",
       "fuel_type                      Diesel / Premium Unleaded  \\\n",
       "year-make-model                                            \n",
       "2022-MINI-Cooper                                     0.0   \n",
       "2022-MINI-Countryman                                 0.0   \n",
       "2022-MINI-Hardtop 4 Door                             0.0   \n",
       "2022-Mitsubishi-Eclipse Cross                        0.0   \n",
       "2022-Mitsubishi-Outlander                            0.0   \n",
       "\n",
       "fuel_type                      Diesel; E85 / Unleaded  Diesel; Unleaded  E85  \\\n",
       "year-make-model                                                                \n",
       "2022-MINI-Cooper                                  0.0               0.0  0.0   \n",
       "2022-MINI-Countryman                              0.0               0.0  0.0   \n",
       "2022-MINI-Hardtop 4 Door                          0.0               0.0  0.0   \n",
       "2022-Mitsubishi-Eclipse Cross                     0.0               0.0  0.0   \n",
       "2022-Mitsubishi-Outlander                         0.0               0.0  0.0   \n",
       "\n",
       "fuel_type                      ...  Premium Unleaded / E85  \\\n",
       "year-make-model                ...                           \n",
       "2022-MINI-Cooper               ...                     0.0   \n",
       "2022-MINI-Countryman           ...                     0.0   \n",
       "2022-MINI-Hardtop 4 Door       ...                     0.0   \n",
       "2022-Mitsubishi-Eclipse Cross  ...                     0.0   \n",
       "2022-Mitsubishi-Outlander      ...                     0.0   \n",
       "\n",
       "fuel_type                      Premium Unleaded / Unleaded  \\\n",
       "year-make-model                                              \n",
       "2022-MINI-Cooper                                       0.0   \n",
       "2022-MINI-Countryman                                   0.0   \n",
       "2022-MINI-Hardtop 4 Door                               0.0   \n",
       "2022-Mitsubishi-Eclipse Cross                          0.0   \n",
       "2022-Mitsubishi-Outlander                              0.0   \n",
       "\n",
       "fuel_type                      Premium Unleaded; Premium Unleaded / E85  \\\n",
       "year-make-model                                                           \n",
       "2022-MINI-Cooper                                                    0.0   \n",
       "2022-MINI-Countryman                                                0.0   \n",
       "2022-MINI-Hardtop 4 Door                                            0.0   \n",
       "2022-Mitsubishi-Eclipse Cross                                       0.0   \n",
       "2022-Mitsubishi-Outlander                                           0.0   \n",
       "\n",
       "fuel_type                      Premium Unleaded; Unleaded  Unleaded  \\\n",
       "year-make-model                                                       \n",
       "2022-MINI-Cooper                                      0.0       0.0   \n",
       "2022-MINI-Countryman                                  0.0       0.0   \n",
       "2022-MINI-Hardtop 4 Door                              0.0       0.0   \n",
       "2022-Mitsubishi-Eclipse Cross                         0.0       8.0   \n",
       "2022-Mitsubishi-Outlander                             0.0       7.0   \n",
       "\n",
       "fuel_type                      Unleaded / E85  Unleaded / Electric  \\\n",
       "year-make-model                                                      \n",
       "2022-MINI-Cooper                          0.0                  0.0   \n",
       "2022-MINI-Countryman                      0.0                  0.0   \n",
       "2022-MINI-Hardtop 4 Door                  0.0                  0.0   \n",
       "2022-Mitsubishi-Eclipse Cross             0.0                  0.0   \n",
       "2022-Mitsubishi-Outlander                 0.0                  0.0   \n",
       "\n",
       "fuel_type                      Unleaded / Premium Unleaded  \\\n",
       "year-make-model                                              \n",
       "2022-MINI-Cooper                                       0.0   \n",
       "2022-MINI-Countryman                                   0.0   \n",
       "2022-MINI-Hardtop 4 Door                               0.0   \n",
       "2022-Mitsubishi-Eclipse Cross                          0.0   \n",
       "2022-Mitsubishi-Outlander                              0.0   \n",
       "\n",
       "fuel_type                      Unleaded / Unleaded  Unleaded; Unleaded / E85  \n",
       "year-make-model                                                               \n",
       "2022-MINI-Cooper                               0.0                       0.0  \n",
       "2022-MINI-Countryman                           0.0                       0.0  \n",
       "2022-MINI-Hardtop 4 Door                       0.0                       0.0  \n",
       "2022-Mitsubishi-Eclipse Cross                  0.0                       0.0  \n",
       "2022-Mitsubishi-Outlander                      0.0                       0.0  \n",
       "\n",
       "[5 rows x 38 columns]"
      ]
     },
     "execution_count": 120,
     "metadata": {},
     "output_type": "execute_result"
    }
   ],
   "source": [
    "# Count how the occurrence of `fuel_type` for each `year-make-model` combination\n",
    "year_make_model_fuel_type_count = \\\n",
    "    temp_df\\\n",
    "    .groupby([\"year-make-model\",\"fuel_type\"])[\"fuel_type\"]\\\n",
    "    .count()\\\n",
    "    .unstack()\\\n",
    "    .fillna(0)\\\n",
    "    .reset_index(drop = False)\\\n",
    "    .set_index(keys = [\"year-make-model\"])\n",
    "year_make_model_fuel_type_count.tail()"
   ]
  },
  {
   "cell_type": "markdown",
   "id": "e00b5e3d-b937-410a-bb1f-2be00c92e236",
   "metadata": {},
   "source": [
    "##### Convert into probability by normalization"
   ]
  },
  {
   "cell_type": "code",
   "execution_count": 121,
   "id": "ccd3da84-6d26-4ad8-82f2-b1637c0cfda9",
   "metadata": {
    "scrolled": true,
    "tags": []
   },
   "outputs": [],
   "source": [
    "# Get the normalized version for the probability\n",
    "year_make_model_fuel_type_prob = \\\n",
    "    year_make_model_fuel_type_count.div(year_make_model_fuel_type_count.sum(axis=1), axis=0)\n",
    "year_make_model_fuel_type_prob = year_make_model_fuel_type_prob.T.to_dict()"
   ]
  },
  {
   "cell_type": "markdown",
   "id": "7af45784-c886-450b-9714-3f18397cb140",
   "metadata": {},
   "source": [
    "##### Group the `make` and `model` as one column"
   ]
  },
  {
   "cell_type": "code",
   "execution_count": 122,
   "id": "4cc7aaec-dd87-44ee-b5ee-0a28fc77fdab",
   "metadata": {},
   "outputs": [
    {
     "name": "stderr",
     "output_type": "stream",
     "text": [
      "/var/folders/zh/ycxy1lsx5sx0g_2n4l8hfvph0000gn/T/ipykernel_12304/1058010225.py:2: SettingWithCopyWarning: \n",
      "A value is trying to be set on a copy of a slice from a DataFrame.\n",
      "Try using .loc[row_indexer,col_indexer] = value instead\n",
      "\n",
      "See the caveats in the documentation: https://pandas.pydata.org/pandas-docs/stable/user_guide/indexing.html#returning-a-view-versus-a-copy\n",
      "  temp_df[\"make-model\"] = df[\"make\"] + \"-\" + df[\"model\"]\n"
     ]
    },
    {
     "data": {
      "text/html": [
       "<div>\n",
       "<style scoped>\n",
       "    .dataframe tbody tr th:only-of-type {\n",
       "        vertical-align: middle;\n",
       "    }\n",
       "\n",
       "    .dataframe tbody tr th {\n",
       "        vertical-align: top;\n",
       "    }\n",
       "\n",
       "    .dataframe thead th {\n",
       "        text-align: right;\n",
       "    }\n",
       "</style>\n",
       "<table border=\"1\" class=\"dataframe\">\n",
       "  <thead>\n",
       "    <tr style=\"text-align: right;\">\n",
       "      <th></th>\n",
       "      <th>year</th>\n",
       "      <th>make</th>\n",
       "      <th>model</th>\n",
       "      <th>fuel_type</th>\n",
       "      <th>year-make-model</th>\n",
       "      <th>make-model</th>\n",
       "    </tr>\n",
       "  </thead>\n",
       "  <tbody>\n",
       "    <tr>\n",
       "      <th>0</th>\n",
       "      <td>2017.0</td>\n",
       "      <td>Acura</td>\n",
       "      <td>NSX</td>\n",
       "      <td>Electric / Premium Unleaded</td>\n",
       "      <td>2017-Acura-NSX</td>\n",
       "      <td>Acura-NSX</td>\n",
       "    </tr>\n",
       "    <tr>\n",
       "      <th>1</th>\n",
       "      <td>2017.0</td>\n",
       "      <td>Acura</td>\n",
       "      <td>NSX</td>\n",
       "      <td>Electric / Premium Unleaded</td>\n",
       "      <td>2017-Acura-NSX</td>\n",
       "      <td>Acura-NSX</td>\n",
       "    </tr>\n",
       "    <tr>\n",
       "      <th>2</th>\n",
       "      <td>2017.0</td>\n",
       "      <td>Acura</td>\n",
       "      <td>NSX</td>\n",
       "      <td>Electric / Premium Unleaded</td>\n",
       "      <td>2017-Acura-NSX</td>\n",
       "      <td>Acura-NSX</td>\n",
       "    </tr>\n",
       "    <tr>\n",
       "      <th>3</th>\n",
       "      <td>2020.0</td>\n",
       "      <td>Acura</td>\n",
       "      <td>NSX</td>\n",
       "      <td>Electric / Premium Unleaded</td>\n",
       "      <td>2020-Acura-NSX</td>\n",
       "      <td>Acura-NSX</td>\n",
       "    </tr>\n",
       "    <tr>\n",
       "      <th>4</th>\n",
       "      <td>2020.0</td>\n",
       "      <td>Acura</td>\n",
       "      <td>NSX</td>\n",
       "      <td>Electric / Premium Unleaded</td>\n",
       "      <td>2020-Acura-NSX</td>\n",
       "      <td>Acura-NSX</td>\n",
       "    </tr>\n",
       "  </tbody>\n",
       "</table>\n",
       "</div>"
      ],
      "text/plain": [
       "     year   make model                    fuel_type year-make-model make-model\n",
       "0  2017.0  Acura   NSX  Electric / Premium Unleaded  2017-Acura-NSX  Acura-NSX\n",
       "1  2017.0  Acura   NSX  Electric / Premium Unleaded  2017-Acura-NSX  Acura-NSX\n",
       "2  2017.0  Acura   NSX  Electric / Premium Unleaded  2017-Acura-NSX  Acura-NSX\n",
       "3  2020.0  Acura   NSX  Electric / Premium Unleaded  2020-Acura-NSX  Acura-NSX\n",
       "4  2020.0  Acura   NSX  Electric / Premium Unleaded  2020-Acura-NSX  Acura-NSX"
      ]
     },
     "execution_count": 122,
     "metadata": {},
     "output_type": "execute_result"
    }
   ],
   "source": [
    "# Create columns that aggregate the  `make` and `model`\n",
    "temp_df[\"make-model\"] = df[\"make\"] + \"-\" + df[\"model\"]\n",
    "temp_df.head()"
   ]
  },
  {
   "cell_type": "markdown",
   "id": "1fad1153-d8ef-4328-bc16-c270f131e5f5",
   "metadata": {},
   "source": [
    "##### Count transmission occurrence"
   ]
  },
  {
   "cell_type": "code",
   "execution_count": 123,
   "id": "adb2acad-5d8a-4221-af33-921435447e1f",
   "metadata": {},
   "outputs": [
    {
     "data": {
      "text/html": [
       "<div>\n",
       "<style scoped>\n",
       "    .dataframe tbody tr th:only-of-type {\n",
       "        vertical-align: middle;\n",
       "    }\n",
       "\n",
       "    .dataframe tbody tr th {\n",
       "        vertical-align: top;\n",
       "    }\n",
       "\n",
       "    .dataframe thead th {\n",
       "        text-align: right;\n",
       "    }\n",
       "</style>\n",
       "<table border=\"1\" class=\"dataframe\">\n",
       "  <thead>\n",
       "    <tr style=\"text-align: right;\">\n",
       "      <th>fuel_type</th>\n",
       "      <th>Biodiesel</th>\n",
       "      <th>Compressed Natural Gas</th>\n",
       "      <th>Compressed Natural Gas / Lpg</th>\n",
       "      <th>Compressed Natural Gas / Unleaded</th>\n",
       "      <th>Compressed Natural Gas; Unleaded</th>\n",
       "      <th>Diesel</th>\n",
       "      <th>Diesel / Premium Unleaded</th>\n",
       "      <th>Diesel; E85 / Unleaded</th>\n",
       "      <th>Diesel; Unleaded</th>\n",
       "      <th>E85</th>\n",
       "      <th>...</th>\n",
       "      <th>Premium Unleaded / E85</th>\n",
       "      <th>Premium Unleaded / Unleaded</th>\n",
       "      <th>Premium Unleaded; Premium Unleaded / E85</th>\n",
       "      <th>Premium Unleaded; Unleaded</th>\n",
       "      <th>Unleaded</th>\n",
       "      <th>Unleaded / E85</th>\n",
       "      <th>Unleaded / Electric</th>\n",
       "      <th>Unleaded / Premium Unleaded</th>\n",
       "      <th>Unleaded / Unleaded</th>\n",
       "      <th>Unleaded; Unleaded / E85</th>\n",
       "    </tr>\n",
       "    <tr>\n",
       "      <th>make-model</th>\n",
       "      <th></th>\n",
       "      <th></th>\n",
       "      <th></th>\n",
       "      <th></th>\n",
       "      <th></th>\n",
       "      <th></th>\n",
       "      <th></th>\n",
       "      <th></th>\n",
       "      <th></th>\n",
       "      <th></th>\n",
       "      <th></th>\n",
       "      <th></th>\n",
       "      <th></th>\n",
       "      <th></th>\n",
       "      <th></th>\n",
       "      <th></th>\n",
       "      <th></th>\n",
       "      <th></th>\n",
       "      <th></th>\n",
       "      <th></th>\n",
       "      <th></th>\n",
       "    </tr>\n",
       "  </thead>\n",
       "  <tbody>\n",
       "    <tr>\n",
       "      <th>Volvo-XC40</th>\n",
       "      <td>0.0</td>\n",
       "      <td>0.0</td>\n",
       "      <td>0.0</td>\n",
       "      <td>0.0</td>\n",
       "      <td>0.0</td>\n",
       "      <td>0.0</td>\n",
       "      <td>0.0</td>\n",
       "      <td>0.0</td>\n",
       "      <td>0.0</td>\n",
       "      <td>0.0</td>\n",
       "      <td>...</td>\n",
       "      <td>0.0</td>\n",
       "      <td>0.0</td>\n",
       "      <td>0.0</td>\n",
       "      <td>0.0</td>\n",
       "      <td>0.0</td>\n",
       "      <td>0.0</td>\n",
       "      <td>0.0</td>\n",
       "      <td>0.0</td>\n",
       "      <td>0.0</td>\n",
       "      <td>0.0</td>\n",
       "    </tr>\n",
       "    <tr>\n",
       "      <th>Volvo-XC60</th>\n",
       "      <td>0.0</td>\n",
       "      <td>0.0</td>\n",
       "      <td>0.0</td>\n",
       "      <td>0.0</td>\n",
       "      <td>0.0</td>\n",
       "      <td>0.0</td>\n",
       "      <td>0.0</td>\n",
       "      <td>0.0</td>\n",
       "      <td>0.0</td>\n",
       "      <td>0.0</td>\n",
       "      <td>...</td>\n",
       "      <td>0.0</td>\n",
       "      <td>0.0</td>\n",
       "      <td>0.0</td>\n",
       "      <td>0.0</td>\n",
       "      <td>2632.0</td>\n",
       "      <td>0.0</td>\n",
       "      <td>0.0</td>\n",
       "      <td>0.0</td>\n",
       "      <td>0.0</td>\n",
       "      <td>0.0</td>\n",
       "    </tr>\n",
       "    <tr>\n",
       "      <th>Volvo-XC70</th>\n",
       "      <td>0.0</td>\n",
       "      <td>0.0</td>\n",
       "      <td>0.0</td>\n",
       "      <td>0.0</td>\n",
       "      <td>0.0</td>\n",
       "      <td>0.0</td>\n",
       "      <td>0.0</td>\n",
       "      <td>0.0</td>\n",
       "      <td>0.0</td>\n",
       "      <td>0.0</td>\n",
       "      <td>...</td>\n",
       "      <td>0.0</td>\n",
       "      <td>0.0</td>\n",
       "      <td>0.0</td>\n",
       "      <td>0.0</td>\n",
       "      <td>294.0</td>\n",
       "      <td>0.0</td>\n",
       "      <td>0.0</td>\n",
       "      <td>0.0</td>\n",
       "      <td>0.0</td>\n",
       "      <td>0.0</td>\n",
       "    </tr>\n",
       "    <tr>\n",
       "      <th>Volvo-XC90</th>\n",
       "      <td>0.0</td>\n",
       "      <td>0.0</td>\n",
       "      <td>0.0</td>\n",
       "      <td>0.0</td>\n",
       "      <td>0.0</td>\n",
       "      <td>0.0</td>\n",
       "      <td>0.0</td>\n",
       "      <td>0.0</td>\n",
       "      <td>0.0</td>\n",
       "      <td>0.0</td>\n",
       "      <td>...</td>\n",
       "      <td>0.0</td>\n",
       "      <td>0.0</td>\n",
       "      <td>0.0</td>\n",
       "      <td>0.0</td>\n",
       "      <td>0.0</td>\n",
       "      <td>0.0</td>\n",
       "      <td>0.0</td>\n",
       "      <td>0.0</td>\n",
       "      <td>0.0</td>\n",
       "      <td>0.0</td>\n",
       "    </tr>\n",
       "    <tr>\n",
       "      <th>smart-fortwo</th>\n",
       "      <td>0.0</td>\n",
       "      <td>0.0</td>\n",
       "      <td>0.0</td>\n",
       "      <td>0.0</td>\n",
       "      <td>0.0</td>\n",
       "      <td>0.0</td>\n",
       "      <td>0.0</td>\n",
       "      <td>0.0</td>\n",
       "      <td>0.0</td>\n",
       "      <td>0.0</td>\n",
       "      <td>...</td>\n",
       "      <td>0.0</td>\n",
       "      <td>0.0</td>\n",
       "      <td>0.0</td>\n",
       "      <td>0.0</td>\n",
       "      <td>0.0</td>\n",
       "      <td>0.0</td>\n",
       "      <td>0.0</td>\n",
       "      <td>0.0</td>\n",
       "      <td>0.0</td>\n",
       "      <td>0.0</td>\n",
       "    </tr>\n",
       "  </tbody>\n",
       "</table>\n",
       "<p>5 rows × 38 columns</p>\n",
       "</div>"
      ],
      "text/plain": [
       "fuel_type     Biodiesel  Compressed Natural Gas  Compressed Natural Gas / Lpg  \\\n",
       "make-model                                                                      \n",
       "Volvo-XC40          0.0                     0.0                           0.0   \n",
       "Volvo-XC60          0.0                     0.0                           0.0   \n",
       "Volvo-XC70          0.0                     0.0                           0.0   \n",
       "Volvo-XC90          0.0                     0.0                           0.0   \n",
       "smart-fortwo        0.0                     0.0                           0.0   \n",
       "\n",
       "fuel_type     Compressed Natural Gas / Unleaded  \\\n",
       "make-model                                        \n",
       "Volvo-XC40                                  0.0   \n",
       "Volvo-XC60                                  0.0   \n",
       "Volvo-XC70                                  0.0   \n",
       "Volvo-XC90                                  0.0   \n",
       "smart-fortwo                                0.0   \n",
       "\n",
       "fuel_type     Compressed Natural Gas; Unleaded  Diesel  \\\n",
       "make-model                                               \n",
       "Volvo-XC40                                 0.0     0.0   \n",
       "Volvo-XC60                                 0.0     0.0   \n",
       "Volvo-XC70                                 0.0     0.0   \n",
       "Volvo-XC90                                 0.0     0.0   \n",
       "smart-fortwo                               0.0     0.0   \n",
       "\n",
       "fuel_type     Diesel / Premium Unleaded  Diesel; E85 / Unleaded  \\\n",
       "make-model                                                        \n",
       "Volvo-XC40                          0.0                     0.0   \n",
       "Volvo-XC60                          0.0                     0.0   \n",
       "Volvo-XC70                          0.0                     0.0   \n",
       "Volvo-XC90                          0.0                     0.0   \n",
       "smart-fortwo                        0.0                     0.0   \n",
       "\n",
       "fuel_type     Diesel; Unleaded  E85  ...  Premium Unleaded / E85  \\\n",
       "make-model                           ...                           \n",
       "Volvo-XC40                 0.0  0.0  ...                     0.0   \n",
       "Volvo-XC60                 0.0  0.0  ...                     0.0   \n",
       "Volvo-XC70                 0.0  0.0  ...                     0.0   \n",
       "Volvo-XC90                 0.0  0.0  ...                     0.0   \n",
       "smart-fortwo               0.0  0.0  ...                     0.0   \n",
       "\n",
       "fuel_type     Premium Unleaded / Unleaded  \\\n",
       "make-model                                  \n",
       "Volvo-XC40                            0.0   \n",
       "Volvo-XC60                            0.0   \n",
       "Volvo-XC70                            0.0   \n",
       "Volvo-XC90                            0.0   \n",
       "smart-fortwo                          0.0   \n",
       "\n",
       "fuel_type     Premium Unleaded; Premium Unleaded / E85  \\\n",
       "make-model                                               \n",
       "Volvo-XC40                                         0.0   \n",
       "Volvo-XC60                                         0.0   \n",
       "Volvo-XC70                                         0.0   \n",
       "Volvo-XC90                                         0.0   \n",
       "smart-fortwo                                       0.0   \n",
       "\n",
       "fuel_type     Premium Unleaded; Unleaded  Unleaded  Unleaded / E85  \\\n",
       "make-model                                                           \n",
       "Volvo-XC40                           0.0       0.0             0.0   \n",
       "Volvo-XC60                           0.0    2632.0             0.0   \n",
       "Volvo-XC70                           0.0     294.0             0.0   \n",
       "Volvo-XC90                           0.0       0.0             0.0   \n",
       "smart-fortwo                         0.0       0.0             0.0   \n",
       "\n",
       "fuel_type     Unleaded / Electric  Unleaded / Premium Unleaded  \\\n",
       "make-model                                                       \n",
       "Volvo-XC40                    0.0                          0.0   \n",
       "Volvo-XC60                    0.0                          0.0   \n",
       "Volvo-XC70                    0.0                          0.0   \n",
       "Volvo-XC90                    0.0                          0.0   \n",
       "smart-fortwo                  0.0                          0.0   \n",
       "\n",
       "fuel_type     Unleaded / Unleaded  Unleaded; Unleaded / E85  \n",
       "make-model                                                   \n",
       "Volvo-XC40                    0.0                       0.0  \n",
       "Volvo-XC60                    0.0                       0.0  \n",
       "Volvo-XC70                    0.0                       0.0  \n",
       "Volvo-XC90                    0.0                       0.0  \n",
       "smart-fortwo                  0.0                       0.0  \n",
       "\n",
       "[5 rows x 38 columns]"
      ]
     },
     "execution_count": 123,
     "metadata": {},
     "output_type": "execute_result"
    }
   ],
   "source": [
    "# Count how the occurrence of `fuel_type` for each `make-model` combination\n",
    "make_model_fuel_type_count = \\\n",
    "    temp_df\\\n",
    "    .groupby([\"make-model\",\"fuel_type\"])[\"fuel_type\"]\\\n",
    "    .count()\\\n",
    "    .unstack()\\\n",
    "    .fillna(0)\\\n",
    "    .reset_index(drop = False)\\\n",
    "    .set_index(keys = [\"make-model\"])\n",
    "make_model_fuel_type_count.tail()"
   ]
  },
  {
   "cell_type": "markdown",
   "id": "78bb46cf-efc1-4079-b76a-9b816ce5580e",
   "metadata": {},
   "source": [
    "##### Convert into probability by normalization"
   ]
  },
  {
   "cell_type": "code",
   "execution_count": 124,
   "id": "012b4816-c51a-4549-ac1a-ca1e0dabced5",
   "metadata": {
    "scrolled": true,
    "tags": []
   },
   "outputs": [],
   "source": [
    "# Get the normalized version for the probability\n",
    "make_model_fuel_type_prob = \\\n",
    "    make_model_fuel_type_count.div(make_model_fuel_type_count.sum(axis=1), axis=0)\n",
    "make_model_fuel_type_prob = make_model_fuel_type_prob.T.to_dict()"
   ]
  },
  {
   "cell_type": "markdown",
   "id": "7a848996-b319-4aad-a2c3-2d437b80aa42",
   "metadata": {},
   "source": [
    "##### Count transmission occurrence in original df"
   ]
  },
  {
   "cell_type": "code",
   "execution_count": 125,
   "id": "bd347988-b499-403a-be78-71b3d0361150",
   "metadata": {
    "scrolled": true,
    "tags": []
   },
   "outputs": [],
   "source": [
    "# Prepare the probability for random assignment if the combination is not found in both tables above.\n",
    "fuel_type_val_count = df[\"fuel_type\"].value_counts().to_frame()"
   ]
  },
  {
   "cell_type": "markdown",
   "id": "8f92fa03-3ac0-49a8-acb5-21c29a47da55",
   "metadata": {},
   "source": [
    "##### Convert into probability by normalization"
   ]
  },
  {
   "cell_type": "code",
   "execution_count": 126,
   "id": "04330c2e-4da9-4c47-8e0f-a6af2e549be2",
   "metadata": {
    "scrolled": true,
    "tags": []
   },
   "outputs": [],
   "source": [
    "# Prepare the probability for general selection\n",
    "fuel_type_val_prob = fuel_type_val_count.div(fuel_type_val_count.sum(axis=0),axis=1)\n",
    "fuel_type_val_prob = fuel_type_val_prob.to_dict()[\"fuel_type\"]"
   ]
  },
  {
   "cell_type": "markdown",
   "id": "5d7871d2-efc2-49bc-9cfb-162b85fe7b20",
   "metadata": {},
   "source": [
    "#### Fill Null Value"
   ]
  },
  {
   "cell_type": "code",
   "execution_count": 127,
   "id": "f7721896-80d9-49ef-a404-4573e5947575",
   "metadata": {},
   "outputs": [
    {
     "name": "stdout",
     "output_type": "stream",
     "text": [
      "=== Null Count ===\n",
      "Column `fuel_type`: 94693\n"
     ]
    }
   ],
   "source": [
    "# How many null value in this column before fill na\n",
    "print_null_count(df,[\"fuel_type\"])"
   ]
  },
  {
   "cell_type": "code",
   "execution_count": 128,
   "id": "abaeebb4-30f2-4a2d-9b48-23fa7d3eb8ec",
   "metadata": {
    "tags": []
   },
   "outputs": [
    {
     "name": "stdout",
     "output_type": "stream",
     "text": [
      "Filled rows: 5000 / 94693\n",
      "Filled rows: 10000 / 94693\n",
      "Filled rows: 15000 / 94693\n",
      "Filled rows: 20000 / 94693\n",
      "Filled rows: 25000 / 94693\n",
      "Filled rows: 30000 / 94693\n",
      "Filled rows: 35000 / 94693\n",
      "Filled rows: 40000 / 94693\n",
      "Filled rows: 45000 / 94693\n",
      "Filled rows: 50000 / 94693\n",
      "Filled rows: 55000 / 94693\n",
      "Filled rows: 60000 / 94693\n",
      "Filled rows: 65000 / 94693\n",
      "Filled rows: 70000 / 94693\n",
      "Filled rows: 75000 / 94693\n",
      "Filled rows: 80000 / 94693\n",
      "Filled rows: 85000 / 94693\n",
      "Filled rows: 90000 / 94693\n",
      "Filling completed!Filled rows: 94693 / 94693\n",
      "18.1 s ± 0 ns per loop (mean ± std. dev. of 1 run, 1 loop each)\n"
     ]
    }
   ],
   "source": [
    "%%timeit -n 1 -r 1  # time the execution\n",
    "\n",
    "# Fill the NA with the function above\n",
    "fill_na_by_year_make_model(df,\n",
    "                           \"fuel_type\",\n",
    "                           year_make_model_fuel_type_prob,\n",
    "                           make_model_fuel_type_prob,\n",
    "                           fuel_type_val_prob,\n",
    "                           inplace=True)"
   ]
  },
  {
   "cell_type": "markdown",
   "id": "e3674c3b-fc25-4825-855b-0d450bf179a7",
   "metadata": {},
   "source": [
    "##### Double check null value count"
   ]
  },
  {
   "cell_type": "code",
   "execution_count": 129,
   "id": "90dcab56-c184-4156-a26e-1b00fc4b6402",
   "metadata": {},
   "outputs": [
    {
     "name": "stdout",
     "output_type": "stream",
     "text": [
      "=== Null Count ===\n",
      "Column `fuel_type`: 0\n"
     ]
    }
   ],
   "source": [
    "# How many null value in this column after filling NA\n",
    "print_null_count(df,[\"fuel_type\"])"
   ]
  },
  {
   "cell_type": "markdown",
   "id": "8d2d8a6b-8229-4d54-a484-fcfa9c0c24ad",
   "metadata": {},
   "source": [
    "---"
   ]
  },
  {
   "cell_type": "markdown",
   "id": "87c604df-91fe-4882-b496-438053673b33",
   "metadata": {
    "tags": [],
    "toc-hr-collapsed": true
   },
   "source": [
    "<div style=\"border-radius:10px; border:#33a0ff solid; padding: 15px; background-color: #f0f1ff; font-size:100%; text-align:left\">\n",
    "<a class=\"anchor\" id=\"1-col-engine-size\">\n",
    "    <h3> Column: <b><i>engine_size</i></b> </h3>\n",
    "</a>\n",
    "</div>"
   ]
  },
  {
   "cell_type": "markdown",
   "id": "3ba126e2-a7fe-43b2-a068-d1f74993a538",
   "metadata": {
    "tags": []
   },
   "source": [
    "#### Null Value Check"
   ]
  },
  {
   "cell_type": "code",
   "execution_count": 130,
   "id": "317d13cd-afde-4f87-b132-cec94a0d077c",
   "metadata": {},
   "outputs": [
    {
     "name": "stdout",
     "output_type": "stream",
     "text": [
      "=== Null Count ===\n",
      "Column `engine_size`: 143621\n"
     ]
    }
   ],
   "source": [
    "# How many null value in this column\n",
    "print_null_count(df,[\"engine_size\"])"
   ]
  },
  {
   "cell_type": "code",
   "execution_count": 131,
   "id": "382fc8e5-7b2b-4eca-954a-4231b43fbbc5",
   "metadata": {},
   "outputs": [
    {
     "name": "stdout",
     "output_type": "stream",
     "text": [
      "=== Null Count Precentage ===\n",
      "Column engine_size: 2.1103%\n"
     ]
    }
   ],
   "source": [
    "# Precentage of null value in this column\n",
    "print_null_pct(df,[\"engine_size\"])"
   ]
  },
  {
   "cell_type": "markdown",
   "id": "c4f2025f-382d-4cbe-a0ca-7aa94f94b655",
   "metadata": {
    "tags": []
   },
   "source": [
    "#### Question: How to deal with the null values?"
   ]
  },
  {
   "cell_type": "markdown",
   "id": "dc4f433a-3e22-41f8-8d5e-44ec1bba8e11",
   "metadata": {},
   "source": [
    "<div style=\"border-radius:10px; border: #ffd500 solid; padding: 15px; background-color: #ffffcf; font-size:100%; text-align:left\">\n",
    "<font size=\"4px\" color=\"#ffa600\"><b>🧠 Idea:</b></font>\n",
    "\n",
    "- As the null percentage of the column `engine_size` reaches 2.11%, we need to handle them properly.\n",
    "                    \n",
    "<div>"
   ]
  },
  {
   "cell_type": "code",
   "execution_count": 132,
   "id": "36bcd376-187b-41d6-9c62-36159ee104ae",
   "metadata": {},
   "outputs": [
    {
     "data": {
      "text/plain": [
       "2.0     1205810\n",
       "3.5      803577\n",
       "2.5      671567\n",
       "3.6      630941\n",
       "2.4      559952\n",
       "         ...   \n",
       "12.0          3\n",
       "12.8          2\n",
       "0.8           1\n",
       "30.0          1\n",
       "12.1          1\n",
       "Name: engine_size, Length: 74, dtype: int64"
      ]
     },
     "execution_count": 132,
     "metadata": {},
     "output_type": "execute_result"
    }
   ],
   "source": [
    "# Check value_count in the column\n",
    "target_col_val_count = df[\"engine_size\"].value_counts()\n",
    "target_col_val_count"
   ]
  },
  {
   "cell_type": "code",
   "execution_count": 133,
   "id": "9867938f-f88c-424c-a498-9e1a927802ce",
   "metadata": {},
   "outputs": [],
   "source": [
    "# Obtain the mean and median value for plotting\n",
    "engine_size_stats = df[\"engine_size\"].describe()\n",
    "mean = engine_size_stats[\"mean\"]\n",
    "med = engine_size_stats[\"50%\"]"
   ]
  },
  {
   "cell_type": "code",
   "execution_count": 134,
   "id": "c1572378-7e01-4543-9108-837ac318987c",
   "metadata": {},
   "outputs": [
    {
     "data": {
      "image/png": "[encoded data removed]",
      "text/plain": [
       "<Figure size 600x300 with 1 Axes>"
      ]
     },
     "metadata": {},
     "output_type": "display_data"
    }
   ],
   "source": [
    "engine_size_series = df[\"engine_size\"]\n",
    "engine_size_val_count = engine_size_series.value_counts()\n",
    "\n",
    "# Set up plt\n",
    "plt.figure(figsize=(6,3))\n",
    "# Plot\n",
    "plt.bar(engine_size_val_count.index, engine_size_val_count.values)\n",
    "# Plot vertical line for mean and median\n",
    "plt.axvline(mean,color = \"red\",label = \"Mean\")\n",
    "plt.axvline(med,color = \"lightgreen\",label = \"Median\")\n",
    "# Plot Title & Axes\n",
    "plt.title(\"Engine Size Distribution\")\n",
    "plt.xlabel(\"Size\")\n",
    "plt.ylabel(\"Count\")\n",
    "# Show Plot\n",
    "plt.legend()\n",
    "plt.show()"
   ]
  },
  {
   "cell_type": "markdown",
   "id": "89184ec3-583e-4f70-947e-a158fdaf4039",
   "metadata": {},
   "source": [
    "<div style=\"border-radius:10px; border: #ffd500 solid; padding: 15px; background-color: #ffffcf; font-size:100%; text-align:left\">\n",
    "<font size=\"4px\" color=\"#ffa600\"><b>💬 Comment:</b></font>\n",
    "\n",
    "- It seems that there some outlier on the right. Lets plot a box plot.\n",
    "                    \n",
    "<div>"
   ]
  },
  {
   "cell_type": "code",
   "execution_count": 135,
   "id": "4206c002-090e-4927-8d2d-5ed9a04d79f5",
   "metadata": {},
   "outputs": [
    {
     "data": {
      "image/png": "[encoded data removed]",
      "text/plain": [
       "<Figure size 1500x400 with 1 Axes>"
      ]
     },
     "metadata": {},
     "output_type": "display_data"
    }
   ],
   "source": [
    "# Set up plot\n",
    "plt.figure(figsize=(15,4))\n",
    "# Plot\n",
    "box = plt.boxplot(df[\"engine_size\"].dropna(),vert=False)\n",
    "# Plot title & axes\n",
    "plt.title(\"Engine Size Distribution Boxplot\")\n",
    "plt.xlabel(\"Engine Size\")\n",
    "plt.yticks([]) # Remove y axis tick\n",
    "# Show Plot\n",
    "plt.show()"
   ]
  },
  {
   "cell_type": "markdown",
   "id": "0fded9df-0022-460e-9763-beedeaf802dc",
   "metadata": {},
   "source": [
    "<div style=\"border-radius:10px; border: #ffd500 solid; padding: 15px; background-color: #ffffcf; font-size:100%; text-align:left\">\n",
    "<font size=\"4px\" color=\"#ffa600\"><b>💬 Comment:</b></font>\n",
    "\n",
    "- As we can see from the distribution and boxplot above, the data is highly right skewed.\n",
    "- Perhaps we can fill the null value with either the mean or median.\n",
    "- To stay consistency with the column above (i.e. `miles`), we stick with the method of filling na with median.\n",
    "                    \n",
    "<div>"
   ]
  },
  {
   "cell_type": "markdown",
   "id": "5be845e4-d60d-4624-b6da-84234ab78f29",
   "metadata": {},
   "source": [
    "#### Fill Null Value"
   ]
  },
  {
   "cell_type": "code",
   "execution_count": 136,
   "id": "196665c4-84fa-4ec2-86e7-c4ba703db429",
   "metadata": {},
   "outputs": [],
   "source": [
    "# Fill the null value with median\n",
    "df[\"engine_size\"].fillna(med,inplace=True)"
   ]
  },
  {
   "cell_type": "markdown",
   "id": "562efc78-0e92-4c28-8401-78699bf53ef4",
   "metadata": {},
   "source": [
    "##### Double check null value count"
   ]
  },
  {
   "cell_type": "code",
   "execution_count": 137,
   "id": "57a06668-6180-4c38-815b-597d924d9067",
   "metadata": {},
   "outputs": [
    {
     "name": "stdout",
     "output_type": "stream",
     "text": [
      "=== Null Count ===\n",
      "Column `engine_size`: 0\n"
     ]
    }
   ],
   "source": [
    "# Check any null value in `miles` column\n",
    "print_null_count(df,[\"engine_size\"])"
   ]
  },
  {
   "cell_type": "markdown",
   "id": "41a23168-fa90-473f-b5d6-081d932edd12",
   "metadata": {},
   "source": [
    "---"
   ]
  },
  {
   "cell_type": "markdown",
   "id": "a7eb4d9d-0344-4053-9130-5c48b8c66942",
   "metadata": {
    "tags": [],
    "toc-hr-collapsed": true
   },
   "source": [
    "<div style=\"border-radius:10px; border:#33a0ff solid; padding: 15px; background-color: #f0f1ff; font-size:100%; text-align:left\">\n",
    "<a class=\"anchor\" id=\"1-col-engine-block\">\n",
    "    <h3> Column: <b><i>engine_block</i></b> </h3>\n",
    "</a>\n",
    "</div>"
   ]
  },
  {
   "cell_type": "markdown",
   "id": "88332bf5-0db8-497b-9351-4d5f01c6a15e",
   "metadata": {
    "tags": []
   },
   "source": [
    "#### Null Value Check"
   ]
  },
  {
   "cell_type": "code",
   "execution_count": 138,
   "id": "52abff78-0d6d-413b-9904-c58c7738300d",
   "metadata": {},
   "outputs": [
    {
     "name": "stdout",
     "output_type": "stream",
     "text": [
      "=== Null Count ===\n",
      "Column `engine_block`: 146885\n"
     ]
    }
   ],
   "source": [
    "# How many null value in this column\n",
    "print_null_count(df,[\"engine_block\"])"
   ]
  },
  {
   "cell_type": "code",
   "execution_count": 139,
   "id": "1b678a9f-a2cb-4aae-aaae-5e1030d638d8",
   "metadata": {},
   "outputs": [
    {
     "name": "stdout",
     "output_type": "stream",
     "text": [
      "=== Null Count Precentage ===\n",
      "Column engine_block: 2.1582%\n"
     ]
    }
   ],
   "source": [
    "# Precentage of null value in this column\n",
    "print_null_pct(df,[\"engine_block\"])"
   ]
  },
  {
   "cell_type": "markdown",
   "id": "6bc193a8-4893-4eef-b737-a5d631dbee40",
   "metadata": {},
   "source": [
    "<div style=\"border-radius:10px; border: #ffd500 solid; padding: 15px; background-color: #ffffcf; font-size:100%; text-align:left\">\n",
    "<font size=\"4px\" color=\"#ffa600\"><b>💬 Comment:</b></font>\n",
    "\n",
    "- As the null percentage of the column `engine_block` reaches 2.15%, we need to handle them properly.\n",
    "                    \n",
    "<div>"
   ]
  },
  {
   "cell_type": "code",
   "execution_count": 140,
   "id": "615334f6-cdd3-4128-bd20-137b781085c5",
   "metadata": {},
   "outputs": [
    {
     "data": {
      "text/plain": [
       "I    3424870\n",
       "V    3042045\n",
       "H     191996\n",
       "Name: engine_block, dtype: int64"
      ]
     },
     "execution_count": 140,
     "metadata": {},
     "output_type": "execute_result"
    }
   ],
   "source": [
    "# Check value_count in the column\n",
    "target_col_val_count = df[\"engine_block\"].value_counts()\n",
    "target_col_val_count"
   ]
  },
  {
   "cell_type": "code",
   "execution_count": 141,
   "id": "4cee1d1d-515a-4f30-b6cd-883bfbd77ffb",
   "metadata": {},
   "outputs": [
    {
     "name": "stdout",
     "output_type": "stream",
     "text": [
      "There are 3 distinct value in `engine_block` column.\n"
     ]
    }
   ],
   "source": [
    "print(f\"There are {len(target_col_val_count)} distinct value in `engine_block` column.\")"
   ]
  },
  {
   "cell_type": "markdown",
   "id": "b0722f23-78e4-4618-bdf6-71d8ff609a6c",
   "metadata": {
    "tags": [],
    "toc-hr-collapsed": true
   },
   "source": [
    "#### Question: Is it possible to guess the `engine_block` type by the year of the model, the model and the maker of the car and the engine size? "
   ]
  },
  {
   "cell_type": "markdown",
   "id": "24d8c18b-34e1-4f4d-8548-4819b21129b8",
   "metadata": {},
   "source": [
    "<div style=\"border-radius:10px; border: #ffd500 solid; padding: 15px; background-color: #ffffcf; font-size:100%; text-align:left\">\n",
    "<font size=\"4px\" color=\"#ffa600\"><b>🧠 Idea:</b></font>\n",
    "\n",
    "- Similar to `drivetrain` and `transmissionn`, we can apply the same method to `engine_block` type.\n",
    "- The possible guess is that the same car model built by the same maker in the same year should have the same `engine_block` type.\n",
    "- For some car models, they may have different `engine_block`. If that is the case, we can guess their `engine_block` based on the occurrence grouped by the `year`, `make`, `model` and `engine_size`, and then calculate their corresponding probabilities.\n",
    "- Lastly, we randomly selected the `engine_block` type based on their probabilities.\n",
    "                    \n",
    "<div>"
   ]
  },
  {
   "cell_type": "code",
   "execution_count": 142,
   "id": "2b24b36e-bcc2-4e63-97fb-97b775cda611",
   "metadata": {},
   "outputs": [
    {
     "data": {
      "text/html": [
       "<div>\n",
       "<style scoped>\n",
       "    .dataframe tbody tr th:only-of-type {\n",
       "        vertical-align: middle;\n",
       "    }\n",
       "\n",
       "    .dataframe tbody tr th {\n",
       "        vertical-align: top;\n",
       "    }\n",
       "\n",
       "    .dataframe thead th {\n",
       "        text-align: right;\n",
       "    }\n",
       "</style>\n",
       "<table border=\"1\" class=\"dataframe\">\n",
       "  <thead>\n",
       "    <tr style=\"text-align: right;\">\n",
       "      <th></th>\n",
       "      <th>year</th>\n",
       "      <th>make</th>\n",
       "      <th>model</th>\n",
       "      <th>engine_size</th>\n",
       "      <th>engine_block</th>\n",
       "    </tr>\n",
       "  </thead>\n",
       "  <tbody>\n",
       "    <tr>\n",
       "      <th>0</th>\n",
       "      <td>2017.0</td>\n",
       "      <td>Acura</td>\n",
       "      <td>NSX</td>\n",
       "      <td>3.5</td>\n",
       "      <td>V</td>\n",
       "    </tr>\n",
       "    <tr>\n",
       "      <th>1</th>\n",
       "      <td>2017.0</td>\n",
       "      <td>Acura</td>\n",
       "      <td>NSX</td>\n",
       "      <td>3.5</td>\n",
       "      <td>V</td>\n",
       "    </tr>\n",
       "    <tr>\n",
       "      <th>2</th>\n",
       "      <td>2017.0</td>\n",
       "      <td>Acura</td>\n",
       "      <td>NSX</td>\n",
       "      <td>3.5</td>\n",
       "      <td>V</td>\n",
       "    </tr>\n",
       "    <tr>\n",
       "      <th>3</th>\n",
       "      <td>2020.0</td>\n",
       "      <td>Acura</td>\n",
       "      <td>NSX</td>\n",
       "      <td>3.5</td>\n",
       "      <td>V</td>\n",
       "    </tr>\n",
       "    <tr>\n",
       "      <th>4</th>\n",
       "      <td>2020.0</td>\n",
       "      <td>Acura</td>\n",
       "      <td>NSX</td>\n",
       "      <td>3.5</td>\n",
       "      <td>V</td>\n",
       "    </tr>\n",
       "  </tbody>\n",
       "</table>\n",
       "</div>"
      ],
      "text/plain": [
       "     year   make model  engine_size engine_block\n",
       "0  2017.0  Acura   NSX          3.5            V\n",
       "1  2017.0  Acura   NSX          3.5            V\n",
       "2  2017.0  Acura   NSX          3.5            V\n",
       "3  2020.0  Acura   NSX          3.5            V\n",
       "4  2020.0  Acura   NSX          3.5            V"
      ]
     },
     "execution_count": 142,
     "metadata": {},
     "output_type": "execute_result"
    }
   ],
   "source": [
    "# Create a temporary dataframe for this part\n",
    "temp_df = df[[\"year\",\"make\",\"model\",\"engine_size\",\"engine_block\"]]\n",
    "temp_df.head()"
   ]
  },
  {
   "cell_type": "markdown",
   "id": "5f0da42e-025b-444f-a5fc-687c7d36f269",
   "metadata": {},
   "source": [
    "##### Group the `year`, `make`, `model` and `engine_size` as one column"
   ]
  },
  {
   "cell_type": "code",
   "execution_count": 143,
   "id": "f1a2c9ca-4c51-4588-8255-2358b75b5195",
   "metadata": {},
   "outputs": [
    {
     "name": "stderr",
     "output_type": "stream",
     "text": [
      "/var/folders/zh/ycxy1lsx5sx0g_2n4l8hfvph0000gn/T/ipykernel_12304/1918898084.py:5: SettingWithCopyWarning: \n",
      "A value is trying to be set on a copy of a slice from a DataFrame.\n",
      "Try using .loc[row_indexer,col_indexer] = value instead\n",
      "\n",
      "See the caveats in the documentation: https://pandas.pydata.org/pandas-docs/stable/user_guide/indexing.html#returning-a-view-versus-a-copy\n",
      "  temp_df[\"year-make-model-size\"] = df[\"year\"].astype(int).astype(str) + \"-\" + df[\"make\"] + \"-\" + df[\"model\"]+ \"-\" + df[\"engine_size\"].astype(str)\n"
     ]
    },
    {
     "data": {
      "text/html": [
       "<div>\n",
       "<style scoped>\n",
       "    .dataframe tbody tr th:only-of-type {\n",
       "        vertical-align: middle;\n",
       "    }\n",
       "\n",
       "    .dataframe tbody tr th {\n",
       "        vertical-align: top;\n",
       "    }\n",
       "\n",
       "    .dataframe thead th {\n",
       "        text-align: right;\n",
       "    }\n",
       "</style>\n",
       "<table border=\"1\" class=\"dataframe\">\n",
       "  <thead>\n",
       "    <tr style=\"text-align: right;\">\n",
       "      <th></th>\n",
       "      <th>year</th>\n",
       "      <th>make</th>\n",
       "      <th>model</th>\n",
       "      <th>engine_size</th>\n",
       "      <th>engine_block</th>\n",
       "      <th>year-make-model-size</th>\n",
       "    </tr>\n",
       "  </thead>\n",
       "  <tbody>\n",
       "    <tr>\n",
       "      <th>0</th>\n",
       "      <td>2017.0</td>\n",
       "      <td>Acura</td>\n",
       "      <td>NSX</td>\n",
       "      <td>3.5</td>\n",
       "      <td>V</td>\n",
       "      <td>2017-Acura-NSX-3.5</td>\n",
       "    </tr>\n",
       "    <tr>\n",
       "      <th>1</th>\n",
       "      <td>2017.0</td>\n",
       "      <td>Acura</td>\n",
       "      <td>NSX</td>\n",
       "      <td>3.5</td>\n",
       "      <td>V</td>\n",
       "      <td>2017-Acura-NSX-3.5</td>\n",
       "    </tr>\n",
       "    <tr>\n",
       "      <th>2</th>\n",
       "      <td>2017.0</td>\n",
       "      <td>Acura</td>\n",
       "      <td>NSX</td>\n",
       "      <td>3.5</td>\n",
       "      <td>V</td>\n",
       "      <td>2017-Acura-NSX-3.5</td>\n",
       "    </tr>\n",
       "    <tr>\n",
       "      <th>3</th>\n",
       "      <td>2020.0</td>\n",
       "      <td>Acura</td>\n",
       "      <td>NSX</td>\n",
       "      <td>3.5</td>\n",
       "      <td>V</td>\n",
       "      <td>2020-Acura-NSX-3.5</td>\n",
       "    </tr>\n",
       "    <tr>\n",
       "      <th>4</th>\n",
       "      <td>2020.0</td>\n",
       "      <td>Acura</td>\n",
       "      <td>NSX</td>\n",
       "      <td>3.5</td>\n",
       "      <td>V</td>\n",
       "      <td>2020-Acura-NSX-3.5</td>\n",
       "    </tr>\n",
       "  </tbody>\n",
       "</table>\n",
       "</div>"
      ],
      "text/plain": [
       "     year   make model  engine_size engine_block year-make-model-size\n",
       "0  2017.0  Acura   NSX          3.5            V   2017-Acura-NSX-3.5\n",
       "1  2017.0  Acura   NSX          3.5            V   2017-Acura-NSX-3.5\n",
       "2  2017.0  Acura   NSX          3.5            V   2017-Acura-NSX-3.5\n",
       "3  2020.0  Acura   NSX          3.5            V   2020-Acura-NSX-3.5\n",
       "4  2020.0  Acura   NSX          3.5            V   2020-Acura-NSX-3.5"
      ]
     },
     "execution_count": 143,
     "metadata": {},
     "output_type": "execute_result"
    }
   ],
   "source": [
    "# Create columns that aggregate the `year`, `make`, `model` and `engine_size`\n",
    "# Note: \"year\" column is in float format. \n",
    "# `astype(int)` transform the year from float to int\n",
    "# Then, `astype(str)` transform the year from int to str for concatenation \n",
    "temp_df[\"year-make-model-size\"] = df[\"year\"].astype(int).astype(str) + \"-\" + df[\"make\"] + \"-\" + df[\"model\"]+ \"-\" + df[\"engine_size\"].astype(str)\n",
    "temp_df.head()"
   ]
  },
  {
   "cell_type": "markdown",
   "id": "c05da3fc-eabd-454b-9204-3b3f834c41e2",
   "metadata": {},
   "source": [
    "##### Count drivetrain occurrence"
   ]
  },
  {
   "cell_type": "code",
   "execution_count": 144,
   "id": "4ffb408e-9ad2-4fad-9309-073490b4927f",
   "metadata": {},
   "outputs": [
    {
     "data": {
      "text/html": [
       "<div>\n",
       "<style scoped>\n",
       "    .dataframe tbody tr th:only-of-type {\n",
       "        vertical-align: middle;\n",
       "    }\n",
       "\n",
       "    .dataframe tbody tr th {\n",
       "        vertical-align: top;\n",
       "    }\n",
       "\n",
       "    .dataframe thead th {\n",
       "        text-align: right;\n",
       "    }\n",
       "</style>\n",
       "<table border=\"1\" class=\"dataframe\">\n",
       "  <thead>\n",
       "    <tr style=\"text-align: right;\">\n",
       "      <th>engine_block</th>\n",
       "      <th>H</th>\n",
       "      <th>I</th>\n",
       "      <th>V</th>\n",
       "    </tr>\n",
       "    <tr>\n",
       "      <th>year-make-model-size</th>\n",
       "      <th></th>\n",
       "      <th></th>\n",
       "      <th></th>\n",
       "    </tr>\n",
       "  </thead>\n",
       "  <tbody>\n",
       "    <tr>\n",
       "      <th>2022-MINI-Countryman-1.5</th>\n",
       "      <td>0.0</td>\n",
       "      <td>22.0</td>\n",
       "      <td>0.0</td>\n",
       "    </tr>\n",
       "    <tr>\n",
       "      <th>2022-MINI-Hardtop 4 Door-1.5</th>\n",
       "      <td>0.0</td>\n",
       "      <td>48.0</td>\n",
       "      <td>0.0</td>\n",
       "    </tr>\n",
       "    <tr>\n",
       "      <th>2022-MINI-Hardtop 4 Door-2.0</th>\n",
       "      <td>0.0</td>\n",
       "      <td>50.0</td>\n",
       "      <td>0.0</td>\n",
       "    </tr>\n",
       "    <tr>\n",
       "      <th>2022-Mitsubishi-Eclipse Cross-1.5</th>\n",
       "      <td>0.0</td>\n",
       "      <td>8.0</td>\n",
       "      <td>0.0</td>\n",
       "    </tr>\n",
       "    <tr>\n",
       "      <th>2022-Mitsubishi-Outlander-2.5</th>\n",
       "      <td>0.0</td>\n",
       "      <td>7.0</td>\n",
       "      <td>0.0</td>\n",
       "    </tr>\n",
       "  </tbody>\n",
       "</table>\n",
       "</div>"
      ],
      "text/plain": [
       "engine_block                         H     I    V\n",
       "year-make-model-size                             \n",
       "2022-MINI-Countryman-1.5           0.0  22.0  0.0\n",
       "2022-MINI-Hardtop 4 Door-1.5       0.0  48.0  0.0\n",
       "2022-MINI-Hardtop 4 Door-2.0       0.0  50.0  0.0\n",
       "2022-Mitsubishi-Eclipse Cross-1.5  0.0   8.0  0.0\n",
       "2022-Mitsubishi-Outlander-2.5      0.0   7.0  0.0"
      ]
     },
     "execution_count": 144,
     "metadata": {},
     "output_type": "execute_result"
    }
   ],
   "source": [
    "# Count how the occurrence of `engine_block` for each `year-make-model-size` combination\n",
    "year_make_model_size_engine_block_count = \\\n",
    "    temp_df\\\n",
    "    .groupby([\"year-make-model-size\",\"engine_block\"])[\"engine_block\"]\\\n",
    "    .count()\\\n",
    "    .unstack()\\\n",
    "    .fillna(0)\\\n",
    "    .reset_index(drop = False)\\\n",
    "    .set_index(keys = [\"year-make-model-size\"])\n",
    "year_make_model_size_engine_block_count.tail()"
   ]
  },
  {
   "cell_type": "markdown",
   "id": "469848ec-63d4-4dbf-b5b7-164f5b46b739",
   "metadata": {},
   "source": [
    "##### Convert into probability by normalization"
   ]
  },
  {
   "cell_type": "code",
   "execution_count": 145,
   "id": "19ddc183-7859-4b36-baa6-3ab8e11a7908",
   "metadata": {
    "tags": []
   },
   "outputs": [],
   "source": [
    "# Get the normalized version for the probability\n",
    "year_make_model_size_engine_block_prob = \\\n",
    "    year_make_model_size_engine_block_count.div(year_make_model_size_engine_block_count.sum(axis=1), axis=0)\n",
    "year_make_model_size_engine_block_prob = year_make_model_size_engine_block_prob.T.to_dict()"
   ]
  },
  {
   "cell_type": "markdown",
   "id": "392f6f46-d469-4f25-acfe-0634e6d1b8ab",
   "metadata": {},
   "source": [
    "##### Count drivetrain occurrence in original df"
   ]
  },
  {
   "cell_type": "code",
   "execution_count": 146,
   "id": "cab581db-56bf-42e8-b5db-87f296cb537a",
   "metadata": {},
   "outputs": [
    {
     "data": {
      "text/html": [
       "<div>\n",
       "<style scoped>\n",
       "    .dataframe tbody tr th:only-of-type {\n",
       "        vertical-align: middle;\n",
       "    }\n",
       "\n",
       "    .dataframe tbody tr th {\n",
       "        vertical-align: top;\n",
       "    }\n",
       "\n",
       "    .dataframe thead th {\n",
       "        text-align: right;\n",
       "    }\n",
       "</style>\n",
       "<table border=\"1\" class=\"dataframe\">\n",
       "  <thead>\n",
       "    <tr style=\"text-align: right;\">\n",
       "      <th></th>\n",
       "      <th>engine_block</th>\n",
       "    </tr>\n",
       "  </thead>\n",
       "  <tbody>\n",
       "    <tr>\n",
       "      <th>I</th>\n",
       "      <td>3424870</td>\n",
       "    </tr>\n",
       "    <tr>\n",
       "      <th>V</th>\n",
       "      <td>3042045</td>\n",
       "    </tr>\n",
       "    <tr>\n",
       "      <th>H</th>\n",
       "      <td>191996</td>\n",
       "    </tr>\n",
       "  </tbody>\n",
       "</table>\n",
       "</div>"
      ],
      "text/plain": [
       "   engine_block\n",
       "I       3424870\n",
       "V       3042045\n",
       "H        191996"
      ]
     },
     "execution_count": 146,
     "metadata": {},
     "output_type": "execute_result"
    }
   ],
   "source": [
    "# Prepare the probability for random assignment if the combination is not found in both tables above.\n",
    "engine_block_val_count = df[\"engine_block\"].value_counts().to_frame()\n",
    "engine_block_val_count"
   ]
  },
  {
   "cell_type": "markdown",
   "id": "e61b5762-a665-4901-8930-099c2748b6ad",
   "metadata": {},
   "source": [
    "##### Convert into probability by normalization"
   ]
  },
  {
   "cell_type": "code",
   "execution_count": 147,
   "id": "a58ce1b1-620e-4a38-8144-0d39e6e40ae9",
   "metadata": {},
   "outputs": [
    {
     "data": {
      "text/plain": [
       "{'I': 0.514328844461204, 'V': 0.45683821273478503, 'H': 0.028832942804011046}"
      ]
     },
     "execution_count": 147,
     "metadata": {},
     "output_type": "execute_result"
    }
   ],
   "source": [
    "# Prepare the probability for general selection\n",
    "engine_block_val_prob = engine_block_val_count.div(engine_block_val_count.sum(axis=0),axis=1)\n",
    "engine_block_val_prob = engine_block_val_prob.to_dict()['engine_block']\n",
    "engine_block_val_prob"
   ]
  },
  {
   "cell_type": "markdown",
   "id": "43cd97a1-6488-417f-841f-0acee170300d",
   "metadata": {
    "tags": []
   },
   "source": [
    "##### Function to fill NA"
   ]
  },
  {
   "cell_type": "code",
   "execution_count": 148,
   "id": "d0bd93bb-cf08-4e5e-9f9b-259862c24a2d",
   "metadata": {},
   "outputs": [],
   "source": [
    "\n",
    "\n",
    "def fill_na_by_year_make_model_size(df: pd.DataFrame,\n",
    "                                    column_to_fill: str,\n",
    "                                    year_make_model_size_prob: dict,\n",
    "                                    random_prob: dict,\n",
    "                                    inplace = True):\n",
    "    \"\"\"\n",
    "    Description\n",
    "    -----\n",
    "    This function is designed for filling the null value based of the occurrence and probability of the combination of `year`, `make`, `model` and `engine_size`.\n",
    "    If the key (`year`, `make`, `model`, `engine_size`) is not found in `year_make_model_size_prob` then \n",
    "    use the occurrence probability of the distinct value in the `column_to_fill` in `random_prob`.\n",
    "    \n",
    "    Then, select one of the dictinst values from the `column_to_fill` based on the probability retrieved above.\n",
    "    \n",
    "    Args\n",
    "    -----\n",
    "    df (pd.DataFrame): the original dataframe\n",
    "    column_to_fill (str): our target column to fill the null value\n",
    "    year_make_model_size_prob (dict): a dictionary with the key of each (`year`, `make`, `model`, `engine_size`) combination and \n",
    "                                      value of the probabilities of the values in the target column\n",
    "    random_prob (dict):  a dictionary with the key of each value in the target column and \n",
    "                            value of the probabilities of each value\n",
    "    inplace (boolean): whether to fill the null value in the original dataframe. Use `False` for deubgging purpose. Default: `True`. \n",
    "    \n",
    "    Returns\n",
    "    -----\n",
    "    None\n",
    "        \n",
    "    \n",
    "    \"\"\"\n",
    "    \n",
    "    # Validation\n",
    "    assert column_to_fill in df.columns, \"'column_to_fill' must be one of the column names in 'df'.\"\n",
    "        \n",
    "    # Get total null count\n",
    "    total_null_count = df[column_to_fill].isna().sum()\n",
    "    \n",
    "    # Variable for counting how many rows filled\n",
    "    i_count = 0\n",
    "    \n",
    "    # Implement cache to speed up search\n",
    "    year_make_model_size_cache = {}\n",
    "    general_cache=[]\n",
    "    general_cache_filled = False\n",
    "    \n",
    "    # New list to store the new data\n",
    "    index_list = []\n",
    "    target_col_list = []\n",
    "    \n",
    "    # Iterate through all rows with null value in `column_to_fill`\n",
    "    for ind, row in df[df[column_to_fill].isna()].sort_values(by=[\"year\",\"make\",\"model\",\"engine_size\"]).iterrows():\n",
    "        \n",
    "        # Construct the key and sub_key for search\n",
    "        key = str(int(row[\"year\"]))+\"-\"+row[\"make\"]+\"-\"+row[\"model\"] + \"-\" + str(row[\"engine_size\"])\n",
    "        \n",
    "        # If year-make-model key is found in cache\n",
    "        if key in year_make_model_size_cache:\n",
    "            \n",
    "            # Retrieve the choice\n",
    "            choice = year_make_model_size_cache[key][0]\n",
    "            # Retrieve the probability\n",
    "            prob = year_make_model_size_cache[key][1]\n",
    "            # Selected one of the available option based on the probability\n",
    "            selected = np.random.choice(choice,\n",
    "                                        p=prob)\n",
    "            \n",
    "        # If the key is not in cache, search the index from original dict  \n",
    "        elif key in year_make_model_size_prob:\n",
    "\n",
    "            # Retrieve the choice\n",
    "            choice = list(year_make_model_size_prob[key].keys())\n",
    "            # Retrieve the probability\n",
    "            prob = list(year_make_model_size_prob[key].values())\n",
    "            # Selected one of the available option based on the probability\n",
    "            selected = np.random.choice(choice,\n",
    "                                        p=prob)\n",
    "            # Save it in cache\n",
    "            year_make_model_size_cache[key] = [choice,prob]\n",
    "\n",
    "        # If year-make-model key is NOT found, Go to sub_key\n",
    "        else:\n",
    "            \n",
    "            # If general selection cache is found\n",
    "            if general_cache_filled:\n",
    "\n",
    "                # Retrieve the choice\n",
    "                choice = general_cache[0]\n",
    "                # Retrieve the probability\n",
    "                prob = general_cache[1]\n",
    "                # Selected one of the available option based on the probability\n",
    "                selected = np.random.choice(choice,\n",
    "                                            p=prob)\n",
    "\n",
    "            else:\n",
    "                # Retrieve the choice\n",
    "                choice = list(random_prob.keys())\n",
    "                # Retrieve the probability\n",
    "                prob = list(random_prob.values())\n",
    "                # Selected one of the available option based on the probability\n",
    "                selected = np.random.choice(choice,\n",
    "                                            p=prob)\n",
    "\n",
    "                # Save it in general_cache\n",
    "                general_cache = [choice, prob]\n",
    "                general_cache_filled = True\n",
    "                    \n",
    "        \n",
    "        \n",
    "        # Store the index and data in a list first\n",
    "        index_list.append(ind)\n",
    "        target_col_list.append(selected)\n",
    "    \n",
    "        \n",
    "        i_count += 1\n",
    "        if i_count % 10000 == 0:\n",
    "            print(f\"Filled rows: {i_count} / {total_null_count}\")\n",
    "          \n",
    "    # Convert the data into df and store it back to original df\n",
    "    new_df = pd.DataFrame({column_to_fill:target_col_list},index=index_list)\n",
    "    if inplace:\n",
    "        df.loc[index_list,column_to_fill] = new_df.loc[index_list,column_to_fill]\n",
    "    else:\n",
    "        print(new_df.tail())\n",
    "    print(f\"Filling completed!Filled rows: {i_count} / {total_null_count}\")\n",
    "    "
   ]
  },
  {
   "cell_type": "markdown",
   "id": "05cce137-c33c-4498-925d-21792c9250a7",
   "metadata": {},
   "source": [
    "#### Fill Null Value"
   ]
  },
  {
   "cell_type": "code",
   "execution_count": 149,
   "id": "6225cce7-0455-42e6-8032-ad09fffd6b46",
   "metadata": {},
   "outputs": [
    {
     "name": "stdout",
     "output_type": "stream",
     "text": [
      "=== Null Count ===\n",
      "Column `engine_block`: 146885\n"
     ]
    }
   ],
   "source": [
    "# How many null value in this column before fill na\n",
    "print_null_count(df,[\"engine_block\"])\n"
   ]
  },
  {
   "cell_type": "code",
   "execution_count": 150,
   "id": "865f7471-2910-456e-9976-c80582058277",
   "metadata": {
    "tags": []
   },
   "outputs": [
    {
     "name": "stdout",
     "output_type": "stream",
     "text": [
      "Filled rows: 10000 / 146885\n",
      "Filled rows: 20000 / 146885\n",
      "Filled rows: 30000 / 146885\n",
      "Filled rows: 40000 / 146885\n",
      "Filled rows: 50000 / 146885\n",
      "Filled rows: 60000 / 146885\n",
      "Filled rows: 70000 / 146885\n",
      "Filled rows: 80000 / 146885\n",
      "Filled rows: 90000 / 146885\n",
      "Filled rows: 100000 / 146885\n",
      "Filled rows: 110000 / 146885\n",
      "Filled rows: 120000 / 146885\n",
      "Filled rows: 130000 / 146885\n",
      "Filled rows: 140000 / 146885\n",
      "Filling completed!Filled rows: 146885 / 146885\n",
      "17.2 s ± 0 ns per loop (mean ± std. dev. of 1 run, 1 loop each)\n"
     ]
    }
   ],
   "source": [
    "%%timeit -n 1 -r 1  # time the execution\n",
    "\n",
    "# Fill the NA with the function above\n",
    "fill_na_by_year_make_model_size(df,\n",
    "                                \"engine_block\",\n",
    "                                year_make_model_size_engine_block_prob,\n",
    "                                engine_block_val_prob,\n",
    "                                inplace=True)"
   ]
  },
  {
   "cell_type": "markdown",
   "id": "36736e81-f0a5-4f9a-842f-de7eccf1947b",
   "metadata": {},
   "source": [
    "##### Double check null value count"
   ]
  },
  {
   "cell_type": "code",
   "execution_count": 151,
   "id": "7e9ef162-ef3b-415f-91b3-e936ac3b7766",
   "metadata": {},
   "outputs": [
    {
     "name": "stdout",
     "output_type": "stream",
     "text": [
      "=== Null Count ===\n",
      "Column `engine_block`: 0\n"
     ]
    }
   ],
   "source": [
    "# How many null value in this column after filling NA\n",
    "print_null_count(df,[\"engine_block\"])"
   ]
  },
  {
   "cell_type": "markdown",
   "id": "26a58e7a-12c5-49e8-a3eb-aad65a428916",
   "metadata": {},
   "source": [
    "---"
   ]
  },
  {
   "cell_type": "markdown",
   "id": "41dd3cd1-c972-4cd9-92f9-da8ed3127532",
   "metadata": {
    "tags": [],
    "toc-hr-collapsed": true
   },
   "source": [
    "<div style=\"border-radius:10px; border:#33a0ff solid; padding: 15px; background-color: #f0f1ff; font-size:100%; text-align:left\">\n",
    "<a class=\"anchor\" id=\"1-col-location\">\n",
    "    <h3> Column: <b><i>street / city / state / zip</i></b> </h3>\n",
    "</a>\n",
    "</div>"
   ]
  },
  {
   "cell_type": "markdown",
   "id": "d9a7fdcf-c485-4e05-a387-76a83d48024f",
   "metadata": {
    "tags": []
   },
   "source": [
    "#### Null Value Check"
   ]
  },
  {
   "cell_type": "code",
   "execution_count": 152,
   "id": "41f2b331-0c33-4847-85e1-43b56ebee2dd",
   "metadata": {},
   "outputs": [
    {
     "name": "stdout",
     "output_type": "stream",
     "text": [
      "=== Null Count ===\n",
      "Column `street`: 35245\n",
      "Column `city`: 17945\n",
      "Column `state`: 18015\n",
      "Column `zip`: 18145\n"
     ]
    }
   ],
   "source": [
    "# How many null value in this column\n",
    "print_null_count(df,[\"street\",\"city\",\"state\",\"zip\"])"
   ]
  },
  {
   "cell_type": "code",
   "execution_count": 153,
   "id": "30fda082-59fa-4d46-bbdf-67bfa5c94a59",
   "metadata": {},
   "outputs": [
    {
     "name": "stdout",
     "output_type": "stream",
     "text": [
      "=== Null Count Precentage ===\n",
      "Column street: 0.5179%\n",
      "Column city: 0.2637%\n",
      "Column state: 0.2647%\n",
      "Column zip: 0.2666%\n"
     ]
    }
   ],
   "source": [
    "# Precentage of null value in this column\n",
    "print_null_pct(df,[\"street\",\"city\",\"state\",\"zip\"])"
   ]
  },
  {
   "cell_type": "markdown",
   "id": "697dc1fe-d930-4e19-8f1f-d664eff3df56",
   "metadata": {},
   "source": [
    "#### Let's check how many rows with all 4 columns are null"
   ]
  },
  {
   "cell_type": "code",
   "execution_count": 154,
   "id": "853814f4-8f8b-49eb-bd93-a599e9efd6f9",
   "metadata": {},
   "outputs": [
    {
     "data": {
      "text/plain": [
       "(17897, 18)"
      ]
     },
     "execution_count": 154,
     "metadata": {},
     "output_type": "execute_result"
    }
   ],
   "source": [
    "all_null = df[(df[\"street\"].isna())&(df[\"city\"].isna())&(df[\"state\"].isna())&(df[\"zip\"].isna())]\n",
    "all_null.shape"
   ]
  },
  {
   "cell_type": "code",
   "execution_count": 155,
   "id": "defd3768-df37-435e-b768-f5d9a59c6fd5",
   "metadata": {},
   "outputs": [
    {
     "name": "stdout",
     "output_type": "stream",
     "text": [
      "There are 17897 rows with all 4 columns of null value.\n",
      "It is around 0.26% of records.\n"
     ]
    }
   ],
   "source": [
    "print(f\"There are {all_null.shape[0]} rows with all 4 columns of null value.\")\n",
    "print(f\"It is around {round(all_null.shape[0]/df.shape[0]*100,2)}% of records.\")"
   ]
  },
  {
   "cell_type": "markdown",
   "id": "07174035-f49e-4b8a-90eb-7e89092391bd",
   "metadata": {},
   "source": [
    "<div style=\"border-radius:10px; border: #ffd500 solid; padding: 15px; background-color: #ffffcf; font-size:100%; text-align:left\">\n",
    "<font size=\"4px\" color=\"#ffa600\"><b>💬 Comment:</b></font>\n",
    "\n",
    "- As address / location is one of the major factors to determine the listing price, we need location information. If all 4 columns are null, then we cannot retrieve any informtion from it, which means we need to drop them away.\n",
    "                    \n",
    "<div>"
   ]
  },
  {
   "cell_type": "code",
   "execution_count": 156,
   "id": "bf921b2e-0ac8-43b6-919d-42f015eba49a",
   "metadata": {},
   "outputs": [
    {
     "data": {
      "text/html": [
       "<div>\n",
       "<style scoped>\n",
       "    .dataframe tbody tr th:only-of-type {\n",
       "        vertical-align: middle;\n",
       "    }\n",
       "\n",
       "    .dataframe tbody tr th {\n",
       "        vertical-align: top;\n",
       "    }\n",
       "\n",
       "    .dataframe thead th {\n",
       "        text-align: right;\n",
       "    }\n",
       "</style>\n",
       "<table border=\"1\" class=\"dataframe\">\n",
       "  <thead>\n",
       "    <tr style=\"text-align: right;\">\n",
       "      <th></th>\n",
       "      <th>vin</th>\n",
       "      <th>miles</th>\n",
       "      <th>year</th>\n",
       "      <th>make</th>\n",
       "      <th>model</th>\n",
       "      <th>trim</th>\n",
       "      <th>body_type</th>\n",
       "      <th>vehicle_type</th>\n",
       "      <th>drivetrain</th>\n",
       "      <th>transmission</th>\n",
       "      <th>fuel_type</th>\n",
       "      <th>engine_size</th>\n",
       "      <th>engine_block</th>\n",
       "      <th>street</th>\n",
       "      <th>city</th>\n",
       "      <th>state</th>\n",
       "      <th>zip</th>\n",
       "      <th>price_range</th>\n",
       "    </tr>\n",
       "  </thead>\n",
       "  <tbody>\n",
       "    <tr>\n",
       "      <th>0</th>\n",
       "      <td>19UNC1B01HY800062</td>\n",
       "      <td>9966.0</td>\n",
       "      <td>2017.0</td>\n",
       "      <td>Acura</td>\n",
       "      <td>NSX</td>\n",
       "      <td>Base</td>\n",
       "      <td>Coupe</td>\n",
       "      <td>Car</td>\n",
       "      <td>4WD</td>\n",
       "      <td>Automatic</td>\n",
       "      <td>Electric / Premium Unleaded</td>\n",
       "      <td>3.5</td>\n",
       "      <td>V</td>\n",
       "      <td>475 Rue Victoria</td>\n",
       "      <td>Edmundston</td>\n",
       "      <td>NB</td>\n",
       "      <td>E3V 2K7</td>\n",
       "      <td>5</td>\n",
       "    </tr>\n",
       "    <tr>\n",
       "      <th>1</th>\n",
       "      <td>19UNC1B02HY800023</td>\n",
       "      <td>5988.0</td>\n",
       "      <td>2017.0</td>\n",
       "      <td>Acura</td>\n",
       "      <td>NSX</td>\n",
       "      <td>Base</td>\n",
       "      <td>Coupe</td>\n",
       "      <td>Car</td>\n",
       "      <td>4WD</td>\n",
       "      <td>Automatic</td>\n",
       "      <td>Electric / Premium Unleaded</td>\n",
       "      <td>3.5</td>\n",
       "      <td>V</td>\n",
       "      <td>2795 Route-du-prsident-kennedy</td>\n",
       "      <td>Notre-dame-des-pins</td>\n",
       "      <td>QC</td>\n",
       "      <td>G0M 1K0</td>\n",
       "      <td>5</td>\n",
       "    </tr>\n",
       "    <tr>\n",
       "      <th>2</th>\n",
       "      <td>19UNC1B02HY800071</td>\n",
       "      <td>24242.0</td>\n",
       "      <td>2017.0</td>\n",
       "      <td>Acura</td>\n",
       "      <td>NSX</td>\n",
       "      <td>Base</td>\n",
       "      <td>Coupe</td>\n",
       "      <td>Car</td>\n",
       "      <td>4WD</td>\n",
       "      <td>Automatic</td>\n",
       "      <td>Electric / Premium Unleaded</td>\n",
       "      <td>3.5</td>\n",
       "      <td>V</td>\n",
       "      <td>1388 Lougheed Highway</td>\n",
       "      <td>Coquitlam</td>\n",
       "      <td>BC</td>\n",
       "      <td>V3K 6S4</td>\n",
       "      <td>5</td>\n",
       "    </tr>\n",
       "    <tr>\n",
       "      <th>3</th>\n",
       "      <td>19UNC1B02LY800001</td>\n",
       "      <td>6637.0</td>\n",
       "      <td>2020.0</td>\n",
       "      <td>Acura</td>\n",
       "      <td>NSX</td>\n",
       "      <td>Base</td>\n",
       "      <td>Coupe</td>\n",
       "      <td>Car</td>\n",
       "      <td>4WD</td>\n",
       "      <td>Automatic</td>\n",
       "      <td>Electric / Premium Unleaded</td>\n",
       "      <td>3.5</td>\n",
       "      <td>V</td>\n",
       "      <td>1305 Parkway Suite 600</td>\n",
       "      <td>Pickering</td>\n",
       "      <td>ON</td>\n",
       "      <td>L1V 3P2</td>\n",
       "      <td>5</td>\n",
       "    </tr>\n",
       "    <tr>\n",
       "      <th>4</th>\n",
       "      <td>19UNC1B02LY800001</td>\n",
       "      <td>6637.0</td>\n",
       "      <td>2020.0</td>\n",
       "      <td>Acura</td>\n",
       "      <td>NSX</td>\n",
       "      <td>Base</td>\n",
       "      <td>Coupe</td>\n",
       "      <td>Car</td>\n",
       "      <td>4WD</td>\n",
       "      <td>Automatic</td>\n",
       "      <td>Electric / Premium Unleaded</td>\n",
       "      <td>3.5</td>\n",
       "      <td>V</td>\n",
       "      <td>575 Kingston Road</td>\n",
       "      <td>Pickering</td>\n",
       "      <td>ON</td>\n",
       "      <td>L1V 3N7</td>\n",
       "      <td>5</td>\n",
       "    </tr>\n",
       "  </tbody>\n",
       "</table>\n",
       "</div>"
      ],
      "text/plain": [
       "                 vin    miles    year   make model  trim body_type  \\\n",
       "0  19UNC1B01HY800062   9966.0  2017.0  Acura   NSX  Base     Coupe   \n",
       "1  19UNC1B02HY800023   5988.0  2017.0  Acura   NSX  Base     Coupe   \n",
       "2  19UNC1B02HY800071  24242.0  2017.0  Acura   NSX  Base     Coupe   \n",
       "3  19UNC1B02LY800001   6637.0  2020.0  Acura   NSX  Base     Coupe   \n",
       "4  19UNC1B02LY800001   6637.0  2020.0  Acura   NSX  Base     Coupe   \n",
       "\n",
       "  vehicle_type drivetrain transmission                    fuel_type  \\\n",
       "0          Car        4WD    Automatic  Electric / Premium Unleaded   \n",
       "1          Car        4WD    Automatic  Electric / Premium Unleaded   \n",
       "2          Car        4WD    Automatic  Electric / Premium Unleaded   \n",
       "3          Car        4WD    Automatic  Electric / Premium Unleaded   \n",
       "4          Car        4WD    Automatic  Electric / Premium Unleaded   \n",
       "\n",
       "   engine_size engine_block                          street  \\\n",
       "0          3.5            V                475 Rue Victoria   \n",
       "1          3.5            V  2795 Route-du-prsident-kennedy   \n",
       "2          3.5            V           1388 Lougheed Highway   \n",
       "3          3.5            V          1305 Parkway Suite 600   \n",
       "4          3.5            V               575 Kingston Road   \n",
       "\n",
       "                  city state      zip  price_range  \n",
       "0           Edmundston    NB  E3V 2K7            5  \n",
       "1  Notre-dame-des-pins    QC  G0M 1K0            5  \n",
       "2            Coquitlam    BC  V3K 6S4            5  \n",
       "3            Pickering    ON  L1V 3P2            5  \n",
       "4            Pickering    ON  L1V 3N7            5  "
      ]
     },
     "execution_count": 156,
     "metadata": {},
     "output_type": "execute_result"
    }
   ],
   "source": [
    "df.dropna(subset=[\"street\",\"city\",\"state\",\"zip\"],how=\"all\",inplace = True)\n",
    "df.head()"
   ]
  },
  {
   "cell_type": "markdown",
   "id": "8845d4ca-12be-4c7b-a575-44b1ebf0d722",
   "metadata": {},
   "source": [
    "#### Check how many rows and columns left"
   ]
  },
  {
   "cell_type": "code",
   "execution_count": 157,
   "id": "a15c3627-3e77-46b2-9c7d-cf0238cb96d2",
   "metadata": {},
   "outputs": [
    {
     "name": "stdout",
     "output_type": "stream",
     "text": [
      "There are 6787899 rows and 18 columns in this dataframe now.\n"
     ]
    }
   ],
   "source": [
    "print_dim(df)"
   ]
  },
  {
   "cell_type": "markdown",
   "id": "aa98c5ac-0bd0-4452-a7ed-7ce2552a6558",
   "metadata": {
    "toc-hr-collapsed": true
   },
   "source": [
    "#### Obtain information from `street`\n",
    "- As street is not a good feature for modelling, we can extract the `city`, `state` and `zip` from the `street`."
   ]
  },
  {
   "cell_type": "code",
   "execution_count": 158,
   "id": "9294299a-328b-4394-a609-912364e62fe4",
   "metadata": {},
   "outputs": [
    {
     "name": "stdout",
     "output_type": "stream",
     "text": [
      "=== Null Count ===\n",
      "Column `street`: 17348\n",
      "Column `city`: 48\n",
      "Column `state`: 118\n",
      "Column `zip`: 248\n"
     ]
    }
   ],
   "source": [
    "# How many null value in this column\n",
    "print_null_count(df,[\"street\",\"city\",\"state\",\"zip\"])"
   ]
  },
  {
   "cell_type": "code",
   "execution_count": 159,
   "id": "36214e60-bd73-4acc-b68b-0aae79909d6a",
   "metadata": {},
   "outputs": [
    {
     "data": {
      "text/html": [
       "<div>\n",
       "<style scoped>\n",
       "    .dataframe tbody tr th:only-of-type {\n",
       "        vertical-align: middle;\n",
       "    }\n",
       "\n",
       "    .dataframe tbody tr th {\n",
       "        vertical-align: top;\n",
       "    }\n",
       "\n",
       "    .dataframe thead th {\n",
       "        text-align: right;\n",
       "    }\n",
       "</style>\n",
       "<table border=\"1\" class=\"dataframe\">\n",
       "  <thead>\n",
       "    <tr style=\"text-align: right;\">\n",
       "      <th></th>\n",
       "      <th>vin</th>\n",
       "      <th>miles</th>\n",
       "      <th>year</th>\n",
       "      <th>make</th>\n",
       "      <th>model</th>\n",
       "      <th>trim</th>\n",
       "      <th>body_type</th>\n",
       "      <th>vehicle_type</th>\n",
       "      <th>drivetrain</th>\n",
       "      <th>transmission</th>\n",
       "      <th>fuel_type</th>\n",
       "      <th>engine_size</th>\n",
       "      <th>engine_block</th>\n",
       "      <th>street</th>\n",
       "      <th>city</th>\n",
       "      <th>state</th>\n",
       "      <th>zip</th>\n",
       "      <th>price_range</th>\n",
       "    </tr>\n",
       "  </thead>\n",
       "  <tbody>\n",
       "    <tr>\n",
       "      <th>3089</th>\n",
       "      <td>YV4BC0PMXG1066761</td>\n",
       "      <td>60000.0</td>\n",
       "      <td>2016.0</td>\n",
       "      <td>Volvo</td>\n",
       "      <td>XC90</td>\n",
       "      <td>R-Design</td>\n",
       "      <td>SUV</td>\n",
       "      <td>Truck</td>\n",
       "      <td>4WD</td>\n",
       "      <td>Automatic</td>\n",
       "      <td>Electric / Premium Unleaded</td>\n",
       "      <td>2.0</td>\n",
       "      <td>I</td>\n",
       "      <td>540 Boulevard Gr�ber</td>\n",
       "      <td>None</td>\n",
       "      <td>QC</td>\n",
       "      <td>None</td>\n",
       "      <td>4</td>\n",
       "    </tr>\n",
       "    <tr>\n",
       "      <th>3232</th>\n",
       "      <td>19UUA66278A800666</td>\n",
       "      <td>165000.0</td>\n",
       "      <td>2008.0</td>\n",
       "      <td>Acura</td>\n",
       "      <td>TL</td>\n",
       "      <td>Not Provided</td>\n",
       "      <td>Sedan</td>\n",
       "      <td>Car</td>\n",
       "      <td>FWD</td>\n",
       "      <td>Automatic</td>\n",
       "      <td>Premium Unleaded</td>\n",
       "      <td>2.5</td>\n",
       "      <td>V</td>\n",
       "      <td>540 Boulevard Gr�ber</td>\n",
       "      <td>None</td>\n",
       "      <td>QC</td>\n",
       "      <td>None</td>\n",
       "      <td>1</td>\n",
       "    </tr>\n",
       "    <tr>\n",
       "      <th>3236</th>\n",
       "      <td>19UUA86519A801626</td>\n",
       "      <td>142772.0</td>\n",
       "      <td>2009.0</td>\n",
       "      <td>Acura</td>\n",
       "      <td>TL</td>\n",
       "      <td>Not Provided</td>\n",
       "      <td>Sedan</td>\n",
       "      <td>Car</td>\n",
       "      <td>FWD</td>\n",
       "      <td>Automatic</td>\n",
       "      <td>Premium Unleaded</td>\n",
       "      <td>2.5</td>\n",
       "      <td>I</td>\n",
       "      <td>2563 Eglinton Ave East</td>\n",
       "      <td>Scarborough</td>\n",
       "      <td>None</td>\n",
       "      <td>M1K 2R7</td>\n",
       "      <td>2</td>\n",
       "    </tr>\n",
       "    <tr>\n",
       "      <th>5733</th>\n",
       "      <td>1C6RR7TT4FS594270</td>\n",
       "      <td>145260.0</td>\n",
       "      <td>2015.0</td>\n",
       "      <td>RAM</td>\n",
       "      <td>Ram 1500 Pickup</td>\n",
       "      <td>Not Provided</td>\n",
       "      <td>Pickup</td>\n",
       "      <td>Truck</td>\n",
       "      <td>4WD</td>\n",
       "      <td>Automatic</td>\n",
       "      <td>Unleaded</td>\n",
       "      <td>2.5</td>\n",
       "      <td>V</td>\n",
       "      <td>540 Boulevard Gr�ber</td>\n",
       "      <td>None</td>\n",
       "      <td>QC</td>\n",
       "      <td>None</td>\n",
       "      <td>2</td>\n",
       "    </tr>\n",
       "    <tr>\n",
       "      <th>5971</th>\n",
       "      <td>1D4PU5GK8BW575912</td>\n",
       "      <td>132418.0</td>\n",
       "      <td>2011.0</td>\n",
       "      <td>Dodge</td>\n",
       "      <td>Nitro</td>\n",
       "      <td>Not Provided</td>\n",
       "      <td>Not Provided</td>\n",
       "      <td>Car</td>\n",
       "      <td>4WD</td>\n",
       "      <td>Automatic</td>\n",
       "      <td>Unleaded</td>\n",
       "      <td>2.5</td>\n",
       "      <td>I</td>\n",
       "      <td>261 Hespeler Rd Unit C</td>\n",
       "      <td>Cambridge</td>\n",
       "      <td>None</td>\n",
       "      <td>N1R 3H8</td>\n",
       "      <td>1</td>\n",
       "    </tr>\n",
       "  </tbody>\n",
       "</table>\n",
       "</div>"
      ],
      "text/plain": [
       "                    vin     miles    year   make            model  \\\n",
       "3089  YV4BC0PMXG1066761   60000.0  2016.0  Volvo             XC90   \n",
       "3232  19UUA66278A800666  165000.0  2008.0  Acura               TL   \n",
       "3236  19UUA86519A801626  142772.0  2009.0  Acura               TL   \n",
       "5733  1C6RR7TT4FS594270  145260.0  2015.0    RAM  Ram 1500 Pickup   \n",
       "5971  1D4PU5GK8BW575912  132418.0  2011.0  Dodge            Nitro   \n",
       "\n",
       "              trim     body_type vehicle_type drivetrain transmission  \\\n",
       "3089      R-Design           SUV        Truck        4WD    Automatic   \n",
       "3232  Not Provided         Sedan          Car        FWD    Automatic   \n",
       "3236  Not Provided         Sedan          Car        FWD    Automatic   \n",
       "5733  Not Provided        Pickup        Truck        4WD    Automatic   \n",
       "5971  Not Provided  Not Provided          Car        4WD    Automatic   \n",
       "\n",
       "                        fuel_type  engine_size engine_block  \\\n",
       "3089  Electric / Premium Unleaded          2.0            I   \n",
       "3232             Premium Unleaded          2.5            V   \n",
       "3236             Premium Unleaded          2.5            I   \n",
       "5733                     Unleaded          2.5            V   \n",
       "5971                     Unleaded          2.5            I   \n",
       "\n",
       "                      street         city state      zip  price_range  \n",
       "3089    540 Boulevard Gr�ber         None    QC     None            4  \n",
       "3232    540 Boulevard Gr�ber         None    QC     None            1  \n",
       "3236  2563 Eglinton Ave East  Scarborough  None  M1K 2R7            2  \n",
       "5733    540 Boulevard Gr�ber         None    QC     None            2  \n",
       "5971  261 Hespeler Rd Unit C    Cambridge  None  N1R 3H8            1  "
      ]
     },
     "execution_count": 159,
     "metadata": {},
     "output_type": "execute_result"
    }
   ],
   "source": [
    "city_df = df[~(df[\"street\"].isna())&((df[\"city\"].isna())|(df[\"state\"].isna())|(df[\"zip\"].isna()))]\n",
    "city_df.head()"
   ]
  },
  {
   "cell_type": "markdown",
   "id": "34d22342-dd4c-4cf3-b884-52e9a7408dab",
   "metadata": {},
   "source": [
    "##### Replace unknown characters and add country for some addresses\n"
   ]
  },
  {
   "cell_type": "markdown",
   "id": "5c77204a-1e12-4194-a1b0-92d80085b49d",
   "metadata": {},
   "source": [
    "<div style=\"border-radius:10px; border: #ffd500 solid; padding: 15px; background-color: #ffffcf; font-size:100%; text-align:left\">\n",
    "<font size=\"4px\" color=\"#ffa600\"><b>⚠️ Note:</b></font>\n",
    "\n",
    "- Note that one of the addressed includes french, which is mistakenly parse during the data loading stage.  \n",
    "- We will convert it into proper text manually.\n",
    "- Some addresses requires country for accurate geocoding\n",
    "                    \n",
    "<div>"
   ]
  },
  {
   "cell_type": "code",
   "execution_count": 160,
   "id": "f6dee00b-b107-4d5e-a2b8-945c53447021",
   "metadata": {},
   "outputs": [],
   "source": [
    "street_correction = {\"540 Boulevard Gr�ber\":'540 Boulevard Greber',\n",
    "                     \"2871 Ontario 7a\":\"2871 Ontario 7a, Canada\",\n",
    "                     \"3026 Highway 16 East, Thornhill\":\"3026 BC-16, Thornhill\",\n",
    "                     \"261 Hespeler Rd Unit C\":\"261 Hespeler Rd c\"\n",
    "                    }\n",
    "df[\"street\"].replace(street_correction, inplace=True)"
   ]
  },
  {
   "cell_type": "code",
   "execution_count": 161,
   "id": "681f1c23-8410-42e9-a862-2a8e8f3f7947",
   "metadata": {},
   "outputs": [
    {
     "data": {
      "text/html": [
       "<div>\n",
       "<style scoped>\n",
       "    .dataframe tbody tr th:only-of-type {\n",
       "        vertical-align: middle;\n",
       "    }\n",
       "\n",
       "    .dataframe tbody tr th {\n",
       "        vertical-align: top;\n",
       "    }\n",
       "\n",
       "    .dataframe thead th {\n",
       "        text-align: right;\n",
       "    }\n",
       "</style>\n",
       "<table border=\"1\" class=\"dataframe\">\n",
       "  <thead>\n",
       "    <tr style=\"text-align: right;\">\n",
       "      <th></th>\n",
       "      <th>vin</th>\n",
       "      <th>miles</th>\n",
       "      <th>year</th>\n",
       "      <th>make</th>\n",
       "      <th>model</th>\n",
       "      <th>trim</th>\n",
       "      <th>body_type</th>\n",
       "      <th>vehicle_type</th>\n",
       "      <th>drivetrain</th>\n",
       "      <th>transmission</th>\n",
       "      <th>fuel_type</th>\n",
       "      <th>engine_size</th>\n",
       "      <th>engine_block</th>\n",
       "      <th>street</th>\n",
       "      <th>city</th>\n",
       "      <th>state</th>\n",
       "      <th>zip</th>\n",
       "      <th>price_range</th>\n",
       "    </tr>\n",
       "  </thead>\n",
       "  <tbody>\n",
       "    <tr>\n",
       "      <th>3089</th>\n",
       "      <td>YV4BC0PMXG1066761</td>\n",
       "      <td>60000.0</td>\n",
       "      <td>2016.0</td>\n",
       "      <td>Volvo</td>\n",
       "      <td>XC90</td>\n",
       "      <td>R-Design</td>\n",
       "      <td>SUV</td>\n",
       "      <td>Truck</td>\n",
       "      <td>4WD</td>\n",
       "      <td>Automatic</td>\n",
       "      <td>Electric / Premium Unleaded</td>\n",
       "      <td>2.0</td>\n",
       "      <td>I</td>\n",
       "      <td>540 Boulevard Greber</td>\n",
       "      <td>None</td>\n",
       "      <td>QC</td>\n",
       "      <td>None</td>\n",
       "      <td>4</td>\n",
       "    </tr>\n",
       "    <tr>\n",
       "      <th>3232</th>\n",
       "      <td>19UUA66278A800666</td>\n",
       "      <td>165000.0</td>\n",
       "      <td>2008.0</td>\n",
       "      <td>Acura</td>\n",
       "      <td>TL</td>\n",
       "      <td>Not Provided</td>\n",
       "      <td>Sedan</td>\n",
       "      <td>Car</td>\n",
       "      <td>FWD</td>\n",
       "      <td>Automatic</td>\n",
       "      <td>Premium Unleaded</td>\n",
       "      <td>2.5</td>\n",
       "      <td>V</td>\n",
       "      <td>540 Boulevard Greber</td>\n",
       "      <td>None</td>\n",
       "      <td>QC</td>\n",
       "      <td>None</td>\n",
       "      <td>1</td>\n",
       "    </tr>\n",
       "    <tr>\n",
       "      <th>3236</th>\n",
       "      <td>19UUA86519A801626</td>\n",
       "      <td>142772.0</td>\n",
       "      <td>2009.0</td>\n",
       "      <td>Acura</td>\n",
       "      <td>TL</td>\n",
       "      <td>Not Provided</td>\n",
       "      <td>Sedan</td>\n",
       "      <td>Car</td>\n",
       "      <td>FWD</td>\n",
       "      <td>Automatic</td>\n",
       "      <td>Premium Unleaded</td>\n",
       "      <td>2.5</td>\n",
       "      <td>I</td>\n",
       "      <td>2563 Eglinton Ave East</td>\n",
       "      <td>Scarborough</td>\n",
       "      <td>None</td>\n",
       "      <td>M1K 2R7</td>\n",
       "      <td>2</td>\n",
       "    </tr>\n",
       "    <tr>\n",
       "      <th>5733</th>\n",
       "      <td>1C6RR7TT4FS594270</td>\n",
       "      <td>145260.0</td>\n",
       "      <td>2015.0</td>\n",
       "      <td>RAM</td>\n",
       "      <td>Ram 1500 Pickup</td>\n",
       "      <td>Not Provided</td>\n",
       "      <td>Pickup</td>\n",
       "      <td>Truck</td>\n",
       "      <td>4WD</td>\n",
       "      <td>Automatic</td>\n",
       "      <td>Unleaded</td>\n",
       "      <td>2.5</td>\n",
       "      <td>V</td>\n",
       "      <td>540 Boulevard Greber</td>\n",
       "      <td>None</td>\n",
       "      <td>QC</td>\n",
       "      <td>None</td>\n",
       "      <td>2</td>\n",
       "    </tr>\n",
       "    <tr>\n",
       "      <th>5971</th>\n",
       "      <td>1D4PU5GK8BW575912</td>\n",
       "      <td>132418.0</td>\n",
       "      <td>2011.0</td>\n",
       "      <td>Dodge</td>\n",
       "      <td>Nitro</td>\n",
       "      <td>Not Provided</td>\n",
       "      <td>Not Provided</td>\n",
       "      <td>Car</td>\n",
       "      <td>4WD</td>\n",
       "      <td>Automatic</td>\n",
       "      <td>Unleaded</td>\n",
       "      <td>2.5</td>\n",
       "      <td>I</td>\n",
       "      <td>261 Hespeler Rd c</td>\n",
       "      <td>Cambridge</td>\n",
       "      <td>None</td>\n",
       "      <td>N1R 3H8</td>\n",
       "      <td>1</td>\n",
       "    </tr>\n",
       "  </tbody>\n",
       "</table>\n",
       "</div>"
      ],
      "text/plain": [
       "                    vin     miles    year   make            model  \\\n",
       "3089  YV4BC0PMXG1066761   60000.0  2016.0  Volvo             XC90   \n",
       "3232  19UUA66278A800666  165000.0  2008.0  Acura               TL   \n",
       "3236  19UUA86519A801626  142772.0  2009.0  Acura               TL   \n",
       "5733  1C6RR7TT4FS594270  145260.0  2015.0    RAM  Ram 1500 Pickup   \n",
       "5971  1D4PU5GK8BW575912  132418.0  2011.0  Dodge            Nitro   \n",
       "\n",
       "              trim     body_type vehicle_type drivetrain transmission  \\\n",
       "3089      R-Design           SUV        Truck        4WD    Automatic   \n",
       "3232  Not Provided         Sedan          Car        FWD    Automatic   \n",
       "3236  Not Provided         Sedan          Car        FWD    Automatic   \n",
       "5733  Not Provided        Pickup        Truck        4WD    Automatic   \n",
       "5971  Not Provided  Not Provided          Car        4WD    Automatic   \n",
       "\n",
       "                        fuel_type  engine_size engine_block  \\\n",
       "3089  Electric / Premium Unleaded          2.0            I   \n",
       "3232             Premium Unleaded          2.5            V   \n",
       "3236             Premium Unleaded          2.5            I   \n",
       "5733                     Unleaded          2.5            V   \n",
       "5971                     Unleaded          2.5            I   \n",
       "\n",
       "                      street         city state      zip  price_range  \n",
       "3089    540 Boulevard Greber         None    QC     None            4  \n",
       "3232    540 Boulevard Greber         None    QC     None            1  \n",
       "3236  2563 Eglinton Ave East  Scarborough  None  M1K 2R7            2  \n",
       "5733    540 Boulevard Greber         None    QC     None            2  \n",
       "5971       261 Hespeler Rd c    Cambridge  None  N1R 3H8            1  "
      ]
     },
     "execution_count": 161,
     "metadata": {},
     "output_type": "execute_result"
    }
   ],
   "source": [
    "city_df = df[~(df[\"street\"].isna())&((df[\"city\"].isna())|(df[\"state\"].isna())|(df[\"zip\"].isna()))]\n",
    "city_df.head()"
   ]
  },
  {
   "cell_type": "markdown",
   "id": "fe1de2c2-2588-4d58-98cb-163ca883cc5a",
   "metadata": {},
   "source": [
    "##### Obtain `city`, `state` and `zip` from `street`"
   ]
  },
  {
   "cell_type": "code",
   "execution_count": 162,
   "id": "692d808e-6039-4aab-88ca-262d8baa888c",
   "metadata": {},
   "outputs": [
    {
     "data": {
      "text/plain": [
       "['3026 BC-16, Thornhill',\n",
       " '2512 Bristol Circle',\n",
       " '522 Boul Des Laurentides',\n",
       " '261 Hespeler Rd c',\n",
       " '502 Chemin Vanier',\n",
       " '2563 Eglinton Ave East',\n",
       " '4800 Whitesburg Dr #30',\n",
       " '540 Boulevard Greber',\n",
       " '2871 Ontario 7a, Canada',\n",
       " '3877 Canada Way',\n",
       " '5001 Steeles Ave West']"
      ]
     },
     "execution_count": 162,
     "metadata": {},
     "output_type": "execute_result"
    }
   ],
   "source": [
    "# Get the unique address in the above df\n",
    "address_to_be_retrieve = list(set(city_df['street']))\n",
    "address_to_be_retrieve"
   ]
  },
  {
   "cell_type": "code",
   "execution_count": 163,
   "id": "77e7db86-b6c5-40eb-9f54-ef236bacb5d6",
   "metadata": {},
   "outputs": [
    {
     "name": "stdout",
     "output_type": "stream",
     "text": [
      "--- Attempt: 1 ---\n",
      "Completed...\n"
     ]
    }
   ],
   "source": [
    "address_dict = {}\n",
    "completed = False\n",
    "attempt = 0\n",
    "while not completed:\n",
    "    try:\n",
    "        attempt += 1\n",
    "        print(f\"--- Attempt: {attempt} ---\")\n",
    "        for i, address in enumerate(address_to_be_retrieve):\n",
    "\n",
    "            # Wait for 1 sec to avoid API banning / Connection Timeout\n",
    "            if i % 3 == 0:\n",
    "                time.sleep(0.5)\n",
    "\n",
    "\n",
    "            # address is a String e.g. 'Berlin, Germany'\n",
    "            # addressdetails=True does the magic and gives you also the details\n",
    "            geolocator = Nominatim(user_agent=\"bs-capstone\")\n",
    "            location = geolocator.geocode(address, addressdetails=True)\n",
    "            if location is not None:\n",
    "                details = location.raw[\"address\"]\n",
    "\n",
    "                try:\n",
    "                    city = details[\"city\"]\n",
    "                except:\n",
    "                    city = details[\"county\"]\n",
    "                state = details[\"ISO3166-2-lvl4\"].split(\"-\")[1]\n",
    "                zip_code = details[\"postcode\"]\n",
    "\n",
    "                address_dict[address] = {\"city\":city,\"state\":state,\"zip\":zip_code}\n",
    "            else:\n",
    "                print(f\"Adderss Not Found: {address}\")\n",
    "\n",
    "        completed = True\n",
    "        print(\"Completed...\")\n",
    "    # If there is any error or crashing, reset the dict and retry until completed.\n",
    "    except:\n",
    "        address_dict = {}\n",
    "        completed = False"
   ]
  },
  {
   "cell_type": "markdown",
   "id": "03af221e-855a-43f8-a16a-7bee285f9c3d",
   "metadata": {
    "toc-hr-collapsed": true
   },
   "source": [
    "#### Fill Null Value in columns `city`, `state` and `zip`"
   ]
  },
  {
   "cell_type": "code",
   "execution_count": 164,
   "id": "f186ec31-d060-4bb4-a5c5-b19bb0688284",
   "metadata": {},
   "outputs": [],
   "source": [
    "# Set up for fill na steps\n",
    "cols = [\"city\",\"state\",\"zip\"]\n",
    "new_df = pd.DataFrame(columns=cols)\n",
    "index_list = []\n",
    "data_dict = {}\n",
    "for col in cols:\n",
    "    data_dict[col] = []\n",
    "    \n",
    "# Load the new data from the address dictionary\n",
    "for ind, row in df[~(df[\"street\"].isna())&((df[\"city\"].isna())|(df[\"state\"].isna())|(df[\"zip\"].isna()))].iterrows():\n",
    "\n",
    "    index_list.append(ind)\n",
    "    loc = row[\"street\"]\n",
    "    for col in cols:\n",
    "        data_dict[col].append(address_dict[loc][col]) \n",
    "new_df = pd.DataFrame(data_dict,index=index_list)\n",
    "df.loc[index_list,cols] = new_df.loc[index_list,cols]\n"
   ]
  },
  {
   "cell_type": "markdown",
   "id": "62b5baed-d1d2-4892-bb55-a6f8f2324c88",
   "metadata": {},
   "source": [
    "##### Double check null value count"
   ]
  },
  {
   "cell_type": "code",
   "execution_count": 165,
   "id": "0691369c-6a24-4818-9d24-33e666d34c8e",
   "metadata": {},
   "outputs": [
    {
     "name": "stdout",
     "output_type": "stream",
     "text": [
      "=== Null Count ===\n",
      "Column `street`: 17348\n",
      "Column `city`: 0\n",
      "Column `state`: 10\n",
      "Column `zip`: 58\n"
     ]
    }
   ],
   "source": [
    "# How many null value in this column\n",
    "print_null_count(df,[\"street\",\"city\",\"state\",\"zip\"])"
   ]
  },
  {
   "cell_type": "markdown",
   "id": "f3b02c5a-d27c-40ac-9a63-1af80b11b77b",
   "metadata": {
    "toc-hr-collapsed": true
   },
   "source": [
    "#### Null Value Check in `street`, `state` and `zip`"
   ]
  },
  {
   "cell_type": "code",
   "execution_count": 166,
   "id": "1f9cdb9a-39e4-4c48-a830-55b281714f85",
   "metadata": {},
   "outputs": [
    {
     "data": {
      "text/html": [
       "<div>\n",
       "<style scoped>\n",
       "    .dataframe tbody tr th:only-of-type {\n",
       "        vertical-align: middle;\n",
       "    }\n",
       "\n",
       "    .dataframe tbody tr th {\n",
       "        vertical-align: top;\n",
       "    }\n",
       "\n",
       "    .dataframe thead th {\n",
       "        text-align: right;\n",
       "    }\n",
       "</style>\n",
       "<table border=\"1\" class=\"dataframe\">\n",
       "  <thead>\n",
       "    <tr style=\"text-align: right;\">\n",
       "      <th></th>\n",
       "      <th>vin</th>\n",
       "      <th>miles</th>\n",
       "      <th>year</th>\n",
       "      <th>make</th>\n",
       "      <th>model</th>\n",
       "      <th>trim</th>\n",
       "      <th>body_type</th>\n",
       "      <th>vehicle_type</th>\n",
       "      <th>drivetrain</th>\n",
       "      <th>transmission</th>\n",
       "      <th>fuel_type</th>\n",
       "      <th>engine_size</th>\n",
       "      <th>engine_block</th>\n",
       "      <th>street</th>\n",
       "      <th>city</th>\n",
       "      <th>state</th>\n",
       "      <th>zip</th>\n",
       "      <th>price_range</th>\n",
       "    </tr>\n",
       "  </thead>\n",
       "  <tbody>\n",
       "    <tr>\n",
       "      <th>410028</th>\n",
       "      <td>5N1AR2MN8GC673487</td>\n",
       "      <td>91502.0</td>\n",
       "      <td>2016.0</td>\n",
       "      <td>Nissan</td>\n",
       "      <td>Pathfinder</td>\n",
       "      <td>Not Provided</td>\n",
       "      <td>SUV</td>\n",
       "      <td>Truck</td>\n",
       "      <td>4WD</td>\n",
       "      <td>Automatic</td>\n",
       "      <td>Unleaded</td>\n",
       "      <td>2.5</td>\n",
       "      <td>I</td>\n",
       "      <td>None</td>\n",
       "      <td>Bundamba</td>\n",
       "      <td>None</td>\n",
       "      <td>None</td>\n",
       "      <td>2</td>\n",
       "    </tr>\n",
       "    <tr>\n",
       "      <th>410286</th>\n",
       "      <td>SJNFDAJ11A1342807</td>\n",
       "      <td>24411.0</td>\n",
       "      <td>2015.0</td>\n",
       "      <td>Nissan</td>\n",
       "      <td>Not Provided</td>\n",
       "      <td>WAGON</td>\n",
       "      <td>Not Provided</td>\n",
       "      <td>Car</td>\n",
       "      <td>FWD</td>\n",
       "      <td>Automatic</td>\n",
       "      <td>Unleaded</td>\n",
       "      <td>2.5</td>\n",
       "      <td>V</td>\n",
       "      <td>None</td>\n",
       "      <td>Bundamba</td>\n",
       "      <td>None</td>\n",
       "      <td>None</td>\n",
       "      <td>2</td>\n",
       "    </tr>\n",
       "    <tr>\n",
       "      <th>410567</th>\n",
       "      <td>WAUZZZ8K9DA053414</td>\n",
       "      <td>189512.0</td>\n",
       "      <td>2012.0</td>\n",
       "      <td>Audi</td>\n",
       "      <td>A4</td>\n",
       "      <td>SEDAN</td>\n",
       "      <td>Not Provided</td>\n",
       "      <td>Car</td>\n",
       "      <td>FWD</td>\n",
       "      <td>Automatic</td>\n",
       "      <td>Premium Unleaded</td>\n",
       "      <td>2.5</td>\n",
       "      <td>I</td>\n",
       "      <td>None</td>\n",
       "      <td>Bowen Hills</td>\n",
       "      <td>None</td>\n",
       "      <td>None</td>\n",
       "      <td>2</td>\n",
       "    </tr>\n",
       "    <tr>\n",
       "      <th>411268</th>\n",
       "      <td>WAUZZZ8U0CR035658</td>\n",
       "      <td>159181.0</td>\n",
       "      <td>2012.0</td>\n",
       "      <td>Audi</td>\n",
       "      <td>Q3</td>\n",
       "      <td>QUATTRO</td>\n",
       "      <td>Wagon</td>\n",
       "      <td>Car</td>\n",
       "      <td>4WD</td>\n",
       "      <td>Automatic</td>\n",
       "      <td>Premium Unleaded</td>\n",
       "      <td>2.5</td>\n",
       "      <td>I</td>\n",
       "      <td>None</td>\n",
       "      <td>Bowen Hills</td>\n",
       "      <td>None</td>\n",
       "      <td>None</td>\n",
       "      <td>2</td>\n",
       "    </tr>\n",
       "    <tr>\n",
       "      <th>2017263</th>\n",
       "      <td>WAUZZZ8U8CR027257</td>\n",
       "      <td>112015.0</td>\n",
       "      <td>2012.0</td>\n",
       "      <td>Audi</td>\n",
       "      <td>Q3</td>\n",
       "      <td>QUATTRO</td>\n",
       "      <td>Wagon</td>\n",
       "      <td>Car</td>\n",
       "      <td>4WD</td>\n",
       "      <td>Automatic</td>\n",
       "      <td>Premium Unleaded</td>\n",
       "      <td>2.5</td>\n",
       "      <td>I</td>\n",
       "      <td>None</td>\n",
       "      <td>Bowen Hills</td>\n",
       "      <td>None</td>\n",
       "      <td>None</td>\n",
       "      <td>2</td>\n",
       "    </tr>\n",
       "    <tr>\n",
       "      <th>2021859</th>\n",
       "      <td>WDC1668242A525419</td>\n",
       "      <td>129092.0</td>\n",
       "      <td>2014.0</td>\n",
       "      <td>Mercedes-Benz</td>\n",
       "      <td>GL-Class</td>\n",
       "      <td>WAGON</td>\n",
       "      <td>Not Provided</td>\n",
       "      <td>Car</td>\n",
       "      <td>4WD</td>\n",
       "      <td>Automatic</td>\n",
       "      <td>Premium Unleaded</td>\n",
       "      <td>2.5</td>\n",
       "      <td>I</td>\n",
       "      <td>None</td>\n",
       "      <td>Bowen Hills</td>\n",
       "      <td>None</td>\n",
       "      <td>None</td>\n",
       "      <td>4</td>\n",
       "    </tr>\n",
       "    <tr>\n",
       "      <th>2021881</th>\n",
       "      <td>ZPBEA1ZL6MLA12057</td>\n",
       "      <td>2413.0</td>\n",
       "      <td>2020.0</td>\n",
       "      <td>Lamborghini</td>\n",
       "      <td>Urus</td>\n",
       "      <td>WAGON</td>\n",
       "      <td>Not Provided</td>\n",
       "      <td>Car</td>\n",
       "      <td>4WD</td>\n",
       "      <td>Automatic</td>\n",
       "      <td>Premium Unleaded</td>\n",
       "      <td>2.5</td>\n",
       "      <td>V</td>\n",
       "      <td>None</td>\n",
       "      <td>Bowen Hills</td>\n",
       "      <td>None</td>\n",
       "      <td>None</td>\n",
       "      <td>5</td>\n",
       "    </tr>\n",
       "    <tr>\n",
       "      <th>3631858</th>\n",
       "      <td>ZHWET5ZF9LLA15112</td>\n",
       "      <td>6912.0</td>\n",
       "      <td>2020.0</td>\n",
       "      <td>Lamborghini</td>\n",
       "      <td>Convertible</td>\n",
       "      <td>Spyder</td>\n",
       "      <td>Not Provided</td>\n",
       "      <td>Car</td>\n",
       "      <td>RWD</td>\n",
       "      <td>Automatic</td>\n",
       "      <td>Electric / Unleaded</td>\n",
       "      <td>2.5</td>\n",
       "      <td>I</td>\n",
       "      <td>None</td>\n",
       "      <td>Bowen Hills</td>\n",
       "      <td>None</td>\n",
       "      <td>None</td>\n",
       "      <td>5</td>\n",
       "    </tr>\n",
       "    <tr>\n",
       "      <th>5244164</th>\n",
       "      <td>SALWA2AK3KA822901</td>\n",
       "      <td>8919.0</td>\n",
       "      <td>2018.0</td>\n",
       "      <td>Land Rover</td>\n",
       "      <td>Range Rover Sport</td>\n",
       "      <td>WAGON</td>\n",
       "      <td>Not Provided</td>\n",
       "      <td>Car</td>\n",
       "      <td>4WD</td>\n",
       "      <td>Automatic</td>\n",
       "      <td>Premium Unleaded</td>\n",
       "      <td>2.5</td>\n",
       "      <td>V</td>\n",
       "      <td>None</td>\n",
       "      <td>Bowen Hills</td>\n",
       "      <td>None</td>\n",
       "      <td>None</td>\n",
       "      <td>5</td>\n",
       "    </tr>\n",
       "    <tr>\n",
       "      <th>5244944</th>\n",
       "      <td>WAUZZZ8P09A051439</td>\n",
       "      <td>138888.0</td>\n",
       "      <td>2009.0</td>\n",
       "      <td>Audi</td>\n",
       "      <td>A3</td>\n",
       "      <td>HATCHBACK</td>\n",
       "      <td>Not Provided</td>\n",
       "      <td>Car</td>\n",
       "      <td>FWD</td>\n",
       "      <td>Automatic</td>\n",
       "      <td>Premium Unleaded</td>\n",
       "      <td>2.5</td>\n",
       "      <td>I</td>\n",
       "      <td>None</td>\n",
       "      <td>Bowen Hills</td>\n",
       "      <td>None</td>\n",
       "      <td>None</td>\n",
       "      <td>1</td>\n",
       "    </tr>\n",
       "  </tbody>\n",
       "</table>\n",
       "</div>"
      ],
      "text/plain": [
       "                       vin     miles    year           make  \\\n",
       "410028   5N1AR2MN8GC673487   91502.0  2016.0         Nissan   \n",
       "410286   SJNFDAJ11A1342807   24411.0  2015.0         Nissan   \n",
       "410567   WAUZZZ8K9DA053414  189512.0  2012.0           Audi   \n",
       "411268   WAUZZZ8U0CR035658  159181.0  2012.0           Audi   \n",
       "2017263  WAUZZZ8U8CR027257  112015.0  2012.0           Audi   \n",
       "2021859  WDC1668242A525419  129092.0  2014.0  Mercedes-Benz   \n",
       "2021881  ZPBEA1ZL6MLA12057    2413.0  2020.0    Lamborghini   \n",
       "3631858  ZHWET5ZF9LLA15112    6912.0  2020.0    Lamborghini   \n",
       "5244164  SALWA2AK3KA822901    8919.0  2018.0     Land Rover   \n",
       "5244944  WAUZZZ8P09A051439  138888.0  2009.0           Audi   \n",
       "\n",
       "                     model          trim     body_type vehicle_type  \\\n",
       "410028          Pathfinder  Not Provided           SUV        Truck   \n",
       "410286        Not Provided         WAGON  Not Provided          Car   \n",
       "410567                  A4         SEDAN  Not Provided          Car   \n",
       "411268                  Q3       QUATTRO         Wagon          Car   \n",
       "2017263                 Q3       QUATTRO         Wagon          Car   \n",
       "2021859           GL-Class         WAGON  Not Provided          Car   \n",
       "2021881               Urus         WAGON  Not Provided          Car   \n",
       "3631858        Convertible        Spyder  Not Provided          Car   \n",
       "5244164  Range Rover Sport         WAGON  Not Provided          Car   \n",
       "5244944                 A3     HATCHBACK  Not Provided          Car   \n",
       "\n",
       "        drivetrain transmission            fuel_type  engine_size  \\\n",
       "410028         4WD    Automatic             Unleaded          2.5   \n",
       "410286         FWD    Automatic             Unleaded          2.5   \n",
       "410567         FWD    Automatic     Premium Unleaded          2.5   \n",
       "411268         4WD    Automatic     Premium Unleaded          2.5   \n",
       "2017263        4WD    Automatic     Premium Unleaded          2.5   \n",
       "2021859        4WD    Automatic     Premium Unleaded          2.5   \n",
       "2021881        4WD    Automatic     Premium Unleaded          2.5   \n",
       "3631858        RWD    Automatic  Electric / Unleaded          2.5   \n",
       "5244164        4WD    Automatic     Premium Unleaded          2.5   \n",
       "5244944        FWD    Automatic     Premium Unleaded          2.5   \n",
       "\n",
       "        engine_block street         city state   zip  price_range  \n",
       "410028             I   None     Bundamba  None  None            2  \n",
       "410286             V   None     Bundamba  None  None            2  \n",
       "410567             I   None  Bowen Hills  None  None            2  \n",
       "411268             I   None  Bowen Hills  None  None            2  \n",
       "2017263            I   None  Bowen Hills  None  None            2  \n",
       "2021859            I   None  Bowen Hills  None  None            4  \n",
       "2021881            V   None  Bowen Hills  None  None            5  \n",
       "3631858            I   None  Bowen Hills  None  None            5  \n",
       "5244164            V   None  Bowen Hills  None  None            5  \n",
       "5244944            I   None  Bowen Hills  None  None            1  "
      ]
     },
     "execution_count": 166,
     "metadata": {},
     "output_type": "execute_result"
    }
   ],
   "source": [
    "df[(df[\"state\"].isna())&(df[\"street\"].isna())&(df[\"zip\"].isna())]"
   ]
  },
  {
   "cell_type": "markdown",
   "id": "08d409c4-ea9d-474f-a3a8-d5f559498ec9",
   "metadata": {},
   "source": [
    "<div style=\"border-radius:10px; border: #ffd500 solid; padding: 15px; background-color: #ffffcf; font-size:100%; text-align:left\">\n",
    "<font size=\"4px\" color=\"#ffa600\"><b>⚠️ Note:</b></font>\n",
    "\n",
    "- For these records with `city` available only, it is impossible to retireve other columns information. So we will drop them.\n",
    "                    \n",
    "<div>"
   ]
  },
  {
   "cell_type": "code",
   "execution_count": 167,
   "id": "0086542c-7fa5-4709-b16e-d8daa2769cb1",
   "metadata": {},
   "outputs": [],
   "source": [
    "df.dropna(subset=[\"state\",\"street\",\"zip\"],how=\"all\",inplace = True)"
   ]
  },
  {
   "cell_type": "markdown",
   "id": "3c202740-87a8-402a-a9aa-b6fdf0ecb6c4",
   "metadata": {},
   "source": [
    "##### Double check null value count"
   ]
  },
  {
   "cell_type": "code",
   "execution_count": 168,
   "id": "4cca89cc-0df7-4f01-9307-f07cf7416923",
   "metadata": {},
   "outputs": [
    {
     "name": "stdout",
     "output_type": "stream",
     "text": [
      "=== Null Count ===\n",
      "Column `street`: 17338\n",
      "Column `city`: 0\n",
      "Column `state`: 0\n",
      "Column `zip`: 48\n"
     ]
    }
   ],
   "source": [
    "# How many null value in these columns\n",
    "print_null_count(df,[\"street\",\"city\",\"state\",\"zip\"])"
   ]
  },
  {
   "cell_type": "code",
   "execution_count": 169,
   "id": "1c37f191-32c6-464c-943d-02d893ef5f7f",
   "metadata": {
    "tags": []
   },
   "outputs": [
    {
     "data": {
      "text/html": [
       "<div>\n",
       "<style scoped>\n",
       "    .dataframe tbody tr th:only-of-type {\n",
       "        vertical-align: middle;\n",
       "    }\n",
       "\n",
       "    .dataframe tbody tr th {\n",
       "        vertical-align: top;\n",
       "    }\n",
       "\n",
       "    .dataframe thead th {\n",
       "        text-align: right;\n",
       "    }\n",
       "</style>\n",
       "<table border=\"1\" class=\"dataframe\">\n",
       "  <thead>\n",
       "    <tr style=\"text-align: right;\">\n",
       "      <th></th>\n",
       "      <th>vin</th>\n",
       "      <th>miles</th>\n",
       "      <th>year</th>\n",
       "      <th>make</th>\n",
       "      <th>model</th>\n",
       "      <th>trim</th>\n",
       "      <th>body_type</th>\n",
       "      <th>vehicle_type</th>\n",
       "      <th>drivetrain</th>\n",
       "      <th>transmission</th>\n",
       "      <th>fuel_type</th>\n",
       "      <th>engine_size</th>\n",
       "      <th>engine_block</th>\n",
       "      <th>street</th>\n",
       "      <th>city</th>\n",
       "      <th>state</th>\n",
       "      <th>zip</th>\n",
       "      <th>price_range</th>\n",
       "    </tr>\n",
       "  </thead>\n",
       "  <tbody>\n",
       "    <tr>\n",
       "      <th>680771</th>\n",
       "      <td>KMHD84LF3JU626116</td>\n",
       "      <td>36820.0</td>\n",
       "      <td>2018.0</td>\n",
       "      <td>Hyundai</td>\n",
       "      <td>Elantra</td>\n",
       "      <td>Limited</td>\n",
       "      <td>Sedan</td>\n",
       "      <td>Car</td>\n",
       "      <td>FWD</td>\n",
       "      <td>Automatic</td>\n",
       "      <td>Unleaded</td>\n",
       "      <td>2.0</td>\n",
       "      <td>I</td>\n",
       "      <td>None</td>\n",
       "      <td>Ajax</td>\n",
       "      <td>ON</td>\n",
       "      <td>None</td>\n",
       "      <td>1</td>\n",
       "    </tr>\n",
       "    <tr>\n",
       "      <th>729677</th>\n",
       "      <td>JN1EV7AR4JM438272</td>\n",
       "      <td>17777.0</td>\n",
       "      <td>2018.0</td>\n",
       "      <td>INFINITI</td>\n",
       "      <td>Q50</td>\n",
       "      <td>Sport</td>\n",
       "      <td>Sedan</td>\n",
       "      <td>Car</td>\n",
       "      <td>4WD</td>\n",
       "      <td>Automatic</td>\n",
       "      <td>Premium Unleaded</td>\n",
       "      <td>3.0</td>\n",
       "      <td>V</td>\n",
       "      <td>None</td>\n",
       "      <td>Ajax</td>\n",
       "      <td>ON</td>\n",
       "      <td>None</td>\n",
       "      <td>3</td>\n",
       "    </tr>\n",
       "    <tr>\n",
       "      <th>832256</th>\n",
       "      <td>3VWG57AU2KM025845</td>\n",
       "      <td>46139.0</td>\n",
       "      <td>2019.0</td>\n",
       "      <td>Volkswagen</td>\n",
       "      <td>Golf</td>\n",
       "      <td>TSI S</td>\n",
       "      <td>Hatchback</td>\n",
       "      <td>Car</td>\n",
       "      <td>FWD</td>\n",
       "      <td>Automatic</td>\n",
       "      <td>Unleaded</td>\n",
       "      <td>1.4</td>\n",
       "      <td>I</td>\n",
       "      <td>None</td>\n",
       "      <td>Ajax</td>\n",
       "      <td>ON</td>\n",
       "      <td>None</td>\n",
       "      <td>2</td>\n",
       "    </tr>\n",
       "    <tr>\n",
       "      <th>837925</th>\n",
       "      <td>3VWG57AU5KM024401</td>\n",
       "      <td>33912.0</td>\n",
       "      <td>2019.0</td>\n",
       "      <td>Volkswagen</td>\n",
       "      <td>Golf</td>\n",
       "      <td>TSI S</td>\n",
       "      <td>Hatchback</td>\n",
       "      <td>Car</td>\n",
       "      <td>FWD</td>\n",
       "      <td>Automatic</td>\n",
       "      <td>Unleaded</td>\n",
       "      <td>1.4</td>\n",
       "      <td>I</td>\n",
       "      <td>None</td>\n",
       "      <td>Ajax</td>\n",
       "      <td>ON</td>\n",
       "      <td>None</td>\n",
       "      <td>2</td>\n",
       "    </tr>\n",
       "    <tr>\n",
       "      <th>1288171</th>\n",
       "      <td>5N1AT2MT9LC715255</td>\n",
       "      <td>9.0</td>\n",
       "      <td>2020.0</td>\n",
       "      <td>Nissan</td>\n",
       "      <td>Rogue</td>\n",
       "      <td>S</td>\n",
       "      <td>SUV</td>\n",
       "      <td>Truck</td>\n",
       "      <td>FWD</td>\n",
       "      <td>Automatic</td>\n",
       "      <td>Unleaded</td>\n",
       "      <td>2.5</td>\n",
       "      <td>I</td>\n",
       "      <td>None</td>\n",
       "      <td>Ajax</td>\n",
       "      <td>ON</td>\n",
       "      <td>None</td>\n",
       "      <td>2</td>\n",
       "    </tr>\n",
       "  </tbody>\n",
       "</table>\n",
       "</div>"
      ],
      "text/plain": [
       "                       vin    miles    year        make    model     trim  \\\n",
       "680771   KMHD84LF3JU626116  36820.0  2018.0     Hyundai  Elantra  Limited   \n",
       "729677   JN1EV7AR4JM438272  17777.0  2018.0    INFINITI      Q50    Sport   \n",
       "832256   3VWG57AU2KM025845  46139.0  2019.0  Volkswagen     Golf    TSI S   \n",
       "837925   3VWG57AU5KM024401  33912.0  2019.0  Volkswagen     Golf    TSI S   \n",
       "1288171  5N1AT2MT9LC715255      9.0  2020.0      Nissan    Rogue        S   \n",
       "\n",
       "         body_type vehicle_type drivetrain transmission         fuel_type  \\\n",
       "680771       Sedan          Car        FWD    Automatic          Unleaded   \n",
       "729677       Sedan          Car        4WD    Automatic  Premium Unleaded   \n",
       "832256   Hatchback          Car        FWD    Automatic          Unleaded   \n",
       "837925   Hatchback          Car        FWD    Automatic          Unleaded   \n",
       "1288171        SUV        Truck        FWD    Automatic          Unleaded   \n",
       "\n",
       "         engine_size engine_block street  city state   zip  price_range  \n",
       "680771           2.0            I   None  Ajax    ON  None            1  \n",
       "729677           3.0            V   None  Ajax    ON  None            3  \n",
       "832256           1.4            I   None  Ajax    ON  None            2  \n",
       "837925           1.4            I   None  Ajax    ON  None            2  \n",
       "1288171          2.5            I   None  Ajax    ON  None            2  "
      ]
     },
     "execution_count": 169,
     "metadata": {},
     "output_type": "execute_result"
    }
   ],
   "source": [
    "df[df[\"zip\"].isna()].head(5)"
   ]
  },
  {
   "cell_type": "markdown",
   "id": "aa363599-9054-4c90-9b4d-b80c3d192a9a",
   "metadata": {
    "toc-hr-collapsed": true
   },
   "source": [
    "#### Drop columns `street` and `zip` "
   ]
  },
  {
   "cell_type": "markdown",
   "id": "845daddf-cf02-435e-aee1-c09fd2b9879f",
   "metadata": {},
   "source": [
    "<div style=\"border-radius:10px; border: #ffd500 solid; padding: 15px; background-color: #ffffcf; font-size:100%; text-align:left\">\n",
    "<font size=\"4px\" color=\"#ffa600\"><b>⚠️ Note:</b></font>\n",
    "\n",
    "- As `street` and `zip` are both related to the dealers, we can drop them now.\n",
    "                    \n",
    "<div>"
   ]
  },
  {
   "cell_type": "code",
   "execution_count": 170,
   "id": "35cfce9c-0a02-42bb-bafe-4a4604413bd0",
   "metadata": {},
   "outputs": [],
   "source": [
    "df.drop(columns=[\"street\",\"zip\"],inplace=True)"
   ]
  },
  {
   "cell_type": "code",
   "execution_count": 171,
   "id": "77c79fa2-2408-4803-8a7c-e06499514fb8",
   "metadata": {},
   "outputs": [
    {
     "data": {
      "text/html": [
       "<div>\n",
       "<style scoped>\n",
       "    .dataframe tbody tr th:only-of-type {\n",
       "        vertical-align: middle;\n",
       "    }\n",
       "\n",
       "    .dataframe tbody tr th {\n",
       "        vertical-align: top;\n",
       "    }\n",
       "\n",
       "    .dataframe thead th {\n",
       "        text-align: right;\n",
       "    }\n",
       "</style>\n",
       "<table border=\"1\" class=\"dataframe\">\n",
       "  <thead>\n",
       "    <tr style=\"text-align: right;\">\n",
       "      <th></th>\n",
       "      <th>vin</th>\n",
       "      <th>miles</th>\n",
       "      <th>year</th>\n",
       "      <th>make</th>\n",
       "      <th>model</th>\n",
       "      <th>trim</th>\n",
       "      <th>body_type</th>\n",
       "      <th>vehicle_type</th>\n",
       "      <th>drivetrain</th>\n",
       "      <th>transmission</th>\n",
       "      <th>fuel_type</th>\n",
       "      <th>engine_size</th>\n",
       "      <th>engine_block</th>\n",
       "      <th>city</th>\n",
       "      <th>state</th>\n",
       "      <th>price_range</th>\n",
       "    </tr>\n",
       "  </thead>\n",
       "  <tbody>\n",
       "    <tr>\n",
       "      <th>0</th>\n",
       "      <td>19UNC1B01HY800062</td>\n",
       "      <td>9966.0</td>\n",
       "      <td>2017.0</td>\n",
       "      <td>Acura</td>\n",
       "      <td>NSX</td>\n",
       "      <td>Base</td>\n",
       "      <td>Coupe</td>\n",
       "      <td>Car</td>\n",
       "      <td>4WD</td>\n",
       "      <td>Automatic</td>\n",
       "      <td>Electric / Premium Unleaded</td>\n",
       "      <td>3.5</td>\n",
       "      <td>V</td>\n",
       "      <td>Edmundston</td>\n",
       "      <td>NB</td>\n",
       "      <td>5</td>\n",
       "    </tr>\n",
       "    <tr>\n",
       "      <th>1</th>\n",
       "      <td>19UNC1B02HY800023</td>\n",
       "      <td>5988.0</td>\n",
       "      <td>2017.0</td>\n",
       "      <td>Acura</td>\n",
       "      <td>NSX</td>\n",
       "      <td>Base</td>\n",
       "      <td>Coupe</td>\n",
       "      <td>Car</td>\n",
       "      <td>4WD</td>\n",
       "      <td>Automatic</td>\n",
       "      <td>Electric / Premium Unleaded</td>\n",
       "      <td>3.5</td>\n",
       "      <td>V</td>\n",
       "      <td>Notre-dame-des-pins</td>\n",
       "      <td>QC</td>\n",
       "      <td>5</td>\n",
       "    </tr>\n",
       "    <tr>\n",
       "      <th>2</th>\n",
       "      <td>19UNC1B02HY800071</td>\n",
       "      <td>24242.0</td>\n",
       "      <td>2017.0</td>\n",
       "      <td>Acura</td>\n",
       "      <td>NSX</td>\n",
       "      <td>Base</td>\n",
       "      <td>Coupe</td>\n",
       "      <td>Car</td>\n",
       "      <td>4WD</td>\n",
       "      <td>Automatic</td>\n",
       "      <td>Electric / Premium Unleaded</td>\n",
       "      <td>3.5</td>\n",
       "      <td>V</td>\n",
       "      <td>Coquitlam</td>\n",
       "      <td>BC</td>\n",
       "      <td>5</td>\n",
       "    </tr>\n",
       "    <tr>\n",
       "      <th>3</th>\n",
       "      <td>19UNC1B02LY800001</td>\n",
       "      <td>6637.0</td>\n",
       "      <td>2020.0</td>\n",
       "      <td>Acura</td>\n",
       "      <td>NSX</td>\n",
       "      <td>Base</td>\n",
       "      <td>Coupe</td>\n",
       "      <td>Car</td>\n",
       "      <td>4WD</td>\n",
       "      <td>Automatic</td>\n",
       "      <td>Electric / Premium Unleaded</td>\n",
       "      <td>3.5</td>\n",
       "      <td>V</td>\n",
       "      <td>Pickering</td>\n",
       "      <td>ON</td>\n",
       "      <td>5</td>\n",
       "    </tr>\n",
       "    <tr>\n",
       "      <th>4</th>\n",
       "      <td>19UNC1B02LY800001</td>\n",
       "      <td>6637.0</td>\n",
       "      <td>2020.0</td>\n",
       "      <td>Acura</td>\n",
       "      <td>NSX</td>\n",
       "      <td>Base</td>\n",
       "      <td>Coupe</td>\n",
       "      <td>Car</td>\n",
       "      <td>4WD</td>\n",
       "      <td>Automatic</td>\n",
       "      <td>Electric / Premium Unleaded</td>\n",
       "      <td>3.5</td>\n",
       "      <td>V</td>\n",
       "      <td>Pickering</td>\n",
       "      <td>ON</td>\n",
       "      <td>5</td>\n",
       "    </tr>\n",
       "  </tbody>\n",
       "</table>\n",
       "</div>"
      ],
      "text/plain": [
       "                 vin    miles    year   make model  trim body_type  \\\n",
       "0  19UNC1B01HY800062   9966.0  2017.0  Acura   NSX  Base     Coupe   \n",
       "1  19UNC1B02HY800023   5988.0  2017.0  Acura   NSX  Base     Coupe   \n",
       "2  19UNC1B02HY800071  24242.0  2017.0  Acura   NSX  Base     Coupe   \n",
       "3  19UNC1B02LY800001   6637.0  2020.0  Acura   NSX  Base     Coupe   \n",
       "4  19UNC1B02LY800001   6637.0  2020.0  Acura   NSX  Base     Coupe   \n",
       "\n",
       "  vehicle_type drivetrain transmission                    fuel_type  \\\n",
       "0          Car        4WD    Automatic  Electric / Premium Unleaded   \n",
       "1          Car        4WD    Automatic  Electric / Premium Unleaded   \n",
       "2          Car        4WD    Automatic  Electric / Premium Unleaded   \n",
       "3          Car        4WD    Automatic  Electric / Premium Unleaded   \n",
       "4          Car        4WD    Automatic  Electric / Premium Unleaded   \n",
       "\n",
       "   engine_size engine_block                 city state  price_range  \n",
       "0          3.5            V           Edmundston    NB            5  \n",
       "1          3.5            V  Notre-dame-des-pins    QC            5  \n",
       "2          3.5            V            Coquitlam    BC            5  \n",
       "3          3.5            V            Pickering    ON            5  \n",
       "4          3.5            V            Pickering    ON            5  "
      ]
     },
     "execution_count": 171,
     "metadata": {},
     "output_type": "execute_result"
    }
   ],
   "source": [
    "# Have a look on the remaining df\n",
    "df.head()"
   ]
  },
  {
   "cell_type": "markdown",
   "id": "627101a8-52d3-440b-8225-3f2d2ffa876c",
   "metadata": {
    "tags": [],
    "toc-hr-collapsed": true
   },
   "source": [
    "<div style=\"border-radius:10px; border:#33a0ff solid; padding: 15px; background-color: #f0f1ff; font-size:100%; text-align:left\">\n",
    "<a class=\"anchor\" id=\"1-save-cleaned\">\n",
    "    <h3> Save the cleaned data in parquet format </h3>\n",
    "</a>\n",
    "</div>"
   ]
  },
  {
   "cell_type": "code",
   "execution_count": 172,
   "id": "c9728c25-e744-49f4-9a8c-df83572004ca",
   "metadata": {},
   "outputs": [
    {
     "data": {
      "text/plain": [
       "vin             0\n",
       "miles           0\n",
       "year            0\n",
       "make            0\n",
       "model           0\n",
       "trim            0\n",
       "body_type       0\n",
       "vehicle_type    0\n",
       "drivetrain      0\n",
       "transmission    0\n",
       "fuel_type       0\n",
       "engine_size     0\n",
       "engine_block    0\n",
       "city            0\n",
       "state           0\n",
       "price_range     0\n",
       "dtype: int64"
      ]
     },
     "execution_count": 172,
     "metadata": {},
     "output_type": "execute_result"
    }
   ],
   "source": [
    "# Sanity Check before saving\n",
    "df.isna().sum()"
   ]
  },
  {
   "cell_type": "code",
   "execution_count": 173,
   "id": "b9cc4245-76ce-49f9-967a-ab18d51582a4",
   "metadata": {},
   "outputs": [
    {
     "name": "stdout",
     "output_type": "stream",
     "text": [
      "Cleaned Data Saved...\n"
     ]
    }
   ],
   "source": [
    "# Remove duplicates\n",
    "df.drop_duplicates(inplace=True)\n",
    "\n",
    "# Save as parquet\n",
    "df.to_parquet(path=\"data/cleaned-data.parquet\",\n",
    "              index = False)\n",
    "print(\"Cleaned Data Saved...\")"
   ]
  },
  {
   "cell_type": "markdown",
   "id": "8bd44802-21aa-496e-900e-1373bd9d9fce",
   "metadata": {},
   "source": [
    "[Back-to-top](#1-toc)\n",
    "\n",
    "---"
   ]
  },
  {
   "cell_type": "markdown",
   "id": "fd004190-80ac-48be-bb40-85a60b710df8",
   "metadata": {
    "tags": [],
    "toc-hr-collapsed": true
   },
   "source": [
    "<div style=\"border-radius:10px; border: #ffd500 solid; padding: 15px; background-color: #ffffcf; font-size:100%; text-align:left\">\n",
    "<a class=\"anchor\" id=\"1-learn\">\n",
    "    <h2> Learning / Takeaway </h2>\n",
    "</a>\n",
    "</div>"
   ]
  },
  {
   "cell_type": "markdown",
   "id": "76f9b16a-0a62-4714-95b4-f830deef376a",
   "metadata": {
    "tags": [],
    "toc-hr-collapsed": true
   },
   "source": [
    "<div style=\"border-radius:10px; border: #ffd500 solid; padding: 15px; background-color: #ffffcf; font-size:100%; text-align:left\">\n",
    "<a class=\"anchor\">\n",
    "    <h3> Data Imputation Methods</h3>\n",
    "</a>\n",
    "<br>\n",
    "    <b>Imputation</b> methods in machine learning refer to techniques used to **handle missing data** in datasets. Missing data can be a common issue in real-world datasets and can adversely affect the performance of machine learning models. Imputation methods are essential for filling in or estimating missing values to ensure that your models can make accurate predictions. After conducting some research, here is the summary of different imputation methods:\n",
    "    \n",
    "<ol>\n",
    "    <li><b>Mean/Median Imputation</b></li>\n",
    "    <ul>\n",
    "        <li><p><b>How to do:</b> In this method, missing values are replaced with the mean or median of the observed values in the same feature.</p></li>\n",
    "        <li><p><b>When to use:</b> Mean or median imputation is suitable for numerical features with missing values when the distribution of the data is relatively <b>normal</b>.</p></li>\n",
    "        <li><p><b>Pros:</b> Simple and quick to implement. </p></li>\n",
    "        <li><p><b>Cons:</b> May not be suitable for skewed distributions.</p></li>        \n",
    "    </ul>\n",
    "    <li><b>Mode Imputation</b></li>\n",
    "    <ul>\n",
    "        <li><p><b>How to do:</b> For categorical features, you can replace missing values with the most frequent category (mode) in that feature.</p></li>\n",
    "        <li><p><b>When to use:</b> Mode imputation is suitable for categorical features where <b>one category is predominant</b>.</p></li>\n",
    "        <li><p><b>Pros:</b> Simple and suitable for categorical features.</p></li>\n",
    "        <li><p><b>Cons:</b> Not suitable for features with multiple modes. Ignores relationships between features.</p></li>        \n",
    "    </ul>\n",
    "    <li><b>Forward Fill and Backward Fill Imputation</b></li>\n",
    "    <ul>\n",
    "        <li><p><b>How to do:</b>  In time series data, missing values can be filled using the most recent non-missing value (forward fill) or the next non-missing value (backward fill).</p></li>\n",
    "        <li><p><b>When to use:</b> This method is useful when dealing with time series data, where <b>the order of observations matters</b>.</p></li>\n",
    "        <li><p><b>Pros:</b> Preserves the temporal order of observations.</p></li>\n",
    "        <li><p><b>Cons:</b> May not be suitable for irregularly sampled time series.</p></li>        \n",
    "    </ul>\n",
    "    <li><b>K-Nearest Neighbors (KNN) Imputation</b></li>\n",
    "    <ul>\n",
    "        <li><p><b>How to do:</b> KNN imputation estimates missing values by considering the values of k-nearest neighbors based on the available features.</p></li>\n",
    "        <li><p><b>When to use:</b> KNN imputation can be used when the relationships between data points are important, and you want to consider the similarity between data points.</p></li>\n",
    "        <li><p><b>Pros:</b> Considers relationships between features.</p></li>\n",
    "        <li><p><b>Cons:</b> Computationally expensive for large datasets. Sensitivity to irrelevant features and outliers.</p></li>        \n",
    "    </ul>\n",
    "    <li><b>Regression Imputation</b></li>\n",
    "    <ul>\n",
    "        <li><p><b>How to do:</b> This method uses regression models (e.g., linear regression) to predict missing values based on the relationships with other features.</p></li>\n",
    "        <li><p><b>When to use:</b> Regression imputation is suitable for cases where features are interrelated, and you want to use these relationships to estimate missing values.</p></li>\n",
    "        <li><p><b>Pros:</b> Utilizes relationships between features.</p></li>\n",
    "        <li><p><b>Cons:</b> Assumes a linear relationship between features. Sensitive to outliers.</p></li>        \n",
    "    </ul>\n",
    "    <li><b>Custom Imputation Strategies</b></li>\n",
    "    <ul>\n",
    "        <li><p><b>How to do:</b> Depending on the domain and specific dataset, you can design custom imputation strategies. These might involve more complex algorithms, domain knowledge, or business rules.</p></li>\n",
    "        <li><p><b>When to use:</b> Custom imputation is used when standard methods are insufficient, and you have a deeper understanding of the dataset.</p></li>\n",
    "        <li><p><b>Pros:</b> Can handle unique characteristics of the dataset.</p></li>\n",
    "        <li><p><b>Cons:</b> Requires in-depth domain expertise. May not be applicable to other datasets.</p></li>        \n",
    "    </ul>\n",
    "    \n",
    "</ol>\n",
    "\n",
    "</div>"
   ]
  },
  {
   "cell_type": "markdown",
   "id": "d5dbce8a-09b2-492e-a313-2d634837b3b2",
   "metadata": {},
   "source": [
    "[Back-to-top](#1-toc)\n",
    "\n",
    "---"
   ]
  }
 ],
 "metadata": {
  "kernelspec": {
   "display_name": "Python 3 (ipykernel)",
   "language": "python",
   "name": "python3"
  },
  "language_info": {
   "codemirror_mode": {
    "name": "ipython",
    "version": 3
   },
   "file_extension": ".py",
   "mimetype": "text/x-python",
   "name": "python",
   "nbconvert_exporter": "python",
   "pygments_lexer": "ipython3",
   "version": "3.11.5"
  },
  "toc-autonumbering": true,
  "toc-showcode": false,
  "toc-showmarkdowntxt": false,
  "toc-showtags": true
 },
 "nbformat": 4,
 "nbformat_minor": 5
}
