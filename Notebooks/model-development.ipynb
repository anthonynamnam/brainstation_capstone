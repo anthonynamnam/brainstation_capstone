{
 "cells": [
  {
   "cell_type": "markdown",
   "id": "d37323f6-3a23-4dd6-b16e-61ca03744319",
   "metadata": {},
   "source": [
    "# Used Car Listing Price Range Prediction"
   ]
  },
  {
   "cell_type": "markdown",
   "id": "10c8230d-5f81-4749-ab6a-28b9c7ffadc6",
   "metadata": {},
   "source": [
    "---"
   ]
  },
  {
   "cell_type": "markdown",
   "id": "e86bb614-e88a-4816-af86-5b4fc07e89de",
   "metadata": {},
   "source": [
    "<center><img src=\"https://raw.githubusercontent.com/anthonynamnam/anthonynamnam/main/icons/image/car-banner.png\" alt=\"memes\" width=\"600\" /></center>"
   ]
  },
  {
   "cell_type": "markdown",
   "id": "52e8d107-63df-4835-9e5a-f6ac8e888cbf",
   "metadata": {},
   "source": [
    "---"
   ]
  },
  {
   "cell_type": "markdown",
   "id": "9f2cbc10-8f4c-4158-8a14-149f8f86d883",
   "metadata": {
    "tags": [],
    "toc-hr-collapsed": true
   },
   "source": [
    "## Project Overview <a class=\"anchor\" id=\"overview\"></a>"
   ]
  },
  {
   "cell_type": "markdown",
   "id": "0b3b1cc2-2589-49aa-a6ad-ed772b57b9ae",
   "metadata": {},
   "source": [
    "Please kindly refer to the github repo of this project: [Link](https://github.com/anthonynamnam/brainstation_capstone#project-overview)"
   ]
  },
  {
   "cell_type": "markdown",
   "id": "ccbab169-a8f8-434d-991d-88b15961608d",
   "metadata": {},
   "source": [
    "\n",
    "---"
   ]
  },
  {
   "cell_type": "markdown",
   "id": "7506d0c7-b386-4d99-8148-22770b4534c7",
   "metadata": {
    "tags": [],
    "toc-hr-collapsed": true
   },
   "source": [
    "## Notebook Overview <a class=\"anchor\" id=\"overview\"></a>"
   ]
  },
  {
   "cell_type": "markdown",
   "id": "a3cb15ad-0488-46dc-9a90-304f3f589045",
   "metadata": {},
   "source": [
    "In this notebook, we will go through part of our project, which is the sprint 1 of our project.\n",
    "\n",
    "Sprint 1 Content:\n",
    "- Understand Data \n",
    "- Data Assessment\n",
    "- Data Cleaning\n",
    "- Data Preprocessing\n",
    "- Exploratory Data Analysis\n",
    "\n",
    "Next Sprint:\n",
    "- Hypothese Testing\n",
    "- Feature Engineering\n",
    "- Feature Selection\n",
    "- Baseline Modelling\n",
    "- Model Development"
   ]
  },
  {
   "cell_type": "markdown",
   "id": "bcc0c18b-b050-4d2d-b3f8-e1660f9e8a3b",
   "metadata": {},
   "source": [
    "\n",
    "---"
   ]
  },
  {
   "cell_type": "markdown",
   "id": "b34b703f-009c-452d-9c96-bc8d13b60fb9",
   "metadata": {
    "tags": [],
    "toc-hr-collapsed": true
   },
   "source": [
    "## Table of Contents <a class=\"anchor\" id=\"toc\"></a>"
   ]
  },
  {
   "cell_type": "code",
   "execution_count": null,
   "id": "cc191d34-3b80-4d4c-a13e-ba4128b7b6fe",
   "metadata": {},
   "outputs": [],
   "source": [
    "!pip install sklearn"
   ]
  },
  {
   "cell_type": "code",
   "execution_count": 1,
   "id": "82d3c0a8-5ab8-413a-8322-449eef60bbb1",
   "metadata": {},
   "outputs": [
    {
     "name": "stdout",
     "output_type": "stream",
     "text": [
      "1.0.2\n"
     ]
    }
   ],
   "source": [
    "import sklearn\n",
    "print(sklearn.__version__)"
   ]
  },
  {
   "cell_type": "markdown",
   "id": "4e1f9d3a-2898-4fdc-9f3f-093ddbb81a22",
   "metadata": {},
   "source": [
    "---"
   ]
  },
  {
   "cell_type": "markdown",
   "id": "39428ed6-d410-4740-8d4d-5195c730dffb",
   "metadata": {
    "tags": [],
    "toc-hr-collapsed": true
   },
   "source": [
    "## Possible Model <a class=\"anchor\" id=\"md-models\"></a>"
   ]
  },
  {
   "cell_type": "markdown",
   "id": "6be43942-35d8-46e1-a3ec-5f6d82e0c72c",
   "metadata": {},
   "source": [
    "[sklearn](#https://scikit-learn.org/stable/modules/classes.html)"
   ]
  },
  {
   "cell_type": "markdown",
   "id": "6bb94c1e-145c-4e9d-b8b4-5704c635ae11",
   "metadata": {},
   "source": [
    "#### Machine Learning Models"
   ]
  },
  {
   "cell_type": "markdown",
   "id": "55dee85c-d71c-4c85-b125-6374d1673442",
   "metadata": {},
   "source": [
    "- Logistic Regression (Baseline model)\n",
    "- Naive Bayes\n",
    "- Support Vector Classifier\n",
    "- Boosting Classifier\n",
    "- K-nearest Neighbor\n",
    "- Random Forest (Ensemble Model of Decision Tree)\n",
    "- Isolation Forest"
   ]
  },
  {
   "cell_type": "markdown",
   "id": "e59defe4-30fc-4ec3-9d53-555b53bab506",
   "metadata": {},
   "source": []
  },
  {
   "cell_type": "markdown",
   "id": "d4c3fd0f-b90d-4dfa-99a8-180f8759e638",
   "metadata": {},
   "source": [
    "#### Deep Learning Models"
   ]
  },
  {
   "cell_type": "markdown",
   "id": "287c9cc1-6fa0-499e-afee-235e4598be31",
   "metadata": {},
   "source": [
    "- Neural Network with softmax func\n",
    "- LSTM\n",
    "- Transformer"
   ]
  },
  {
   "cell_type": "markdown",
   "id": "b0e1e0b9-cc28-4be9-b088-431eaa5f08e6",
   "metadata": {},
   "source": []
  },
  {
   "cell_type": "markdown",
   "id": "823944c1-996b-480f-bad6-04c599857475",
   "metadata": {},
   "source": [
    "[Back-to-top](#toc)\n",
    "\n",
    "---"
   ]
  },
  {
   "cell_type": "code",
   "execution_count": null,
   "id": "13ce0d21-6681-497f-be6a-59962b6b2cf3",
   "metadata": {},
   "outputs": [],
   "source": []
  },
  {
   "cell_type": "code",
   "execution_count": null,
   "id": "04d44db2-2372-4673-bc85-f5d25cf80e52",
   "metadata": {},
   "outputs": [],
   "source": []
  },
  {
   "cell_type": "code",
   "execution_count": null,
   "id": "01d04d3f-a267-49a5-9750-f84ea1fd5e20",
   "metadata": {},
   "outputs": [],
   "source": []
  },
  {
   "cell_type": "markdown",
   "id": "1b16ceb2-8f3c-4b34-8af1-9c73704bef8e",
   "metadata": {},
   "source": [
    "#### Multi processing fitting"
   ]
  },
  {
   "cell_type": "code",
   "execution_count": null,
   "id": "8c42a888-e108-4b02-9592-91f8a8bad51f",
   "metadata": {},
   "outputs": [],
   "source": []
  },
  {
   "cell_type": "code",
   "execution_count": null,
   "id": "169fb72c-d565-4d40-9471-c2da18a9c0eb",
   "metadata": {},
   "outputs": [],
   "source": []
  },
  {
   "cell_type": "code",
   "execution_count": null,
   "id": "56111488-1066-486c-9c35-eec253f720a9",
   "metadata": {},
   "outputs": [],
   "source": []
  },
  {
   "cell_type": "code",
   "execution_count": null,
   "id": "5a5de870-8301-4e97-a589-782c7d0095cd",
   "metadata": {},
   "outputs": [],
   "source": []
  },
  {
   "cell_type": "code",
   "execution_count": null,
   "id": "fc699d74-4fdd-47da-a680-11d1adda4cf2",
   "metadata": {},
   "outputs": [],
   "source": []
  },
  {
   "cell_type": "code",
   "execution_count": null,
   "id": "1b70e289-76a3-49ec-8891-b9630c5c9413",
   "metadata": {},
   "outputs": [],
   "source": []
  },
  {
   "cell_type": "code",
   "execution_count": null,
   "id": "2727ea99-b48b-492c-92a8-82f6854f2e95",
   "metadata": {},
   "outputs": [],
   "source": []
  }
 ],
 "metadata": {
  "kernelspec": {
   "display_name": "Python 3",
   "language": "python",
   "name": "python3"
  },
  "language_info": {
   "codemirror_mode": {
    "name": "ipython",
    "version": 3
   },
   "file_extension": ".py",
   "mimetype": "text/x-python",
   "name": "python",
   "nbconvert_exporter": "python",
   "pygments_lexer": "ipython3",
   "version": "3.9.18"
  },
  "toc-autonumbering": true,
  "toc-showcode": false,
  "toc-showmarkdowntxt": false,
  "toc-showtags": true
 },
 "nbformat": 4,
 "nbformat_minor": 5
}
